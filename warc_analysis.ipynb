{
 "cells": [
  {
   "cell_type": "markdown",
   "id": "0751d85d-5900-4f05-80f9-4393dccd38a2",
   "metadata": {},
   "source": [
    "# Smart WARC Duplicator Removal — Build-As-You-Learn\n",
    "\n",
    "This notebook is a clean, step-by-step build of the project:\n",
    "1) **Fetch a list form common crawl**  \n",
    "2) **WARC read (charset-aware)**  \n",
    "3) **HTML → clean text (Unicode-safe)**  \n",
    "4) **Quick analysis** (domain counts, length stats)  \n",
    "5) **Dedup** (exact hash)  \n",
    "6) **Near-dup** (SimHash first; MinHash/LSH later)  \n",
    "7) **Export** (JSONL: all + representatives + summary)\n",
    "\n",
    "> We’ll keep each step small and well-documented. When we fully understand it, we’ll refactor into a VS Code package + CLI.\n"
   ]
  },
  {
   "cell_type": "code",
   "execution_count": 5,
   "id": "68d9944b-13b1-434e-a5bb-7d50cd0897f5",
   "metadata": {},
   "outputs": [],
   "source": [
    "import pandas as pd \n",
    "import numpy as np \n",
    "import requests \n",
    "import gzip \n",
    "import io \n",
    "from warcio.archiveiterator import ArchiveIterator"
   ]
  },
  {
   "cell_type": "code",
   "execution_count": 6,
   "id": "949a8484-b757-461a-88a1-9d53ee6b8d49",
   "metadata": {},
   "outputs": [],
   "source": [
    "# Fetch list of crawls (public API)\n",
    "colls = requests.get(\"https://index.commoncrawl.org/collinfo.json\", timeout=30).json()\n"
   ]
  },
  {
   "cell_type": "code",
   "execution_count": 7,
   "id": "7944a2f2-838d-4727-80f0-21f60878d132",
   "metadata": {},
   "outputs": [
    {
     "name": "stdout",
     "output_type": "stream",
     "text": [
      "<class 'list'>\n"
     ]
    }
   ],
   "source": [
    "print(type(colls))\n"
   ]
  },
  {
   "cell_type": "code",
   "execution_count": 8,
   "id": "5cd95341-7a5e-4bbe-a3fa-dd0c1138a1f1",
   "metadata": {
    "scrolled": true
   },
   "outputs": [
    {
     "data": {
      "text/plain": [
       "[{'id': 'CC-MAIN-2025-33',\n",
       "  'name': 'August 2025 Index',\n",
       "  'timegate': 'https://index.commoncrawl.org/CC-MAIN-2025-33/',\n",
       "  'cdx-api': 'https://index.commoncrawl.org/CC-MAIN-2025-33-index',\n",
       "  'from': '2025-08-02T22:09:07',\n",
       "  'to': '2025-08-15T23:42:38'},\n",
       " {'id': 'CC-MAIN-2025-26',\n",
       "  'name': 'June 2025 Index',\n",
       "  'timegate': 'https://index.commoncrawl.org/CC-MAIN-2025-26/',\n",
       "  'cdx-api': 'https://index.commoncrawl.org/CC-MAIN-2025-26-index',\n",
       "  'from': '2025-06-12T11:28:40',\n",
       "  'to': '2025-06-25T09:54:11'},\n",
       " {'id': 'CC-MAIN-2025-18',\n",
       "  'name': 'April 2025 Index',\n",
       "  'timegate': 'https://index.commoncrawl.org/CC-MAIN-2025-18/',\n",
       "  'cdx-api': 'https://index.commoncrawl.org/CC-MAIN-2025-18-index',\n",
       "  'from': '2025-04-17T13:50:10',\n",
       "  'to': '2025-05-01T01:05:29'},\n",
       " {'id': 'CC-MAIN-2025-08',\n",
       "  'name': 'February 2025 Index',\n",
       "  'timegate': 'https://index.commoncrawl.org/CC-MAIN-2025-08/',\n",
       "  'cdx-api': 'https://index.commoncrawl.org/CC-MAIN-2025-08-index',\n",
       "  'from': '2025-02-06T11:42:25',\n",
       "  'to': '2025-02-19T23:14:40'},\n",
       " {'id': 'CC-MAIN-2024-51',\n",
       "  'name': 'December 2024 Index',\n",
       "  'timegate': 'https://index.commoncrawl.org/CC-MAIN-2024-51/',\n",
       "  'cdx-api': 'https://index.commoncrawl.org/CC-MAIN-2024-51-index',\n",
       "  'from': '2024-12-01T16:20:23',\n",
       "  'to': '2024-12-15T00:22:57'},\n",
       " {'id': 'CC-MAIN-2024-42',\n",
       "  'name': 'October 2024 Index',\n",
       "  'timegate': 'https://index.commoncrawl.org/CC-MAIN-2024-42/',\n",
       "  'cdx-api': 'https://index.commoncrawl.org/CC-MAIN-2024-42-index',\n",
       "  'from': '2024-10-03T09:40:20',\n",
       "  'to': '2024-10-16T09:12:31'},\n",
       " {'id': 'CC-MAIN-2024-33',\n",
       "  'name': 'August 2024 Index',\n",
       "  'timegate': 'https://index.commoncrawl.org/CC-MAIN-2024-33/',\n",
       "  'cdx-api': 'https://index.commoncrawl.org/CC-MAIN-2024-33-index',\n",
       "  'from': '2024-08-02T23:45:08',\n",
       "  'to': '2024-08-16T06:08:12'},\n",
       " {'id': 'CC-MAIN-2024-26',\n",
       "  'name': 'June 2024 Index',\n",
       "  'timegate': 'https://index.commoncrawl.org/CC-MAIN-2024-26/',\n",
       "  'cdx-api': 'https://index.commoncrawl.org/CC-MAIN-2024-26-index',\n",
       "  'from': '2024-06-12T14:04:24',\n",
       "  'to': '2024-06-25T23:28:02'},\n",
       " {'id': 'CC-MAIN-2024-18',\n",
       "  'name': 'April 2024 Index',\n",
       "  'timegate': 'https://index.commoncrawl.org/CC-MAIN-2024-18/',\n",
       "  'cdx-api': 'https://index.commoncrawl.org/CC-MAIN-2024-18-index',\n",
       "  'from': '2024-04-12T10:13:54',\n",
       "  'to': '2024-04-25T16:02:16'},\n",
       " {'id': 'CC-MAIN-2023-50',\n",
       "  'name': 'November/December 2023 Index',\n",
       "  'timegate': 'https://index.commoncrawl.org/CC-MAIN-2023-50/',\n",
       "  'cdx-api': 'https://index.commoncrawl.org/CC-MAIN-2023-50-index',\n",
       "  'from': '2023-11-28T08:34:43',\n",
       "  'to': '2023-12-12T00:04:08'},\n",
       " {'id': 'CC-MAIN-2023-23',\n",
       "  'name': 'May/June 2023 Index',\n",
       "  'timegate': 'https://index.commoncrawl.org/CC-MAIN-2023-23/',\n",
       "  'cdx-api': 'https://index.commoncrawl.org/CC-MAIN-2023-23-index',\n",
       "  'from': '2023-05-27T22:35:15',\n",
       "  'to': '2023-06-11T02:30:20'},\n",
       " {'id': 'CC-MAIN-2023-06',\n",
       "  'name': 'January/February 2023 Index',\n",
       "  'timegate': 'https://index.commoncrawl.org/CC-MAIN-2023-06/',\n",
       "  'cdx-api': 'https://index.commoncrawl.org/CC-MAIN-2023-06-index',\n",
       "  'from': '2023-01-26T21:08:44',\n",
       "  'to': '2023-02-09T14:25:10'},\n",
       " {'id': 'CC-MAIN-2022-40',\n",
       "  'name': 'September/October 2022 Index',\n",
       "  'timegate': 'https://index.commoncrawl.org/CC-MAIN-2022-40/',\n",
       "  'cdx-api': 'https://index.commoncrawl.org/CC-MAIN-2022-40-index',\n",
       "  'from': '2022-09-24T15:15:38',\n",
       "  'to': '2022-10-08T00:04:52'},\n",
       " {'id': 'CC-MAIN-2022-27',\n",
       "  'name': 'June/July 2022 Index',\n",
       "  'timegate': 'https://index.commoncrawl.org/CC-MAIN-2022-27/',\n",
       "  'cdx-api': 'https://index.commoncrawl.org/CC-MAIN-2022-27-index',\n",
       "  'from': '2022-06-24T21:39:08',\n",
       "  'to': '2022-07-07T18:43:29'},\n",
       " {'id': 'CC-MAIN-2022-05',\n",
       "  'name': 'January 2022 Index',\n",
       "  'timegate': 'https://index.commoncrawl.org/CC-MAIN-2022-05/',\n",
       "  'cdx-api': 'https://index.commoncrawl.org/CC-MAIN-2022-05-index',\n",
       "  'from': '2022-01-16T09:31:37',\n",
       "  'to': '2022-01-29T15:24:05'},\n",
       " {'id': 'CC-MAIN-2021-43',\n",
       "  'name': 'October 2021 Index',\n",
       "  'timegate': 'https://index.commoncrawl.org/CC-MAIN-2021-43/',\n",
       "  'cdx-api': 'https://index.commoncrawl.org/CC-MAIN-2021-43-index',\n",
       "  'from': '2021-10-15T19:24:39',\n",
       "  'to': '2021-10-28T22:36:01'},\n",
       " {'id': 'CC-MAIN-2021-31',\n",
       "  'name': 'July/August 2021 Index',\n",
       "  'timegate': 'https://index.commoncrawl.org/CC-MAIN-2021-31/',\n",
       "  'cdx-api': 'https://index.commoncrawl.org/CC-MAIN-2021-31-index',\n",
       "  'from': '2021-07-23T14:39:21',\n",
       "  'to': '2021-08-06T05:01:21'},\n",
       " {'id': 'CC-MAIN-2021-21',\n",
       "  'name': 'May 2021 Index',\n",
       "  'timegate': 'https://index.commoncrawl.org/CC-MAIN-2021-21/',\n",
       "  'cdx-api': 'https://index.commoncrawl.org/CC-MAIN-2021-21-index',\n",
       "  'from': '2021-05-05T20:39:09',\n",
       "  'to': '2021-05-19T04:26:35'},\n",
       " {'id': 'CC-MAIN-2021-10',\n",
       "  'name': 'February/March 2021 Index',\n",
       "  'timegate': 'https://index.commoncrawl.org/CC-MAIN-2021-10/',\n",
       "  'cdx-api': 'https://index.commoncrawl.org/CC-MAIN-2021-10-index',\n",
       "  'from': '2021-02-24T16:57:08',\n",
       "  'to': '2021-03-09T12:22:30'},\n",
       " {'id': 'CC-MAIN-2020-50',\n",
       "  'name': 'November/December 2020 Index',\n",
       "  'timegate': 'https://index.commoncrawl.org/CC-MAIN-2020-50/',\n",
       "  'cdx-api': 'https://index.commoncrawl.org/CC-MAIN-2020-50-index',\n",
       "  'from': '2020-11-23T15:38:26',\n",
       "  'to': '2020-12-06T03:20:41'},\n",
       " {'id': 'CC-MAIN-2020-40',\n",
       "  'name': 'September 2020 Index',\n",
       "  'timegate': 'https://index.commoncrawl.org/CC-MAIN-2020-40/',\n",
       "  'cdx-api': 'https://index.commoncrawl.org/CC-MAIN-2020-40-index',\n",
       "  'from': '2020-09-18T06:16:27',\n",
       "  'to': '2020-10-02T00:04:29'},\n",
       " {'id': 'CC-MAIN-2020-29',\n",
       "  'name': 'July 2020 Index',\n",
       "  'timegate': 'https://index.commoncrawl.org/CC-MAIN-2020-29/',\n",
       "  'cdx-api': 'https://index.commoncrawl.org/CC-MAIN-2020-29-index',\n",
       "  'from': '2020-07-02T04:57:58',\n",
       "  'to': '2020-07-16T18:32:47'},\n",
       " {'id': 'CC-MAIN-2020-16',\n",
       "  'name': 'March/April 2020 Index',\n",
       "  'timegate': 'https://index.commoncrawl.org/CC-MAIN-2020-16/',\n",
       "  'cdx-api': 'https://index.commoncrawl.org/CC-MAIN-2020-16-index',\n",
       "  'from': '2020-03-28T07:40:47',\n",
       "  'to': '2020-04-10T20:36:09'},\n",
       " {'id': 'CC-MAIN-2020-05',\n",
       "  'name': 'January 2020 Index',\n",
       "  'timegate': 'https://index.commoncrawl.org/CC-MAIN-2020-05/',\n",
       "  'cdx-api': 'https://index.commoncrawl.org/CC-MAIN-2020-05-index',\n",
       "  'from': '2020-01-17T12:33:39',\n",
       "  'to': '2020-01-29T22:33:33'},\n",
       " {'id': 'CC-MAIN-2019-47',\n",
       "  'name': 'November 2019 Index',\n",
       "  'timegate': 'https://index.commoncrawl.org/CC-MAIN-2019-47/',\n",
       "  'cdx-api': 'https://index.commoncrawl.org/CC-MAIN-2019-47-index',\n",
       "  'from': '2019-11-11T19:17:04',\n",
       "  'to': '2019-11-23T03:49:13'},\n",
       " {'id': 'CC-MAIN-2019-39',\n",
       "  'name': 'September 2019 Index',\n",
       "  'timegate': 'https://index.commoncrawl.org/CC-MAIN-2019-39/',\n",
       "  'cdx-api': 'https://index.commoncrawl.org/CC-MAIN-2019-39-index',\n",
       "  'from': '2019-09-15T05:24:33',\n",
       "  'to': '2019-09-24T10:52:00'},\n",
       " {'id': 'CC-MAIN-2019-30',\n",
       "  'name': 'July 2019 Index',\n",
       "  'timegate': 'https://index.commoncrawl.org/CC-MAIN-2019-30/',\n",
       "  'cdx-api': 'https://index.commoncrawl.org/CC-MAIN-2019-30-index',\n",
       "  'from': '2019-07-15T17:52:05',\n",
       "  'to': '2019-07-24T10:43:21'},\n",
       " {'id': 'CC-MAIN-2019-22',\n",
       "  'name': 'May 2019 Index',\n",
       "  'timegate': 'https://index.commoncrawl.org/CC-MAIN-2019-22/',\n",
       "  'cdx-api': 'https://index.commoncrawl.org/CC-MAIN-2019-22-index',\n",
       "  'from': '2019-05-19T06:15:20',\n",
       "  'to': '2019-05-27T15:18:25'},\n",
       " {'id': 'CC-MAIN-2019-13',\n",
       "  'name': 'March 2019 Index',\n",
       "  'timegate': 'https://index.commoncrawl.org/CC-MAIN-2019-13/',\n",
       "  'cdx-api': 'https://index.commoncrawl.org/CC-MAIN-2019-13-index',\n",
       "  'from': '2019-03-18T13:22:20',\n",
       "  'to': '2019-03-27T04:27:50'},\n",
       " {'id': 'CC-MAIN-2019-04',\n",
       "  'name': 'January 2019 Index',\n",
       "  'timegate': 'https://index.commoncrawl.org/CC-MAIN-2019-04/',\n",
       "  'cdx-api': 'https://index.commoncrawl.org/CC-MAIN-2019-04-index',\n",
       "  'from': '2019-01-15T22:54:38',\n",
       "  'to': '2019-01-24T14:36:22'},\n",
       " {'id': 'CC-MAIN-2018-47',\n",
       "  'name': 'November 2018 Index',\n",
       "  'timegate': 'https://index.commoncrawl.org/CC-MAIN-2018-47/',\n",
       "  'cdx-api': 'https://index.commoncrawl.org/CC-MAIN-2018-47-index',\n",
       "  'from': '2018-11-12T17:28:45',\n",
       "  'to': '2018-11-22T12:35:20'},\n",
       " {'id': 'CC-MAIN-2018-39',\n",
       "  'name': 'September 2018 Index',\n",
       "  'timegate': 'https://index.commoncrawl.org/CC-MAIN-2018-39/',\n",
       "  'cdx-api': 'https://index.commoncrawl.org/CC-MAIN-2018-39-index',\n",
       "  'from': '2018-09-18T13:06:31',\n",
       "  'to': '2018-09-26T16:13:48'},\n",
       " {'id': 'CC-MAIN-2018-30',\n",
       "  'name': 'July 2018 Index',\n",
       "  'timegate': 'https://index.commoncrawl.org/CC-MAIN-2018-30/',\n",
       "  'cdx-api': 'https://index.commoncrawl.org/CC-MAIN-2018-30-index',\n",
       "  'from': '2018-07-15T18:38:00',\n",
       "  'to': '2018-07-23T18:49:55'},\n",
       " {'id': 'CC-MAIN-2018-22',\n",
       "  'name': 'May 2018 Index',\n",
       "  'timegate': 'https://index.commoncrawl.org/CC-MAIN-2018-22/',\n",
       "  'cdx-api': 'https://index.commoncrawl.org/CC-MAIN-2018-22-index',\n",
       "  'from': '2018-05-20T09:28:30',\n",
       "  'to': '2018-05-28T11:16:37'},\n",
       " {'id': 'CC-MAIN-2018-13',\n",
       "  'name': 'March 2018 Index',\n",
       "  'timegate': 'https://index.commoncrawl.org/CC-MAIN-2018-13/',\n",
       "  'cdx-api': 'https://index.commoncrawl.org/CC-MAIN-2018-13-index',\n",
       "  'from': '2018-03-17T03:56:30',\n",
       "  'to': '2018-03-25T06:46:27'},\n",
       " {'id': 'CC-MAIN-2018-05',\n",
       "  'name': 'January 2018 Index',\n",
       "  'timegate': 'https://index.commoncrawl.org/CC-MAIN-2018-05/',\n",
       "  'cdx-api': 'https://index.commoncrawl.org/CC-MAIN-2018-05-index',\n",
       "  'from': '2018-01-16T07:04:44',\n",
       "  'to': '2018-01-24T12:59:39'},\n",
       " {'id': 'CC-MAIN-2017-47',\n",
       "  'name': 'November 2017 Index',\n",
       "  'timegate': 'https://index.commoncrawl.org/CC-MAIN-2017-47/',\n",
       "  'cdx-api': 'https://index.commoncrawl.org/CC-MAIN-2017-47-index',\n",
       "  'from': '2017-11-17T17:03:36',\n",
       "  'to': '2017-11-25T12:54:37'},\n",
       " {'id': 'CC-MAIN-2017-39',\n",
       "  'name': 'September 2017 Index',\n",
       "  'timegate': 'https://index.commoncrawl.org/CC-MAIN-2017-39/',\n",
       "  'cdx-api': 'https://index.commoncrawl.org/CC-MAIN-2017-39-index',\n",
       "  'from': '2017-09-19T11:22:42',\n",
       "  'to': '2017-09-26T23:28:17'},\n",
       " {'id': 'CC-MAIN-2017-30',\n",
       "  'name': 'July 2017 Index',\n",
       "  'timegate': 'https://index.commoncrawl.org/CC-MAIN-2017-30/',\n",
       "  'cdx-api': 'https://index.commoncrawl.org/CC-MAIN-2017-30-index',\n",
       "  'from': '2017-07-20T12:19:02',\n",
       "  'to': '2017-07-29T13:29:38'},\n",
       " {'id': 'CC-MAIN-2017-22',\n",
       "  'name': 'May 2017 Index',\n",
       "  'timegate': 'https://index.commoncrawl.org/CC-MAIN-2017-22/',\n",
       "  'cdx-api': 'https://index.commoncrawl.org/CC-MAIN-2017-22-index',\n",
       "  'from': '2017-05-22T15:17:15',\n",
       "  'to': '2017-05-30T14:44:50'},\n",
       " {'id': 'CC-MAIN-2017-13',\n",
       "  'name': 'March 2017 Index',\n",
       "  'timegate': 'https://index.commoncrawl.org/CC-MAIN-2017-13/',\n",
       "  'cdx-api': 'https://index.commoncrawl.org/CC-MAIN-2017-13-index',\n",
       "  'from': '2017-03-22T21:55:16',\n",
       "  'to': '2017-03-31T02:18:45'},\n",
       " {'id': 'CC-MAIN-2017-04',\n",
       "  'name': 'January 2017 Index',\n",
       "  'timegate': 'https://index.commoncrawl.org/CC-MAIN-2017-04/',\n",
       "  'cdx-api': 'https://index.commoncrawl.org/CC-MAIN-2017-04-index',\n",
       "  'from': '2017-01-16T10:37:01',\n",
       "  'to': '2017-01-25T03:12:25'},\n",
       " {'id': 'CC-MAIN-2016-44',\n",
       "  'name': 'October 2016 Index',\n",
       "  'timegate': 'https://index.commoncrawl.org/CC-MAIN-2016-44/',\n",
       "  'cdx-api': 'https://index.commoncrawl.org/CC-MAIN-2016-44-index',\n",
       "  'from': '2016-10-20T19:25:54',\n",
       "  'to': '2016-10-29T01:20:47'},\n",
       " {'id': 'CC-MAIN-2016-36',\n",
       "  'name': 'August 2016 Index',\n",
       "  'timegate': 'https://index.commoncrawl.org/CC-MAIN-2016-36/',\n",
       "  'cdx-api': 'https://index.commoncrawl.org/CC-MAIN-2016-36-index',\n",
       "  'from': '2016-08-23T20:56:23',\n",
       "  'to': '2016-09-01T07:28:38'},\n",
       " {'id': 'CC-MAIN-2016-26',\n",
       "  'name': 'June 2016 Index',\n",
       "  'timegate': 'https://index.commoncrawl.org/CC-MAIN-2016-26/',\n",
       "  'cdx-api': 'https://index.commoncrawl.org/CC-MAIN-2016-26-index',\n",
       "  'from': '2016-06-24T20:12:56',\n",
       "  'to': '2016-07-02T11:22:37'},\n",
       " {'id': 'CC-MAIN-2016-18',\n",
       "  'name': 'April 2016 Index',\n",
       "  'timegate': 'https://index.commoncrawl.org/CC-MAIN-2016-18/',\n",
       "  'cdx-api': 'https://index.commoncrawl.org/CC-MAIN-2016-18-index',\n",
       "  'from': '2016-04-28T19:43:41',\n",
       "  'to': '2016-05-07T02:19:46'},\n",
       " {'id': 'CC-MAIN-2015-48',\n",
       "  'name': 'November 2015 Index',\n",
       "  'timegate': 'https://index.commoncrawl.org/CC-MAIN-2015-48/',\n",
       "  'cdx-api': 'https://index.commoncrawl.org/CC-MAIN-2015-48-index',\n",
       "  'from': '2015-11-24T22:02:39',\n",
       "  'to': '2015-12-02T08:47:02'},\n",
       " {'id': 'CC-MAIN-2015-35',\n",
       "  'name': 'August 2015 Index',\n",
       "  'timegate': 'https://index.commoncrawl.org/CC-MAIN-2015-35/',\n",
       "  'cdx-api': 'https://index.commoncrawl.org/CC-MAIN-2015-35-index',\n",
       "  'from': '2015-08-27T19:15:34',\n",
       "  'to': '2015-09-05T18:09:14'},\n",
       " {'id': 'CC-MAIN-2015-27',\n",
       "  'name': 'June 2015 Index',\n",
       "  'timegate': 'https://index.commoncrawl.org/CC-MAIN-2015-27/',\n",
       "  'cdx-api': 'https://index.commoncrawl.org/CC-MAIN-2015-27-index',\n",
       "  'from': '2015-06-29T23:05:10',\n",
       "  'to': '2015-07-08T08:56:09'},\n",
       " {'id': 'CC-MAIN-2015-18',\n",
       "  'name': 'April 2015 Index',\n",
       "  'timegate': 'https://index.commoncrawl.org/CC-MAIN-2015-18/',\n",
       "  'cdx-api': 'https://index.commoncrawl.org/CC-MAIN-2015-18-index',\n",
       "  'from': '2015-04-18T03:17:22',\n",
       "  'to': '2015-05-07T10:35:30'},\n",
       " {'id': 'CC-MAIN-2015-11',\n",
       "  'name': 'February 2015 Index',\n",
       "  'timegate': 'https://index.commoncrawl.org/CC-MAIN-2015-11/',\n",
       "  'cdx-api': 'https://index.commoncrawl.org/CC-MAIN-2015-11-index',\n",
       "  'from': '2015-02-26T22:51:04',\n",
       "  'to': '2015-03-07T05:44:47'},\n",
       " {'id': 'CC-MAIN-2014-52',\n",
       "  'name': 'December 2014 Index',\n",
       "  'timegate': 'https://index.commoncrawl.org/CC-MAIN-2014-52/',\n",
       "  'cdx-api': 'https://index.commoncrawl.org/CC-MAIN-2014-52-index',\n",
       "  'from': '2014-12-17T19:50:34',\n",
       "  'to': '2014-12-29T17:15:41'},\n",
       " {'id': 'CC-MAIN-2014-42',\n",
       "  'name': 'October 2014 Index',\n",
       "  'timegate': 'https://index.commoncrawl.org/CC-MAIN-2014-42/',\n",
       "  'cdx-api': 'https://index.commoncrawl.org/CC-MAIN-2014-42-index',\n",
       "  'from': '2014-10-20T04:17:59',\n",
       "  'to': '2014-11-01T14:14:09'},\n",
       " {'id': 'CC-MAIN-2014-35',\n",
       "  'name': 'August 2014 Index',\n",
       "  'timegate': 'https://index.commoncrawl.org/CC-MAIN-2014-35/',\n",
       "  'cdx-api': 'https://index.commoncrawl.org/CC-MAIN-2014-35-index',\n",
       "  'from': '2014-08-20T04:48:45',\n",
       "  'to': '2014-09-03T09:11:02'},\n",
       " {'id': 'CC-MAIN-2014-15',\n",
       "  'name': 'April 2014 Index',\n",
       "  'timegate': 'https://index.commoncrawl.org/CC-MAIN-2014-15/',\n",
       "  'cdx-api': 'https://index.commoncrawl.org/CC-MAIN-2014-15-index',\n",
       "  'from': '2014-04-16T04:08:36',\n",
       "  'to': '2014-04-25T10:01:03'},\n",
       " {'id': 'CC-MAIN-2013-48',\n",
       "  'name': 'Winter 2013 Index',\n",
       "  'timegate': 'https://index.commoncrawl.org/CC-MAIN-2013-48/',\n",
       "  'cdx-api': 'https://index.commoncrawl.org/CC-MAIN-2013-48-index',\n",
       "  'from': '2013-12-04T15:19:39',\n",
       "  'to': '2013-12-22T13:58:39'},\n",
       " {'id': 'CC-MAIN-2012',\n",
       "  'name': '2012 ARC Files Index',\n",
       "  'timegate': 'https://index.commoncrawl.org/CC-MAIN-2012/',\n",
       "  'cdx-api': 'https://index.commoncrawl.org/CC-MAIN-2012-index',\n",
       "  'from': '2012-01-27T17:41:51',\n",
       "  'to': '2012-06-05T06:28:50'},\n",
       " {'id': 'CC-MAIN-2008-2009',\n",
       "  'name': '2008 - 2009 ARC Files Index',\n",
       "  'timegate': 'https://index.commoncrawl.org/CC-MAIN-2008-2009/',\n",
       "  'cdx-api': 'https://index.commoncrawl.org/CC-MAIN-2008-2009-index',\n",
       "  'from': '2008-05-09T05:37:12',\n",
       "  'to': '2009-01-09T20:58:29'}]"
      ]
     },
     "execution_count": 8,
     "metadata": {},
     "output_type": "execute_result"
    }
   ],
   "source": [
    "colls[:2000:2]"
   ]
  },
  {
   "cell_type": "code",
   "execution_count": 9,
   "id": "e7491dc0-5992-408f-9096-7aadda7c9df9",
   "metadata": {
    "editable": true,
    "slideshow": {
     "slide_type": ""
    },
    "tags": []
   },
   "outputs": [],
   "source": [
    "crawl_id = 'CC-MAIN-2008-2009'\n",
    "base = f\"https://data.commoncrawl.org/crawl-data/{crawl_id}/\""
   ]
  },
  {
   "cell_type": "code",
   "execution_count": 10,
   "id": "0153cab8-ba67-47d1-9c5b-0623502f5f66",
   "metadata": {},
   "outputs": [
    {
     "data": {
      "text/plain": [
       "'https://data.commoncrawl.org/crawl-data/CC-MAIN-2008-2009/'"
      ]
     },
     "execution_count": 10,
     "metadata": {},
     "output_type": "execute_result"
    }
   ],
   "source": [
    "base"
   ]
  },
  {
   "cell_type": "code",
   "execution_count": 11,
   "id": "c0615cd7-2525-480a-88cb-305cf22d58f2",
   "metadata": {},
   "outputs": [],
   "source": [
    "# fetching all the warc files in the path in that crawl\n",
    "r = requests.get(base +'warc.paths.gz',timeout=60, stream=True) "
   ]
  },
  {
   "cell_type": "code",
   "execution_count": 12,
   "id": "19fb7cd0-025b-4abb-a218-e7f72258e179",
   "metadata": {},
   "outputs": [
    {
     "data": {
      "text/plain": [
       "<Response [404]>"
      ]
     },
     "execution_count": 12,
     "metadata": {},
     "output_type": "execute_result"
    }
   ],
   "source": [
    "r"
   ]
  },
  {
   "cell_type": "markdown",
   "id": "85c7ce35-4643-417c-9c80-d0326b03aa69",
   "metadata": {},
   "source": [
    "- 400 bad request something went wrong in the request\n",
    "- 401 Unauthorized request , you need authentication\n",
    "- 403 forbidden resource you are not allowed to use it\n",
    "- 404 resource not found\n",
    "- 429 too many requests "
   ]
  },
  {
   "cell_type": "code",
   "execution_count": 13,
   "id": "f653fed4-c63c-4233-b5a8-516a9122f5d7",
   "metadata": {},
   "outputs": [],
   "source": [
    "crawl_id = 'CC-MAIN-2025-33'\n",
    "base = f\"https://data.commoncrawl.org/crawl-data/{crawl_id}/\""
   ]
  },
  {
   "cell_type": "code",
   "execution_count": 14,
   "id": "ddd6c701-a1de-469a-9b1b-a157322d31ca",
   "metadata": {},
   "outputs": [
    {
     "data": {
      "text/plain": [
       "'https://data.commoncrawl.org/crawl-data/CC-MAIN-2025-33/'"
      ]
     },
     "execution_count": 14,
     "metadata": {},
     "output_type": "execute_result"
    }
   ],
   "source": [
    "base"
   ]
  },
  {
   "cell_type": "code",
   "execution_count": 15,
   "id": "c6518704-ac4e-4dfa-9640-f6e0ff9468e5",
   "metadata": {},
   "outputs": [
    {
     "data": {
      "text/plain": [
       "<Response [200]>"
      ]
     },
     "execution_count": 15,
     "metadata": {},
     "output_type": "execute_result"
    }
   ],
   "source": [
    "r = requests.get(base + \"warc.paths.gz\", stream=True, timeout=60)\n",
    "r"
   ]
  },
  {
   "cell_type": "markdown",
   "id": "07c55345-2d15-488f-8373-ff34a91728d5",
   "metadata": {},
   "source": [
    "- 200 Resource exists\n",
    "- 201 Resource created\n",
    "- 202 response recived but still being processed "
   ]
  },
  {
   "cell_type": "code",
   "execution_count": null,
   "id": "0e282805-db88-44fb-8e5c-1f66a8ef6eea",
   "metadata": {},
   "outputs": [],
   "source": []
  },
  {
   "cell_type": "code",
   "execution_count": 16,
   "id": "ef2c84ec-7828-4a51-aa2e-116533f26649",
   "metadata": {},
   "outputs": [],
   "source": [
    "gz = gzip.GzipFile(fileobj=io.BytesIO(r.content))"
   ]
  },
  {
   "cell_type": "code",
   "execution_count": 17,
   "id": "b7319ed7-bf61-4de2-b615-b433b5180f76",
   "metadata": {},
   "outputs": [
    {
     "name": "stdout",
     "output_type": "stream",
     "text": [
      "Total WARC URLs stored in paths: 100000\n",
      "First 3: ['https://data.commoncrawl.org/crawl-data/CC-MAIN-2025-33/segments/1754151279521.11/warc/CC-MAIN-20250802220907-20250803010907-00000.warc.gz', 'https://data.commoncrawl.org/crawl-data/CC-MAIN-2025-33/segments/1754151279521.11/warc/CC-MAIN-20250802220907-20250803010907-00001.warc.gz', 'https://data.commoncrawl.org/crawl-data/CC-MAIN-2025-33/segments/1754151279521.11/warc/CC-MAIN-20250802220907-20250803010907-00002.warc.gz']\n",
      "Last 3: ['https://data.commoncrawl.org/crawl-data/CC-MAIN-2025-33/segments/1754151579063.98/warc/CC-MAIN-20250815204238-20250815234238-00997.warc.gz', 'https://data.commoncrawl.org/crawl-data/CC-MAIN-2025-33/segments/1754151579063.98/warc/CC-MAIN-20250815204238-20250815234238-00998.warc.gz', 'https://data.commoncrawl.org/crawl-data/CC-MAIN-2025-33/segments/1754151579063.98/warc/CC-MAIN-20250815204238-20250815234238-00999.warc.gz']\n"
     ]
    }
   ],
   "source": [
    "# Collect all WARC file URLs\n",
    "paths = []\n",
    "for line in gz:\n",
    "    rel_path = line.decode('utf-8').strip()\n",
    "    full_url = \"https://data.commoncrawl.org/\" + rel_path\n",
    "    paths.append(full_url)\n",
    "\n",
    "print(\"Total WARC URLs stored in paths:\", len(paths))\n",
    "print(\"First 3:\", paths[:3])\n",
    "print(\"Last 3:\", paths[-3:])"
   ]
  },
  {
   "cell_type": "code",
   "execution_count": 18,
   "id": "3b0f189f-3f6d-487c-804c-8fa12741c016",
   "metadata": {},
   "outputs": [
    {
     "name": "stdout",
     "output_type": "stream",
     "text": [
      "100000\n"
     ]
    }
   ],
   "source": [
    "print(len(paths))"
   ]
  },
  {
   "cell_type": "markdown",
   "id": "70091c16-f4eb-42fb-a261-9c2c1daf6fb0",
   "metadata": {},
   "source": [
    "### **next step is to check if each url is reachable and is available to prevent wasting time**"
   ]
  },
  {
   "cell_type": "code",
   "execution_count": 19,
   "id": "cbf72061-df5d-468d-a7dc-f3ed7e79657d",
   "metadata": {
    "scrolled": true
   },
   "outputs": [
    {
     "data": {
      "text/plain": [
       "['https://data.commoncrawl.org/crawl-data/CC-MAIN-2025-33/segments/1754151279521.11/warc/CC-MAIN-20250802220907-20250803010907-00000.warc.gz',\n",
       " 'https://data.commoncrawl.org/crawl-data/CC-MAIN-2025-33/segments/1754151279521.11/warc/CC-MAIN-20250802220907-20250803010907-00001.warc.gz',\n",
       " 'https://data.commoncrawl.org/crawl-data/CC-MAIN-2025-33/segments/1754151279521.11/warc/CC-MAIN-20250802220907-20250803010907-00002.warc.gz',\n",
       " 'https://data.commoncrawl.org/crawl-data/CC-MAIN-2025-33/segments/1754151279521.11/warc/CC-MAIN-20250802220907-20250803010907-00003.warc.gz',\n",
       " 'https://data.commoncrawl.org/crawl-data/CC-MAIN-2025-33/segments/1754151279521.11/warc/CC-MAIN-20250802220907-20250803010907-00004.warc.gz',\n",
       " 'https://data.commoncrawl.org/crawl-data/CC-MAIN-2025-33/segments/1754151279521.11/warc/CC-MAIN-20250802220907-20250803010907-00005.warc.gz',\n",
       " 'https://data.commoncrawl.org/crawl-data/CC-MAIN-2025-33/segments/1754151279521.11/warc/CC-MAIN-20250802220907-20250803010907-00006.warc.gz',\n",
       " 'https://data.commoncrawl.org/crawl-data/CC-MAIN-2025-33/segments/1754151279521.11/warc/CC-MAIN-20250802220907-20250803010907-00007.warc.gz',\n",
       " 'https://data.commoncrawl.org/crawl-data/CC-MAIN-2025-33/segments/1754151279521.11/warc/CC-MAIN-20250802220907-20250803010907-00008.warc.gz',\n",
       " 'https://data.commoncrawl.org/crawl-data/CC-MAIN-2025-33/segments/1754151279521.11/warc/CC-MAIN-20250802220907-20250803010907-00009.warc.gz',\n",
       " 'https://data.commoncrawl.org/crawl-data/CC-MAIN-2025-33/segments/1754151279521.11/warc/CC-MAIN-20250802220907-20250803010907-00010.warc.gz',\n",
       " 'https://data.commoncrawl.org/crawl-data/CC-MAIN-2025-33/segments/1754151279521.11/warc/CC-MAIN-20250802220907-20250803010907-00011.warc.gz',\n",
       " 'https://data.commoncrawl.org/crawl-data/CC-MAIN-2025-33/segments/1754151279521.11/warc/CC-MAIN-20250802220907-20250803010907-00012.warc.gz',\n",
       " 'https://data.commoncrawl.org/crawl-data/CC-MAIN-2025-33/segments/1754151279521.11/warc/CC-MAIN-20250802220907-20250803010907-00013.warc.gz',\n",
       " 'https://data.commoncrawl.org/crawl-data/CC-MAIN-2025-33/segments/1754151279521.11/warc/CC-MAIN-20250802220907-20250803010907-00014.warc.gz',\n",
       " 'https://data.commoncrawl.org/crawl-data/CC-MAIN-2025-33/segments/1754151279521.11/warc/CC-MAIN-20250802220907-20250803010907-00015.warc.gz',\n",
       " 'https://data.commoncrawl.org/crawl-data/CC-MAIN-2025-33/segments/1754151279521.11/warc/CC-MAIN-20250802220907-20250803010907-00016.warc.gz',\n",
       " 'https://data.commoncrawl.org/crawl-data/CC-MAIN-2025-33/segments/1754151279521.11/warc/CC-MAIN-20250802220907-20250803010907-00017.warc.gz',\n",
       " 'https://data.commoncrawl.org/crawl-data/CC-MAIN-2025-33/segments/1754151279521.11/warc/CC-MAIN-20250802220907-20250803010907-00018.warc.gz',\n",
       " 'https://data.commoncrawl.org/crawl-data/CC-MAIN-2025-33/segments/1754151279521.11/warc/CC-MAIN-20250802220907-20250803010907-00019.warc.gz',\n",
       " 'https://data.commoncrawl.org/crawl-data/CC-MAIN-2025-33/segments/1754151279521.11/warc/CC-MAIN-20250802220907-20250803010907-00020.warc.gz',\n",
       " 'https://data.commoncrawl.org/crawl-data/CC-MAIN-2025-33/segments/1754151279521.11/warc/CC-MAIN-20250802220907-20250803010907-00021.warc.gz',\n",
       " 'https://data.commoncrawl.org/crawl-data/CC-MAIN-2025-33/segments/1754151279521.11/warc/CC-MAIN-20250802220907-20250803010907-00022.warc.gz',\n",
       " 'https://data.commoncrawl.org/crawl-data/CC-MAIN-2025-33/segments/1754151279521.11/warc/CC-MAIN-20250802220907-20250803010907-00023.warc.gz',\n",
       " 'https://data.commoncrawl.org/crawl-data/CC-MAIN-2025-33/segments/1754151279521.11/warc/CC-MAIN-20250802220907-20250803010907-00024.warc.gz',\n",
       " 'https://data.commoncrawl.org/crawl-data/CC-MAIN-2025-33/segments/1754151279521.11/warc/CC-MAIN-20250802220907-20250803010907-00025.warc.gz',\n",
       " 'https://data.commoncrawl.org/crawl-data/CC-MAIN-2025-33/segments/1754151279521.11/warc/CC-MAIN-20250802220907-20250803010907-00026.warc.gz',\n",
       " 'https://data.commoncrawl.org/crawl-data/CC-MAIN-2025-33/segments/1754151279521.11/warc/CC-MAIN-20250802220907-20250803010907-00027.warc.gz',\n",
       " 'https://data.commoncrawl.org/crawl-data/CC-MAIN-2025-33/segments/1754151279521.11/warc/CC-MAIN-20250802220907-20250803010907-00028.warc.gz',\n",
       " 'https://data.commoncrawl.org/crawl-data/CC-MAIN-2025-33/segments/1754151279521.11/warc/CC-MAIN-20250802220907-20250803010907-00029.warc.gz',\n",
       " 'https://data.commoncrawl.org/crawl-data/CC-MAIN-2025-33/segments/1754151279521.11/warc/CC-MAIN-20250802220907-20250803010907-00030.warc.gz',\n",
       " 'https://data.commoncrawl.org/crawl-data/CC-MAIN-2025-33/segments/1754151279521.11/warc/CC-MAIN-20250802220907-20250803010907-00031.warc.gz',\n",
       " 'https://data.commoncrawl.org/crawl-data/CC-MAIN-2025-33/segments/1754151279521.11/warc/CC-MAIN-20250802220907-20250803010907-00032.warc.gz',\n",
       " 'https://data.commoncrawl.org/crawl-data/CC-MAIN-2025-33/segments/1754151279521.11/warc/CC-MAIN-20250802220907-20250803010907-00033.warc.gz',\n",
       " 'https://data.commoncrawl.org/crawl-data/CC-MAIN-2025-33/segments/1754151279521.11/warc/CC-MAIN-20250802220907-20250803010907-00034.warc.gz',\n",
       " 'https://data.commoncrawl.org/crawl-data/CC-MAIN-2025-33/segments/1754151279521.11/warc/CC-MAIN-20250802220907-20250803010907-00035.warc.gz',\n",
       " 'https://data.commoncrawl.org/crawl-data/CC-MAIN-2025-33/segments/1754151279521.11/warc/CC-MAIN-20250802220907-20250803010907-00036.warc.gz',\n",
       " 'https://data.commoncrawl.org/crawl-data/CC-MAIN-2025-33/segments/1754151279521.11/warc/CC-MAIN-20250802220907-20250803010907-00037.warc.gz',\n",
       " 'https://data.commoncrawl.org/crawl-data/CC-MAIN-2025-33/segments/1754151279521.11/warc/CC-MAIN-20250802220907-20250803010907-00038.warc.gz',\n",
       " 'https://data.commoncrawl.org/crawl-data/CC-MAIN-2025-33/segments/1754151279521.11/warc/CC-MAIN-20250802220907-20250803010907-00039.warc.gz',\n",
       " 'https://data.commoncrawl.org/crawl-data/CC-MAIN-2025-33/segments/1754151279521.11/warc/CC-MAIN-20250802220907-20250803010907-00040.warc.gz',\n",
       " 'https://data.commoncrawl.org/crawl-data/CC-MAIN-2025-33/segments/1754151279521.11/warc/CC-MAIN-20250802220907-20250803010907-00041.warc.gz',\n",
       " 'https://data.commoncrawl.org/crawl-data/CC-MAIN-2025-33/segments/1754151279521.11/warc/CC-MAIN-20250802220907-20250803010907-00042.warc.gz',\n",
       " 'https://data.commoncrawl.org/crawl-data/CC-MAIN-2025-33/segments/1754151279521.11/warc/CC-MAIN-20250802220907-20250803010907-00043.warc.gz',\n",
       " 'https://data.commoncrawl.org/crawl-data/CC-MAIN-2025-33/segments/1754151279521.11/warc/CC-MAIN-20250802220907-20250803010907-00044.warc.gz',\n",
       " 'https://data.commoncrawl.org/crawl-data/CC-MAIN-2025-33/segments/1754151279521.11/warc/CC-MAIN-20250802220907-20250803010907-00045.warc.gz',\n",
       " 'https://data.commoncrawl.org/crawl-data/CC-MAIN-2025-33/segments/1754151279521.11/warc/CC-MAIN-20250802220907-20250803010907-00046.warc.gz',\n",
       " 'https://data.commoncrawl.org/crawl-data/CC-MAIN-2025-33/segments/1754151279521.11/warc/CC-MAIN-20250802220907-20250803010907-00047.warc.gz',\n",
       " 'https://data.commoncrawl.org/crawl-data/CC-MAIN-2025-33/segments/1754151279521.11/warc/CC-MAIN-20250802220907-20250803010907-00048.warc.gz',\n",
       " 'https://data.commoncrawl.org/crawl-data/CC-MAIN-2025-33/segments/1754151279521.11/warc/CC-MAIN-20250802220907-20250803010907-00049.warc.gz',\n",
       " 'https://data.commoncrawl.org/crawl-data/CC-MAIN-2025-33/segments/1754151279521.11/warc/CC-MAIN-20250802220907-20250803010907-00050.warc.gz',\n",
       " 'https://data.commoncrawl.org/crawl-data/CC-MAIN-2025-33/segments/1754151279521.11/warc/CC-MAIN-20250802220907-20250803010907-00051.warc.gz',\n",
       " 'https://data.commoncrawl.org/crawl-data/CC-MAIN-2025-33/segments/1754151279521.11/warc/CC-MAIN-20250802220907-20250803010907-00052.warc.gz',\n",
       " 'https://data.commoncrawl.org/crawl-data/CC-MAIN-2025-33/segments/1754151279521.11/warc/CC-MAIN-20250802220907-20250803010907-00053.warc.gz',\n",
       " 'https://data.commoncrawl.org/crawl-data/CC-MAIN-2025-33/segments/1754151279521.11/warc/CC-MAIN-20250802220907-20250803010907-00054.warc.gz',\n",
       " 'https://data.commoncrawl.org/crawl-data/CC-MAIN-2025-33/segments/1754151279521.11/warc/CC-MAIN-20250802220907-20250803010907-00055.warc.gz',\n",
       " 'https://data.commoncrawl.org/crawl-data/CC-MAIN-2025-33/segments/1754151279521.11/warc/CC-MAIN-20250802220907-20250803010907-00056.warc.gz',\n",
       " 'https://data.commoncrawl.org/crawl-data/CC-MAIN-2025-33/segments/1754151279521.11/warc/CC-MAIN-20250802220907-20250803010907-00057.warc.gz',\n",
       " 'https://data.commoncrawl.org/crawl-data/CC-MAIN-2025-33/segments/1754151279521.11/warc/CC-MAIN-20250802220907-20250803010907-00058.warc.gz',\n",
       " 'https://data.commoncrawl.org/crawl-data/CC-MAIN-2025-33/segments/1754151279521.11/warc/CC-MAIN-20250802220907-20250803010907-00059.warc.gz',\n",
       " 'https://data.commoncrawl.org/crawl-data/CC-MAIN-2025-33/segments/1754151279521.11/warc/CC-MAIN-20250802220907-20250803010907-00060.warc.gz',\n",
       " 'https://data.commoncrawl.org/crawl-data/CC-MAIN-2025-33/segments/1754151279521.11/warc/CC-MAIN-20250802220907-20250803010907-00061.warc.gz',\n",
       " 'https://data.commoncrawl.org/crawl-data/CC-MAIN-2025-33/segments/1754151279521.11/warc/CC-MAIN-20250802220907-20250803010907-00062.warc.gz',\n",
       " 'https://data.commoncrawl.org/crawl-data/CC-MAIN-2025-33/segments/1754151279521.11/warc/CC-MAIN-20250802220907-20250803010907-00063.warc.gz',\n",
       " 'https://data.commoncrawl.org/crawl-data/CC-MAIN-2025-33/segments/1754151279521.11/warc/CC-MAIN-20250802220907-20250803010907-00064.warc.gz',\n",
       " 'https://data.commoncrawl.org/crawl-data/CC-MAIN-2025-33/segments/1754151279521.11/warc/CC-MAIN-20250802220907-20250803010907-00065.warc.gz',\n",
       " 'https://data.commoncrawl.org/crawl-data/CC-MAIN-2025-33/segments/1754151279521.11/warc/CC-MAIN-20250802220907-20250803010907-00066.warc.gz',\n",
       " 'https://data.commoncrawl.org/crawl-data/CC-MAIN-2025-33/segments/1754151279521.11/warc/CC-MAIN-20250802220907-20250803010907-00067.warc.gz',\n",
       " 'https://data.commoncrawl.org/crawl-data/CC-MAIN-2025-33/segments/1754151279521.11/warc/CC-MAIN-20250802220907-20250803010907-00068.warc.gz',\n",
       " 'https://data.commoncrawl.org/crawl-data/CC-MAIN-2025-33/segments/1754151279521.11/warc/CC-MAIN-20250802220907-20250803010907-00069.warc.gz',\n",
       " 'https://data.commoncrawl.org/crawl-data/CC-MAIN-2025-33/segments/1754151279521.11/warc/CC-MAIN-20250802220907-20250803010907-00070.warc.gz',\n",
       " 'https://data.commoncrawl.org/crawl-data/CC-MAIN-2025-33/segments/1754151279521.11/warc/CC-MAIN-20250802220907-20250803010907-00071.warc.gz',\n",
       " 'https://data.commoncrawl.org/crawl-data/CC-MAIN-2025-33/segments/1754151279521.11/warc/CC-MAIN-20250802220907-20250803010907-00072.warc.gz',\n",
       " 'https://data.commoncrawl.org/crawl-data/CC-MAIN-2025-33/segments/1754151279521.11/warc/CC-MAIN-20250802220907-20250803010907-00073.warc.gz',\n",
       " 'https://data.commoncrawl.org/crawl-data/CC-MAIN-2025-33/segments/1754151279521.11/warc/CC-MAIN-20250802220907-20250803010907-00074.warc.gz',\n",
       " 'https://data.commoncrawl.org/crawl-data/CC-MAIN-2025-33/segments/1754151279521.11/warc/CC-MAIN-20250802220907-20250803010907-00075.warc.gz',\n",
       " 'https://data.commoncrawl.org/crawl-data/CC-MAIN-2025-33/segments/1754151279521.11/warc/CC-MAIN-20250802220907-20250803010907-00076.warc.gz',\n",
       " 'https://data.commoncrawl.org/crawl-data/CC-MAIN-2025-33/segments/1754151279521.11/warc/CC-MAIN-20250802220907-20250803010907-00077.warc.gz',\n",
       " 'https://data.commoncrawl.org/crawl-data/CC-MAIN-2025-33/segments/1754151279521.11/warc/CC-MAIN-20250802220907-20250803010907-00078.warc.gz',\n",
       " 'https://data.commoncrawl.org/crawl-data/CC-MAIN-2025-33/segments/1754151279521.11/warc/CC-MAIN-20250802220907-20250803010907-00079.warc.gz',\n",
       " 'https://data.commoncrawl.org/crawl-data/CC-MAIN-2025-33/segments/1754151279521.11/warc/CC-MAIN-20250802220907-20250803010907-00080.warc.gz',\n",
       " 'https://data.commoncrawl.org/crawl-data/CC-MAIN-2025-33/segments/1754151279521.11/warc/CC-MAIN-20250802220907-20250803010907-00081.warc.gz',\n",
       " 'https://data.commoncrawl.org/crawl-data/CC-MAIN-2025-33/segments/1754151279521.11/warc/CC-MAIN-20250802220907-20250803010907-00082.warc.gz',\n",
       " 'https://data.commoncrawl.org/crawl-data/CC-MAIN-2025-33/segments/1754151279521.11/warc/CC-MAIN-20250802220907-20250803010907-00083.warc.gz',\n",
       " 'https://data.commoncrawl.org/crawl-data/CC-MAIN-2025-33/segments/1754151279521.11/warc/CC-MAIN-20250802220907-20250803010907-00084.warc.gz',\n",
       " 'https://data.commoncrawl.org/crawl-data/CC-MAIN-2025-33/segments/1754151279521.11/warc/CC-MAIN-20250802220907-20250803010907-00085.warc.gz',\n",
       " 'https://data.commoncrawl.org/crawl-data/CC-MAIN-2025-33/segments/1754151279521.11/warc/CC-MAIN-20250802220907-20250803010907-00086.warc.gz',\n",
       " 'https://data.commoncrawl.org/crawl-data/CC-MAIN-2025-33/segments/1754151279521.11/warc/CC-MAIN-20250802220907-20250803010907-00087.warc.gz',\n",
       " 'https://data.commoncrawl.org/crawl-data/CC-MAIN-2025-33/segments/1754151279521.11/warc/CC-MAIN-20250802220907-20250803010907-00088.warc.gz',\n",
       " 'https://data.commoncrawl.org/crawl-data/CC-MAIN-2025-33/segments/1754151279521.11/warc/CC-MAIN-20250802220907-20250803010907-00089.warc.gz',\n",
       " 'https://data.commoncrawl.org/crawl-data/CC-MAIN-2025-33/segments/1754151279521.11/warc/CC-MAIN-20250802220907-20250803010907-00090.warc.gz',\n",
       " 'https://data.commoncrawl.org/crawl-data/CC-MAIN-2025-33/segments/1754151279521.11/warc/CC-MAIN-20250802220907-20250803010907-00091.warc.gz',\n",
       " 'https://data.commoncrawl.org/crawl-data/CC-MAIN-2025-33/segments/1754151279521.11/warc/CC-MAIN-20250802220907-20250803010907-00092.warc.gz',\n",
       " 'https://data.commoncrawl.org/crawl-data/CC-MAIN-2025-33/segments/1754151279521.11/warc/CC-MAIN-20250802220907-20250803010907-00093.warc.gz',\n",
       " 'https://data.commoncrawl.org/crawl-data/CC-MAIN-2025-33/segments/1754151279521.11/warc/CC-MAIN-20250802220907-20250803010907-00094.warc.gz',\n",
       " 'https://data.commoncrawl.org/crawl-data/CC-MAIN-2025-33/segments/1754151279521.11/warc/CC-MAIN-20250802220907-20250803010907-00095.warc.gz',\n",
       " 'https://data.commoncrawl.org/crawl-data/CC-MAIN-2025-33/segments/1754151279521.11/warc/CC-MAIN-20250802220907-20250803010907-00096.warc.gz',\n",
       " 'https://data.commoncrawl.org/crawl-data/CC-MAIN-2025-33/segments/1754151279521.11/warc/CC-MAIN-20250802220907-20250803010907-00097.warc.gz',\n",
       " 'https://data.commoncrawl.org/crawl-data/CC-MAIN-2025-33/segments/1754151279521.11/warc/CC-MAIN-20250802220907-20250803010907-00098.warc.gz',\n",
       " 'https://data.commoncrawl.org/crawl-data/CC-MAIN-2025-33/segments/1754151279521.11/warc/CC-MAIN-20250802220907-20250803010907-00099.warc.gz']"
      ]
     },
     "execution_count": 19,
     "metadata": {},
     "output_type": "execute_result"
    }
   ],
   "source": [
    "url100 = paths[:100]\n",
    "url100"
   ]
  },
  {
   "cell_type": "code",
   "execution_count": 20,
   "id": "7d1713de-5f9c-4f51-a5a7-e2d992379903",
   "metadata": {},
   "outputs": [
    {
     "name": "stdout",
     "output_type": "stream",
     "text": [
      "Reachable: 100/100\n",
      "\n",
      "200 922.99 MB → https://data.commoncrawl.org/crawl-data/CC-MAIN-2025-33/segments/1754151279521.11/warc/CC-MAIN-20250802220907-20250803010907-00000.warc.gz\n",
      "200 917.84 MB → https://data.commoncrawl.org/crawl-data/CC-MAIN-2025-33/segments/1754151279521.11/warc/CC-MAIN-20250802220907-20250803010907-00001.warc.gz\n",
      "200 911.54 MB → https://data.commoncrawl.org/crawl-data/CC-MAIN-2025-33/segments/1754151279521.11/warc/CC-MAIN-20250802220907-20250803010907-00002.warc.gz\n",
      "200 956.82 MB → https://data.commoncrawl.org/crawl-data/CC-MAIN-2025-33/segments/1754151279521.11/warc/CC-MAIN-20250802220907-20250803010907-00003.warc.gz\n",
      "200 911.15 MB → https://data.commoncrawl.org/crawl-data/CC-MAIN-2025-33/segments/1754151279521.11/warc/CC-MAIN-20250802220907-20250803010907-00004.warc.gz\n"
     ]
    }
   ],
   "source": [
    "summary = []\n",
    "for u in url100:\n",
    "    try:\n",
    "        h = requests.head(u, timeout=(10, 30), allow_redirects=True)  # requests.head\n",
    "        size = int(h.headers.get(\"Content-Length\", 0))                # Content-Length\n",
    "        summary.append({\n",
    "            \"url\": u,\n",
    "            \"status\": h.status_code,\n",
    "            \"size_bytes\": size,\n",
    "            \"size_mb\": round(size / (1024*1024), 2),\n",
    "        })\n",
    "    except Exception as e:\n",
    "        # add a tiny diagnostic to see the actual error once\n",
    "        print(\"HEAD error for:\", u, \"|\", repr(e))\n",
    "        summary.append({\"url\": u, \"status\": \"ERR\", \"size_bytes\": 0, \"size_mb\": 0})\n",
    "        \n",
    "k = sum(1 for s in summary if s[\"status\"] == 200)\n",
    "print(f\"Reachable: {k}/{len(summary)}\\n\")\n",
    "for s in summary[:5]:  # show a few; you can remove the [:5] to see all\n",
    "    print(s[\"status\"], f\"{s['size_mb']} MB\", \"→\", s[\"url\"])"
   ]
  },
  {
   "cell_type": "code",
   "execution_count": 21,
   "id": "c9baf13d-0b7a-471e-8c36-d9ca2e62faec",
   "metadata": {},
   "outputs": [],
   "source": [
    "import requests\n",
    "from requests.adapters import HTTPAdapter\n",
    "from urllib3.util.retry import Retry\n",
    "\n",
    "session = requests.Session()\n",
    "\n",
    "retry = Retry(\n",
    "    total=5,                # up to 5 total retries\n",
    "    connect=5,              # retries for connect errors\n",
    "    read=5,                 # retries for read errors\n",
    "    backoff_factor=1.2,     # exponential backoff: 0s, 1.2s, 2.4s, ...\n",
    "    status_forcelist=[429, 500, 502, 503, 504],\n",
    "    allowed_methods=[\"GET\", \"HEAD\"]\n",
    ")\n",
    "\n",
    "adapter = HTTPAdapter(max_retries=retry, pool_connections=4, pool_maxsize=4)\n",
    "session.mount(\"https://\", adapter)\n",
    "session.headers.update({\"User-Agent\": \"warc-stream/0.1\"})\n"
   ]
  },
  {
   "cell_type": "code",
   "execution_count": 22,
   "id": "db7f4c9b-9b68-4291-aec8-74a7c1a676b6",
   "metadata": {},
   "outputs": [
    {
     "name": "stdout",
     "output_type": "stream",
     "text": [
      "00 | status=200 | ctype=text/html; charset=utf-8\n",
      "   http://0014housingrental.shop/\n",
      "01 | status=200 | ctype=text/html\n",
      "   http://010ganji.com/html/yingjianchanpin/chanpinfenleisi/150.html\n",
      "02 | status=200 | ctype=text/html; charset=utf-8\n",
      "   http://01dom.ru/sale/prodlenie_aktsii_na_keramicheskie_bloki_porotherm/\n",
      "03 | status=200 | ctype=text/html\n",
      "   http://0594jy.com/live/sepak/f4219021.html\n",
      "04 | status=200 | ctype=text/html\n",
      "   http://0cpm.org/\n",
      "05 | status=200 | ctype=text/html; charset=utf-8\n",
      "   http://100.ubc.ca/ubc-impact/nicole-eredics/\n",
      "06 | status=200 | ctype=text/html; charset=utf-8\n",
      "   http://12dim-trikal.tri.sch.gr/2024/05/27/\n",
      "07 | status=200 | ctype=text/html; charset=big5\n",
      "   http://1599888.gg33t.com/index.phtml?PUT=a_show&AID=272908&FID=1599888&R2=&CHANNEL=\n",
      "08 | status=200 | ctype=text/html; charset=big5\n",
      "   http://170248.hwe2.com/?FID=170248\n",
      "09 | status=200 | ctype=text/html; charset=big5\n",
      "   http://170248.hwe2.com/?PUT=a_show&AID=280092&FID=170248&R2=&CHANNEL=\n"
     ]
    }
   ],
   "source": [
    "test_url = paths[0]   # first WARC URL\n",
    "max_records = 10\n",
    "seen = 0\n",
    "\n",
    "with session.get(test_url, stream=True, timeout=(60, 600)) as resp:  # 60s connect, 600s read\n",
    "    resp.raise_for_status()\n",
    "    gz = gzip.GzipFile(fileobj=resp.raw)\n",
    "\n",
    "    for record in ArchiveIterator(gz):\n",
    "        if record.rec_type != \"response\":\n",
    "            continue\n",
    "        http = record.http_headers\n",
    "        if not http:\n",
    "            continue\n",
    "\n",
    "        url   = record.rec_headers.get_header(\"WARC-Target-URI\")\n",
    "        code  = http.get_statuscode()\n",
    "        ctype = (http.get_header(\"Content-Type\") or \"\").lower()\n",
    "\n",
    "        print(f\"{seen:02d} | status={code} | ctype={ctype}\\n   {url}\")\n",
    "        seen += 1\n",
    "        if seen >= max_records:\n",
    "            break"
   ]
  },
  {
   "cell_type": "code",
   "execution_count": 23,
   "id": "b3d2b49a-ddf2-49c0-aae5-d3febb56c7c4",
   "metadata": {},
   "outputs": [],
   "source": [
    "def stream_warc_metadata(url, max_items=50, only_html=True, session=None):\n",
    "    \"\"\"\n",
    "    Stream the WARC at `url` and yield small dicts of metadata for response records.\n",
    "    - only_html=True → keep Content-Type that looks like text/html\n",
    "    - max_items → stop after N items to keep runs fast\n",
    "    \"\"\"\n",
    "    sess = session\n",
    "    if sess is None:\n",
    "        import requests\n",
    "        sess = requests.Session()\n",
    "        sess.headers.update({\"User-Agent\": \"warc-stream/0.1\"})\n",
    "\n",
    "    seen = 0\n",
    "    with sess.get(url, stream=True, timeout=(60, 600)) as resp:\n",
    "        resp.raise_for_status()\n",
    "        gz = gzip.GzipFile(fileobj=resp.raw)\n",
    "        for rec in ArchiveIterator(gz):\n",
    "            if rec.rec_type != \"response\" or not rec.http_headers:\n",
    "                continue\n",
    "\n",
    "            ctype = (rec.http_headers.get_header(\"Content-Type\") or \"\").lower()\n",
    "            if only_html and \"text/html\" not in ctype:\n",
    "                continue\n",
    "\n",
    "            meta = {\n",
    "                \"warc_target_uri\": rec.rec_headers.get_header(\"WARC-Target-URI\"),\n",
    "                \"warc_date\":       rec.rec_headers.get_header(\"WARC-Date\"),\n",
    "                \"warc_record_id\":  rec.rec_headers.get_header(\"WARC-Record-ID\"),\n",
    "                \"warc_ip\":         rec.rec_headers.get_header(\"WARC-IP-Address\"),\n",
    "                \"http_status\":     rec.http_headers.get_statuscode(),\n",
    "                \"content_type\":    ctype,\n",
    "                \"http_length\":     rec.http_headers.get_header(\"Content-Length\"),\n",
    "            }\n",
    "            yield meta\n",
    "\n",
    "            seen += 1\n",
    "            if seen >= max_items:\n",
    "                break"
   ]
  },
  {
   "cell_type": "code",
   "execution_count": 24,
   "id": "02e19902-aad4-4c9e-80ad-d8a004029e8d",
   "metadata": {},
   "outputs": [
    {
     "name": "stdout",
     "output_type": "stream",
     "text": [
      " 20 metadata rows\n",
      "200 text/html; charset=utf-8 → http://0014housingrental.shop/\n",
      "200 text/html → http://010ganji.com/html/yingjianchanpin/chanpinfenleisi/150.html\n",
      "200 text/html; charset=utf-8 → http://01dom.ru/sale/prodlenie_aktsii_na_keramicheskie_bloki_porotherm/\n",
      "200 text/html → http://0594jy.com/live/sepak/f4219021.html\n",
      "200 text/html → http://0cpm.org/\n"
     ]
    }
   ],
   "source": [
    "# Reuse the resilient session you already built (named `session` in previous step)\n",
    "test_url = paths[0]  # or any from your first 20\n",
    "rows = list(stream_warc_metadata(test_url, max_items=20, only_html=True, session=session))\n",
    "\n",
    "print(f\" {len(rows)} metadata rows\")\n",
    "for r in rows[:5]:\n",
    "    print(r[\"http_status\"], r[\"content_type\"], \"→\", r[\"warc_target_uri\"])\n"
   ]
  },
  {
   "cell_type": "code",
   "execution_count": 25,
   "id": "f21bd4e1-3582-48e9-8cea-f5e69813d204",
   "metadata": {},
   "outputs": [],
   "source": [
    "from bs4 import BeautifulSoup\n",
    "import re\n",
    "\n",
    "def pick_charset(content_type_header: str | None) -> str:\n",
    "    \"\"\"Extract charset from Content-Type if present; default to utf-8.\"\"\"\n",
    "    if not content_type_header:\n",
    "        return \"utf-8\"\n",
    "    # Example: \"text/html; charset=utf-8\"\n",
    "    m = re.search(r\"charset=([-_a-zA-Z0-9]+)\", content_type_header, flags=re.I)\n",
    "    return (m.group(1).lower() if m else \"utf-8\")\n",
    "\n",
    "def html_to_text(html: str) -> tuple[str, str]:\n",
    "    \"\"\"\n",
    "    Return (title, text) from HTML using BeautifulSoup.\n",
    "    Very small & safe: remove scripts/styles, collapse whitespace.\n",
    "    \"\"\"\n",
    "    soup = BeautifulSoup(html, \"html.parser\")\n",
    "\n",
    "    # Title\n",
    "    title = (soup.title.string or \"\").strip() if soup.title and soup.title.string else \"\"\n",
    "\n",
    "    # Drop boilerplate\n",
    "    for t in soup([\"script\", \"style\", \"noscript\"]):\n",
    "        t.extract()\n",
    "\n",
    "    # Text\n",
    "    text = soup.get_text(separator=\"\\n\")\n",
    "    # Normalize whitespace: strip lines, drop empty, collapse multiples\n",
    "    lines = [ln.strip() for ln in text.splitlines()]\n",
    "    text = \"\\n\".join([ln for ln in lines if ln])\n",
    "\n",
    "    return title, text\n"
   ]
  },
  {
   "cell_type": "code",
   "execution_count": 26,
   "id": "0070e5d4-c50a-4eef-8b73-650256e08254",
   "metadata": {},
   "outputs": [],
   "source": [
    "def extract_html_sample(url, max_items=30, max_bytes=2_000_000, session=None):\n",
    "    \"\"\"\n",
    "    Stream a WARC from `url` and yield up to `max_items` HTML pages with clean text.\n",
    "    - max_bytes caps how much we read per page (avoid huge PDFs disguised as html).\n",
    "    \"\"\"\n",
    "    sess = session or requests.Session()\n",
    "    sess.headers.update({\"User-Agent\": \"warc-stream/0.1\"})\n",
    "\n",
    "    seen = 0\n",
    "    with sess.get(url, stream=True, timeout=(60, 600)) as resp:\n",
    "        resp.raise_for_status()\n",
    "        gz = gzip.GzipFile(fileobj=resp.raw)\n",
    "\n",
    "        for rec in ArchiveIterator(gz):\n",
    "            if rec.rec_type != \"response\" or not rec.http_headers:\n",
    "                continue\n",
    "\n",
    "            ctype = (rec.http_headers.get_header(\"Content-Type\") or \"\").lower()\n",
    "            if \"text/html\" not in ctype:\n",
    "                continue\n",
    "\n",
    "            # Read the HTTP body bytes (cap to avoid surprises)\n",
    "            stream = rec.content_stream()\n",
    "            raw = stream.read(max_bytes)\n",
    "\n",
    "            # Decode: prefer charset from header; fall back to utf-8 -> latin-1\n",
    "            charset = pick_charset(ctype)\n",
    "            try:\n",
    "                html = raw.decode(charset, errors=\"replace\")\n",
    "            except LookupError:\n",
    "                # unknown charset name → fallback\n",
    "                try:\n",
    "                    html = raw.decode(\"utf-8\", errors=\"replace\")\n",
    "                except Exception:\n",
    "                    html = raw.decode(\"latin-1\", errors=\"replace\")\n",
    "\n",
    "            title, text = html_to_text(html)\n",
    "            item = {\n",
    "                \"url\": rec.rec_headers.get_header(\"WARC-Target-URI\"),\n",
    "                \"warc_date\": rec.rec_headers.get_header(\"WARC-Date\"),\n",
    "                \"content_type\": ctype,\n",
    "                \"title\": title,\n",
    "                \"text\": text,\n",
    "                \"len_text\": len(text),\n",
    "            }\n",
    "            yield item\n",
    "\n",
    "            seen += 1\n",
    "            if seen >= max_items:\n",
    "                break"
   ]
  },
  {
   "cell_type": "code",
   "execution_count": 27,
   "id": "249746a2-a7fe-4c70-8cb4-fe9fab4b0f77",
   "metadata": {},
   "outputs": [
    {
     "name": "stderr",
     "output_type": "stream",
     "text": [
      "C:\\Users\\huyas\\AppData\\Local\\Temp\\ipykernel_27888\\2069830391.py:17: XMLParsedAsHTMLWarning: It looks like you're using an HTML parser to parse an XML document.\n",
      "\n",
      "Assuming this really is an XML document, what you're doing might work, but you should know that using an XML parser will be more reliable. To parse this document as XML, make sure you have the Python package 'lxml' installed, and pass the keyword argument `features=\"xml\"` into the BeautifulSoup constructor.\n",
      "\n",
      "If you want or need to use an HTML parser on this document, you can make this warning go away by filtering it. To do that, run this code before calling the BeautifulSoup constructor:\n",
      "\n",
      "    from bs4 import XMLParsedAsHTMLWarning\n",
      "    import warnings\n",
      "\n",
      "    warnings.filterwarnings(\"ignore\", category=XMLParsedAsHTMLWarning)\n",
      "\n",
      "  soup = BeautifulSoup(html, \"html.parser\")\n"
     ]
    },
    {
     "name": "stdout",
     "output_type": "stream",
     "text": [
      "5000 HTML pages.\n",
      "0  → http://0014housingrental.shop/\n",
      "2635 ETF选择困难？易方达基金划分四大类助您轻松投资！_ → http://010ganji.com/html/yingjianchanpin/chanpinfenleisi/150.html\n",
      "15663 Скидка до 23% на керамические блоки Porotherm → http://01dom.ru/sale/prodlenie_aktsii_na_keramicheskie_bloki_porotherm/\n",
      "4827 青青草原综合久久,精品人成视频免费国产,色综合久久综合香蕉色老大 → http://0594jy.com/live/sepak/f4219021.html\n",
      "52  → http://0cpm.org/\n"
     ]
    }
   ],
   "source": [
    "# Use the resilient `session` you built earlier.\n",
    "rows = list(extract_html_sample(paths[0], max_items=5000, session=session))\n",
    "print(f\"{len(rows)} HTML pages.\")\n",
    "for r in rows[:5]:\n",
    "    print(r[\"len_text\"], r[\"title\"][:60], \"→\", r[\"url\"])"
   ]
  },
  {
   "cell_type": "code",
   "execution_count": 28,
   "id": "cf7a3b2f-673b-4436-a791-2be135568b06",
   "metadata": {},
   "outputs": [
    {
     "name": "stdout",
     "output_type": "stream",
     "text": [
      "Columns: ['url', 'warc_date', 'content_type', 'title', 'text', 'len_text']\n"
     ]
    },
    {
     "data": {
      "text/html": [
       "<div>\n",
       "<style scoped>\n",
       "    .dataframe tbody tr th:only-of-type {\n",
       "        vertical-align: middle;\n",
       "    }\n",
       "\n",
       "    .dataframe tbody tr th {\n",
       "        vertical-align: top;\n",
       "    }\n",
       "\n",
       "    .dataframe thead th {\n",
       "        text-align: right;\n",
       "    }\n",
       "</style>\n",
       "<table border=\"1\" class=\"dataframe\">\n",
       "  <thead>\n",
       "    <tr style=\"text-align: right;\">\n",
       "      <th></th>\n",
       "      <th>len_text</th>\n",
       "      <th>title</th>\n",
       "      <th>url</th>\n",
       "    </tr>\n",
       "  </thead>\n",
       "  <tbody>\n",
       "    <tr>\n",
       "      <th>0</th>\n",
       "      <td>0</td>\n",
       "      <td></td>\n",
       "      <td>http://0014housingrental.shop/</td>\n",
       "    </tr>\n",
       "    <tr>\n",
       "      <th>1</th>\n",
       "      <td>2635</td>\n",
       "      <td>ETF选择困难？易方达基金划分四大类助您轻松投资！_</td>\n",
       "      <td>http://010ganji.com/html/yingjianchanpin/chanp...</td>\n",
       "    </tr>\n",
       "    <tr>\n",
       "      <th>2</th>\n",
       "      <td>15663</td>\n",
       "      <td>Скидка до 23% на керамические блоки Porotherm</td>\n",
       "      <td>http://01dom.ru/sale/prodlenie_aktsii_na_keram...</td>\n",
       "    </tr>\n",
       "    <tr>\n",
       "      <th>3</th>\n",
       "      <td>4827</td>\n",
       "      <td>青青草原综合久久,精品人成视频免费国产,色综合久久综合香蕉色老大</td>\n",
       "      <td>http://0594jy.com/live/sepak/f4219021.html</td>\n",
       "    </tr>\n",
       "    <tr>\n",
       "      <th>4</th>\n",
       "      <td>52</td>\n",
       "      <td></td>\n",
       "      <td>http://0cpm.org/</td>\n",
       "    </tr>\n",
       "    <tr>\n",
       "      <th>...</th>\n",
       "      <td>...</td>\n",
       "      <td>...</td>\n",
       "      <td>...</td>\n",
       "    </tr>\n",
       "    <tr>\n",
       "      <th>95</th>\n",
       "      <td>9</td>\n",
       "      <td>CONTENTdm</td>\n",
       "      <td>http://archives.csuchico.edu/digital/collectio...</td>\n",
       "    </tr>\n",
       "    <tr>\n",
       "      <th>96</th>\n",
       "      <td>9</td>\n",
       "      <td>CONTENTdm</td>\n",
       "      <td>http://archives.csuchico.edu/digital/collectio...</td>\n",
       "    </tr>\n",
       "    <tr>\n",
       "      <th>97</th>\n",
       "      <td>18256</td>\n",
       "      <td>Collection browser</td>\n",
       "      <td>http://archives.rcpe.ac.uk/CalmView/TreeBrowse...</td>\n",
       "    </tr>\n",
       "    <tr>\n",
       "      <th>98</th>\n",
       "      <td>3075</td>\n",
       "      <td>ACCADEMIA NAZIONALE DEI LINCEI</td>\n",
       "      <td>http://archivi.lincei.it/index.php/information...</td>\n",
       "    </tr>\n",
       "    <tr>\n",
       "      <th>99</th>\n",
       "      <td>2411</td>\n",
       "      <td>Arctic Radio Club: VOA São Tome takes over 153...</td>\n",
       "      <td>http://arcticradioclub.blogspot.com/2012/07/vo...</td>\n",
       "    </tr>\n",
       "  </tbody>\n",
       "</table>\n",
       "<p>100 rows × 3 columns</p>\n",
       "</div>"
      ],
      "text/plain": [
       "    len_text                                              title  \\\n",
       "0          0                                                      \n",
       "1       2635                         ETF选择困难？易方达基金划分四大类助您轻松投资！_   \n",
       "2      15663      Скидка до 23% на керамические блоки Porotherm   \n",
       "3       4827                   青青草原综合久久,精品人成视频免费国产,色综合久久综合香蕉色老大   \n",
       "4         52                                                      \n",
       "..       ...                                                ...   \n",
       "95         9                                          CONTENTdm   \n",
       "96         9                                          CONTENTdm   \n",
       "97     18256                                 Collection browser   \n",
       "98      3075                     ACCADEMIA NAZIONALE DEI LINCEI   \n",
       "99      2411  Arctic Radio Club: VOA São Tome takes over 153...   \n",
       "\n",
       "                                                  url  \n",
       "0                      http://0014housingrental.shop/  \n",
       "1   http://010ganji.com/html/yingjianchanpin/chanp...  \n",
       "2   http://01dom.ru/sale/prodlenie_aktsii_na_keram...  \n",
       "3          http://0594jy.com/live/sepak/f4219021.html  \n",
       "4                                    http://0cpm.org/  \n",
       "..                                                ...  \n",
       "95  http://archives.csuchico.edu/digital/collectio...  \n",
       "96  http://archives.csuchico.edu/digital/collectio...  \n",
       "97  http://archives.rcpe.ac.uk/CalmView/TreeBrowse...  \n",
       "98  http://archivi.lincei.it/index.php/information...  \n",
       "99  http://arcticradioclub.blogspot.com/2012/07/vo...  \n",
       "\n",
       "[100 rows x 3 columns]"
      ]
     },
     "execution_count": 28,
     "metadata": {},
     "output_type": "execute_result"
    }
   ],
   "source": [
    "df = pd.DataFrame(rows)  \n",
    "print(\"Columns:\", df.columns.tolist())\n",
    "df[[\"len_text\", \"title\", \"url\"]].head(100)\n"
   ]
  },
  {
   "cell_type": "code",
   "execution_count": 29,
   "id": "1413f46c-0a8c-408e-b1da-5d2c6852b625",
   "metadata": {},
   "outputs": [
    {
     "name": "stdout",
     "output_type": "stream",
     "text": [
      "<class 'pandas.core.frame.DataFrame'>\n",
      "RangeIndex: 5000 entries, 0 to 4999\n",
      "Data columns (total 6 columns):\n",
      " #   Column        Non-Null Count  Dtype \n",
      "---  ------        --------------  ----- \n",
      " 0   url           5000 non-null   object\n",
      " 1   warc_date     5000 non-null   object\n",
      " 2   content_type  5000 non-null   object\n",
      " 3   title         5000 non-null   object\n",
      " 4   text          5000 non-null   object\n",
      " 5   len_text      5000 non-null   int64 \n",
      "dtypes: int64(1), object(5)\n",
      "memory usage: 234.5+ KB\n"
     ]
    }
   ],
   "source": [
    "df.info()"
   ]
  },
  {
   "cell_type": "code",
   "execution_count": 30,
   "id": "80724b53-8f07-40c3-977e-d5c4b86b1a0e",
   "metadata": {},
   "outputs": [
    {
     "name": "stdout",
     "output_type": "stream",
     "text": [
      "Total pages: 5000\n",
      "Zero-length pages: 119\n",
      "Short (<200 chars): 378\n",
      "Median length: 2908\n"
     ]
    }
   ],
   "source": [
    "print(\"Total pages:\", len(df))\n",
    "print(\"Zero-length pages:\", (df[\"len_text\"] == 0).sum())\n",
    "print(\"Short (<200 chars):\", (df[\"len_text\"] < 200).sum())\n",
    "print(\"Median length:\", int(df[\"len_text\"].median()))\n"
   ]
  },
  {
   "cell_type": "code",
   "execution_count": 132,
   "id": "68f3f89a-001a-48d9-9d76-c3660bedb87d",
   "metadata": {},
   "outputs": [
    {
     "data": {
      "text/plain": [
       "content_type\n",
       "text/html; charset=utf-8                           3896\n",
       "text/html                                           678\n",
       "text/html;charset=utf-8                             256\n",
       "text/html; charset=iso-8859-1                        41\n",
       "text/html; charset=windows-1251                      30\n",
       "text/html; charset=big5                              14\n",
       "text/html; charset=shift_jis                         13\n",
       "text/html;charset=iso-8859-1                         12\n",
       "text/html; charset=gbk                                6\n",
       "text/html; charset=euc-jp                             6\n",
       "text/html; charset=utf8                               5\n",
       "text/html; charset=euc-kr                             5\n",
       "text/html;charset=gbk                                 4\n",
       "text/html; charset=windows-1250                       3\n",
       "text/html; charset=gb2312                             3\n",
       "text/html; charset=cp1251                             3\n",
       "text/html; charset=utf-8;                             3\n",
       "text/html; charset=windows-1252                       2\n",
       "text/html; charset=iso-8859-7                         2\n",
       "text/html; charset=\"utf-8\"                            2\n",
       "text/html;                                            2\n",
       "text/html; charset=koi8-r                             1\n",
       "text/html; charset=shift_jis; charset=shift_jis       1\n",
       "text/html;charset=utf-8; charset=utf-8                1\n",
       "text/html; charset=0                                  1\n",
       "text/html; charset=windows-1257                       1\n",
       "text/html; charset=iso-8859-1;                        1\n",
       "text/html;charset=from                                1\n",
       "text/html; charset=cp 1252                            1\n",
       "text/html;charset=utf-8;                              1\n",
       "text/html; charset=iso-8859-9                         1\n",
       "text/html; charset=ibm437                             1\n",
       "text/html; charset=iso-8859-15                        1\n",
       "text/html;charset=tis620                              1\n",
       "text/html; charset=iso-8859-2                         1\n",
       "Name: count, dtype: int64"
      ]
     },
     "execution_count": 132,
     "metadata": {},
     "output_type": "execute_result"
    }
   ],
   "source": [
    "df['content_type'].value_counts()"
   ]
  },
  {
   "cell_type": "code",
   "execution_count": 31,
   "id": "7d5878bc-d9d3-4ee5-84a8-73bb94d942aa",
   "metadata": {},
   "outputs": [
    {
     "name": "stdout",
     "output_type": "stream",
     "text": [
      "length after filter: 4622 / 5000\n"
     ]
    },
    {
     "data": {
      "text/html": [
       "<div>\n",
       "<style scoped>\n",
       "    .dataframe tbody tr th:only-of-type {\n",
       "        vertical-align: middle;\n",
       "    }\n",
       "\n",
       "    .dataframe tbody tr th {\n",
       "        vertical-align: top;\n",
       "    }\n",
       "\n",
       "    .dataframe thead th {\n",
       "        text-align: right;\n",
       "    }\n",
       "</style>\n",
       "<table border=\"1\" class=\"dataframe\">\n",
       "  <thead>\n",
       "    <tr style=\"text-align: right;\">\n",
       "      <th></th>\n",
       "      <th>len_text</th>\n",
       "      <th>title</th>\n",
       "      <th>url</th>\n",
       "    </tr>\n",
       "  </thead>\n",
       "  <tbody>\n",
       "    <tr>\n",
       "      <th>1</th>\n",
       "      <td>2635</td>\n",
       "      <td>ETF选择困难？易方达基金划分四大类助您轻松投资！_</td>\n",
       "      <td>http://010ganji.com/html/yingjianchanpin/chanp...</td>\n",
       "    </tr>\n",
       "    <tr>\n",
       "      <th>2</th>\n",
       "      <td>15663</td>\n",
       "      <td>Скидка до 23% на керамические блоки Porotherm</td>\n",
       "      <td>http://01dom.ru/sale/prodlenie_aktsii_na_keram...</td>\n",
       "    </tr>\n",
       "    <tr>\n",
       "      <th>3</th>\n",
       "      <td>4827</td>\n",
       "      <td>青青草原综合久久,精品人成视频免费国产,色综合久久综合香蕉色老大</td>\n",
       "      <td>http://0594jy.com/live/sepak/f4219021.html</td>\n",
       "    </tr>\n",
       "    <tr>\n",
       "      <th>5</th>\n",
       "      <td>2000</td>\n",
       "      <td>Nicole Eredics - UBC Centennial</td>\n",
       "      <td>http://100.ubc.ca/ubc-impact/nicole-eredics/</td>\n",
       "    </tr>\n",
       "    <tr>\n",
       "      <th>6</th>\n",
       "      <td>3197</td>\n",
       "      <td>27 Μαΐου 2024 – 12o Δημοτικό Σχολείο Τρικάλων</td>\n",
       "      <td>http://12dim-trikal.tri.sch.gr/2024/05/27/</td>\n",
       "    </tr>\n",
       "  </tbody>\n",
       "</table>\n",
       "</div>"
      ],
      "text/plain": [
       "   len_text                                          title  \\\n",
       "1      2635                     ETF选择困难？易方达基金划分四大类助您轻松投资！_   \n",
       "2     15663  Скидка до 23% на керамические блоки Porotherm   \n",
       "3      4827               青青草原综合久久,精品人成视频免费国产,色综合久久综合香蕉色老大   \n",
       "5      2000                Nicole Eredics - UBC Centennial   \n",
       "6      3197  27 Μαΐου 2024 – 12o Δημοτικό Σχολείο Τρικάλων   \n",
       "\n",
       "                                                 url  \n",
       "1  http://010ganji.com/html/yingjianchanpin/chanp...  \n",
       "2  http://01dom.ru/sale/prodlenie_aktsii_na_keram...  \n",
       "3         http://0594jy.com/live/sepak/f4219021.html  \n",
       "5       http://100.ubc.ca/ubc-impact/nicole-eredics/  \n",
       "6         http://12dim-trikal.tri.sch.gr/2024/05/27/  "
      ]
     },
     "execution_count": 31,
     "metadata": {},
     "output_type": "execute_result"
    }
   ],
   "source": [
    "MIN_LEN = 200  # start with 200 minimum text length\n",
    "df_filt = df[df[\"len_text\"] >= MIN_LEN].copy()\n",
    "\n",
    "print(\"length after filter:\", len(df_filt), \"/\", len(df))\n",
    "df_filt[[\"len_text\", \"title\", \"url\"]].head(5)\n"
   ]
  },
  {
   "cell_type": "code",
   "execution_count": 32,
   "id": "5ea0bf82-08cd-43dc-972a-2caa24557c1c",
   "metadata": {},
   "outputs": [
    {
     "data": {
      "text/html": [
       "<div>\n",
       "<style scoped>\n",
       "    .dataframe tbody tr th:only-of-type {\n",
       "        vertical-align: middle;\n",
       "    }\n",
       "\n",
       "    .dataframe tbody tr th {\n",
       "        vertical-align: top;\n",
       "    }\n",
       "\n",
       "    .dataframe thead th {\n",
       "        text-align: right;\n",
       "    }\n",
       "</style>\n",
       "<table border=\"1\" class=\"dataframe\">\n",
       "  <thead>\n",
       "    <tr style=\"text-align: right;\">\n",
       "      <th></th>\n",
       "      <th>url</th>\n",
       "      <th>warc_date</th>\n",
       "      <th>content_type</th>\n",
       "      <th>title</th>\n",
       "      <th>text</th>\n",
       "      <th>len_text</th>\n",
       "    </tr>\n",
       "  </thead>\n",
       "  <tbody>\n",
       "    <tr>\n",
       "      <th>4995</th>\n",
       "      <td>https://dbgweb.com/catalog/product/kontron-269...</td>\n",
       "      <td>2025-08-02T22:53:42Z</td>\n",
       "      <td>text/html; charset=utf-8</td>\n",
       "      <td>KONTRON 26971 » Digital Brothers Group | CATALOG</td>\n",
       "      <td>KONTRON 26971 » Digital Brothers Group | CATAL...</td>\n",
       "      <td>1491</td>\n",
       "    </tr>\n",
       "    <tr>\n",
       "      <th>4996</th>\n",
       "      <td>https://dbhs.k12k.com/apps/events/2024/5/22/16...</td>\n",
       "      <td>2025-08-02T23:18:27Z</td>\n",
       "      <td>text/html;charset=utf-8</td>\n",
       "      <td>Final Exams (see schedule attached) | Dobyns-B...</td>\n",
       "      <td>Final Exams (see schedule attached) | Dobyns-B...</td>\n",
       "      <td>3401</td>\n",
       "    </tr>\n",
       "    <tr>\n",
       "      <th>4997</th>\n",
       "      <td>https://dblp.dagstuhl.de/pid/48/2402.html</td>\n",
       "      <td>2025-08-02T22:25:12Z</td>\n",
       "      <td>text/html; charset=utf-8</td>\n",
       "      <td>dblp: Domine Leenaerts</td>\n",
       "      <td>dblp: Domine Leenaerts\\ndblp\\nBlog\\nStatistics...</td>\n",
       "      <td>60056</td>\n",
       "    </tr>\n",
       "    <tr>\n",
       "      <th>4998</th>\n",
       "      <td>https://dbnaked.com/models/shemale/B/Bon</td>\n",
       "      <td>2025-08-02T23:48:19Z</td>\n",
       "      <td>text/html; charset=utf-8</td>\n",
       "      <td>Bon - shemale porn star bio and photos @ dbNaked</td>\n",
       "      <td>Bon - shemale porn star bio and photos @ dbNak...</td>\n",
       "      <td>1727</td>\n",
       "    </tr>\n",
       "    <tr>\n",
       "      <th>4999</th>\n",
       "      <td>https://dbpedia.org/page/Category:Streets_in_P...</td>\n",
       "      <td>2025-08-03T00:02:37Z</td>\n",
       "      <td>text/html; charset=utf-8</td>\n",
       "      <td>About: Streets in Plymouth, Devon</td>\n",
       "      <td>About: Streets in Plymouth, Devon\\nBrowse usin...</td>\n",
       "      <td>1177</td>\n",
       "    </tr>\n",
       "  </tbody>\n",
       "</table>\n",
       "</div>"
      ],
      "text/plain": [
       "                                                    url             warc_date  \\\n",
       "4995  https://dbgweb.com/catalog/product/kontron-269...  2025-08-02T22:53:42Z   \n",
       "4996  https://dbhs.k12k.com/apps/events/2024/5/22/16...  2025-08-02T23:18:27Z   \n",
       "4997          https://dblp.dagstuhl.de/pid/48/2402.html  2025-08-02T22:25:12Z   \n",
       "4998           https://dbnaked.com/models/shemale/B/Bon  2025-08-02T23:48:19Z   \n",
       "4999  https://dbpedia.org/page/Category:Streets_in_P...  2025-08-03T00:02:37Z   \n",
       "\n",
       "                  content_type  \\\n",
       "4995  text/html; charset=utf-8   \n",
       "4996   text/html;charset=utf-8   \n",
       "4997  text/html; charset=utf-8   \n",
       "4998  text/html; charset=utf-8   \n",
       "4999  text/html; charset=utf-8   \n",
       "\n",
       "                                                  title  \\\n",
       "4995   KONTRON 26971 » Digital Brothers Group | CATALOG   \n",
       "4996  Final Exams (see schedule attached) | Dobyns-B...   \n",
       "4997                             dblp: Domine Leenaerts   \n",
       "4998   Bon - shemale porn star bio and photos @ dbNaked   \n",
       "4999                  About: Streets in Plymouth, Devon   \n",
       "\n",
       "                                                   text  len_text  \n",
       "4995  KONTRON 26971 » Digital Brothers Group | CATAL...      1491  \n",
       "4996  Final Exams (see schedule attached) | Dobyns-B...      3401  \n",
       "4997  dblp: Domine Leenaerts\\ndblp\\nBlog\\nStatistics...     60056  \n",
       "4998  Bon - shemale porn star bio and photos @ dbNak...      1727  \n",
       "4999  About: Streets in Plymouth, Devon\\nBrowse usin...      1177  "
      ]
     },
     "execution_count": 32,
     "metadata": {},
     "output_type": "execute_result"
    }
   ],
   "source": [
    "df.tail()"
   ]
  },
  {
   "cell_type": "code",
   "execution_count": 33,
   "id": "1a811a71-0330-4004-982d-0d79d71facfe",
   "metadata": {},
   "outputs": [
    {
     "data": {
      "text/plain": [
       "url             0\n",
       "warc_date       0\n",
       "content_type    0\n",
       "title           0\n",
       "text            0\n",
       "len_text        0\n",
       "dtype: int64"
      ]
     },
     "execution_count": 33,
     "metadata": {},
     "output_type": "execute_result"
    }
   ],
   "source": [
    "df.isna().sum()"
   ]
  },
  {
   "cell_type": "code",
   "execution_count": 34,
   "id": "c3107f2c-ba96-4eed-88f1-cf8a4ac9550e",
   "metadata": {},
   "outputs": [],
   "source": [
    "df_test = df.copy()"
   ]
  },
  {
   "cell_type": "code",
   "execution_count": 35,
   "id": "a8e14462-b670-4cd1-83c3-b46df99cafb9",
   "metadata": {},
   "outputs": [],
   "source": [
    "import os\n",
    "# Tell Transformers to ignore TensorFlow entirely\n",
    "os.environ[\"TRANSFORMERS_NO_TF\"] = \"1\"\n",
    "# Optional: silence the Windows symlink warning\n",
    "os.environ[\"HF_HUB_DISABLE_SYMLINKS_WARNING\"] = \"1\"\n"
   ]
  },
  {
   "cell_type": "code",
   "execution_count": 36,
   "id": "b7164d30-ecb3-462d-b6b0-52f3bbc5720f",
   "metadata": {},
   "outputs": [
    {
     "name": "stderr",
     "output_type": "stream",
     "text": [
      "C:\\Users\\huyas\\anaconda3\\envs\\warc-dedupe\\Lib\\site-packages\\tqdm\\auto.py:21: TqdmWarning: IProgress not found. Please update jupyter and ipywidgets. See https://ipywidgets.readthedocs.io/en/stable/user_install.html\n",
      "  from .autonotebook import tqdm as notebook_tqdm\n",
      "Device set to use cpu\n"
     ]
    }
   ],
   "source": [
    "import torch\n",
    "from transformers import pipeline\n",
    "\n",
    "device = 0 if torch.cuda.is_available() else -1\n",
    "pipe = pipeline(\n",
    "    \"text-classification\",\n",
    "    model=\"papluca/xlm-roberta-base-language-detection\",\n",
    "    device=device,\n",
    "    framework=\"pt\",        # force PyTorch\n",
    ")\n"
   ]
  },
  {
   "cell_type": "code",
   "execution_count": 37,
   "id": "e0702dca-12e5-4244-a086-8d623c59e2e6",
   "metadata": {},
   "outputs": [],
   "source": [
    "text_series = df_test[\"text\"].astype(str).str.strip()\n",
    "title_series = df_test[\"title\"].astype(str).str.strip()\n",
    "inputs_series = text_series.where(text_series.ne(\"\"), title_series)  # element-wise fallback"
   ]
  },
  {
   "cell_type": "code",
   "execution_count": 38,
   "id": "8506bfbc-2541-4e3f-a022-cfd86c7ef9d6",
   "metadata": {},
   "outputs": [
    {
     "data": {
      "text/plain": [
       "0                                                        \n",
       "1       ETF选择困难？易方达基金划分四大类助您轻松投资！_\\n首页\\nw88win优德\\n产品分类...\n",
       "2       Скидка до 23% на керамические блоки Porotherm\\...\n",
       "3       青青草原综合久久,精品人成视频免费国产,色综合久久综合香蕉色老大\\n91精品国产自产在线观看...\n",
       "4       Redirection...\\nYou should be\\ntaken here\\nimm...\n",
       "                              ...                        \n",
       "4995    KONTRON 26971 » Digital Brothers Group | CATAL...\n",
       "4996    Final Exams (see schedule attached) | Dobyns-B...\n",
       "4997    dblp: Domine Leenaerts\\ndblp\\nBlog\\nStatistics...\n",
       "4998    Bon - shemale porn star bio and photos @ dbNak...\n",
       "4999    About: Streets in Plymouth, Devon\\nBrowse usin...\n",
       "Name: text, Length: 5000, dtype: object"
      ]
     },
     "execution_count": 38,
     "metadata": {},
     "output_type": "execute_result"
    }
   ],
   "source": [
    "text_series"
   ]
  },
  {
   "cell_type": "code",
   "execution_count": 39,
   "id": "ef5e3dc2-0e44-4c59-b256-da947908aa53",
   "metadata": {},
   "outputs": [
    {
     "data": {
      "text/plain": [
       "0                                                        \n",
       "1                              ETF选择困难？易方达基金划分四大类助您轻松投资！_\n",
       "2           Скидка до 23% на керамические блоки Porotherm\n",
       "3                        青青草原综合久久,精品人成视频免费国产,色综合久久综合香蕉色老大\n",
       "4                                                        \n",
       "                              ...                        \n",
       "4995     KONTRON 26971 » Digital Brothers Group | CATALOG\n",
       "4996    Final Exams (see schedule attached) | Dobyns-B...\n",
       "4997                               dblp: Domine Leenaerts\n",
       "4998     Bon - shemale porn star bio and photos @ dbNaked\n",
       "4999                    About: Streets in Plymouth, Devon\n",
       "Name: title, Length: 5000, dtype: object"
      ]
     },
     "execution_count": 39,
     "metadata": {},
     "output_type": "execute_result"
    }
   ],
   "source": [
    "title_series"
   ]
  },
  {
   "cell_type": "code",
   "execution_count": 40,
   "id": "581c6542-7da3-4455-978b-f90b4ee64be6",
   "metadata": {},
   "outputs": [
    {
     "data": {
      "text/plain": [
       "0                                                        \n",
       "1       ETF选择困难？易方达基金划分四大类助您轻松投资！_\\n首页\\nw88win优德\\n产品分类...\n",
       "2       Скидка до 23% на керамические блоки Porotherm\\...\n",
       "3       青青草原综合久久,精品人成视频免费国产,色综合久久综合香蕉色老大\\n91精品国产自产在线观看...\n",
       "4       Redirection...\\nYou should be\\ntaken here\\nimm...\n",
       "                              ...                        \n",
       "4995    KONTRON 26971 » Digital Brothers Group | CATAL...\n",
       "4996    Final Exams (see schedule attached) | Dobyns-B...\n",
       "4997    dblp: Domine Leenaerts\\ndblp\\nBlog\\nStatistics...\n",
       "4998    Bon - shemale porn star bio and photos @ dbNak...\n",
       "4999    About: Streets in Plymouth, Devon\\nBrowse usin...\n",
       "Name: text, Length: 5000, dtype: object"
      ]
     },
     "execution_count": 40,
     "metadata": {},
     "output_type": "execute_result"
    }
   ],
   "source": [
    "inputs_series"
   ]
  },
  {
   "cell_type": "code",
   "execution_count": 41,
   "id": "96cf0b7f-c5e6-4d93-b7bd-68f92002e129",
   "metadata": {},
   "outputs": [],
   "source": [
    "mask = inputs_series.ne(\"\")\n"
   ]
  },
  {
   "cell_type": "code",
   "execution_count": 42,
   "id": "1e76cca4-bd83-4107-8e20-462fb11f071a",
   "metadata": {},
   "outputs": [
    {
     "data": {
      "text/plain": [
       "2"
      ]
     },
     "execution_count": 42,
     "metadata": {},
     "output_type": "execute_result"
    }
   ],
   "source": [
    "mask.nunique()"
   ]
  },
  {
   "cell_type": "code",
   "execution_count": 43,
   "id": "21700328-5bb5-4292-aab1-0a26c3369849",
   "metadata": {},
   "outputs": [],
   "source": [
    "to_classify = inputs_series[mask].str.slice(0, 1000).tolist()  # truncate text, not rows for faster preprocessing\n"
   ]
  },
  {
   "cell_type": "code",
   "execution_count": 44,
   "id": "4c61b887-1576-400d-9341-724bc228d903",
   "metadata": {},
   "outputs": [
    {
     "data": {
      "text/plain": [
       "4881"
      ]
     },
     "execution_count": 44,
     "metadata": {},
     "output_type": "execute_result"
    }
   ],
   "source": [
    "len(to_classify)"
   ]
  },
  {
   "cell_type": "code",
   "execution_count": 45,
   "id": "ce1f116a-3cf5-44cc-8f5d-3835ad472a31",
   "metadata": {},
   "outputs": [],
   "source": [
    "df_test[\"languges\"] = \"unk\"  # default for truly empty rows\n",
    "\n",
    "if len(to_classify) > 0:\n",
    "    preds = pipe(to_classify, top_k=1, truncation=True, batch_size=32)\n",
    "    labels = [p[0][\"label\"] for p in preds]\n",
    "    df_test.loc[mask, \"languges\"] = labels"
   ]
  },
  {
   "cell_type": "code",
   "execution_count": 47,
   "id": "0e25fe33-d83c-4843-8c6e-ebff55190f9e",
   "metadata": {},
   "outputs": [
    {
     "name": "stdout",
     "output_type": "stream",
     "text": [
      "languges\n",
      "en     1821\n",
      "zh      719\n",
      "ru      392\n",
      "ja      268\n",
      "es      227\n",
      "de      220\n",
      "fr      189\n",
      "pl      154\n",
      "pt      132\n",
      "ur      120\n",
      "unk     119\n",
      "hi      115\n",
      "tr      101\n",
      "nl       92\n",
      "bg       88\n",
      "it       63\n",
      "vi       55\n",
      "ar       41\n",
      "sw       35\n",
      "th       27\n",
      "el       22\n",
      "Name: count, dtype: int64\n"
     ]
    }
   ],
   "source": [
    "print(df_test[\"languges\"].value_counts())\n"
   ]
  },
  {
   "cell_type": "code",
   "execution_count": 48,
   "id": "8eb3ddca-aa9d-461f-963a-89ca1b37ba58",
   "metadata": {},
   "outputs": [
    {
     "name": "stdout",
     "output_type": "stream",
     "text": [
      "                                                 url  \\\n",
      "0                     http://0014housingrental.shop/   \n",
      "1  http://010ganji.com/html/yingjianchanpin/chanp...   \n",
      "2  http://01dom.ru/sale/prodlenie_aktsii_na_keram...   \n",
      "3         http://0594jy.com/live/sepak/f4219021.html   \n",
      "4                                   http://0cpm.org/   \n",
      "5       http://100.ubc.ca/ubc-impact/nicole-eredics/   \n",
      "6         http://12dim-trikal.tri.sch.gr/2024/05/27/   \n",
      "7  http://1599888.gg33t.com/index.phtml?PUT=a_sho...   \n",
      "8                 http://170248.hwe2.com/?FID=170248   \n",
      "9  http://170248.hwe2.com/?PUT=a_show&AID=280092&...   \n",
      "\n",
      "                                           title languges  \n",
      "0                                                     unk  \n",
      "1                     ETF选择困难？易方达基金划分四大类助您轻松投资！_       zh  \n",
      "2  Скидка до 23% на керамические блоки Porotherm       ru  \n",
      "3               青青草原综合久久,精品人成视频免费国产,色综合久久综合香蕉色老大       zh  \n",
      "4                                                      en  \n",
      "5                Nicole Eredics - UBC Centennial       en  \n",
      "6  27 Μαΐου 2024 – 12o Δημοτικό Σχολείο Τρικάλων       el  \n",
      "7                                    真愛旅舍173LiVE       zh  \n",
      "8                               三色成人免費聊天室,173視訊妹       zh  \n",
      "9                  三色成人免費聊天室,173視訊妹 - 主播 :: 呆呆少女       zh  \n"
     ]
    }
   ],
   "source": [
    "print(df_test[[\"url\",\"title\",\"languges\"]].head(10))"
   ]
  },
  {
   "cell_type": "code",
   "execution_count": 49,
   "id": "d0303c7e-1172-4748-941f-94f93c0ace49",
   "metadata": {},
   "outputs": [
    {
     "name": "stdout",
     "output_type": "stream",
     "text": [
      "                                                    url             warc_date  \\\n",
      "0                        http://0014housingrental.shop/  2025-08-02T23:15:49Z   \n",
      "1     http://010ganji.com/html/yingjianchanpin/chanp...  2025-08-02T23:06:24Z   \n",
      "2     http://01dom.ru/sale/prodlenie_aktsii_na_keram...  2025-08-02T22:29:13Z   \n",
      "3            http://0594jy.com/live/sepak/f4219021.html  2025-08-02T23:18:39Z   \n",
      "4                                      http://0cpm.org/  2025-08-02T23:57:45Z   \n",
      "...                                                 ...                   ...   \n",
      "4995  https://dbgweb.com/catalog/product/kontron-269...  2025-08-02T22:53:42Z   \n",
      "4996  https://dbhs.k12k.com/apps/events/2024/5/22/16...  2025-08-02T23:18:27Z   \n",
      "4997          https://dblp.dagstuhl.de/pid/48/2402.html  2025-08-02T22:25:12Z   \n",
      "4998           https://dbnaked.com/models/shemale/B/Bon  2025-08-02T23:48:19Z   \n",
      "4999  https://dbpedia.org/page/Category:Streets_in_P...  2025-08-03T00:02:37Z   \n",
      "\n",
      "                  content_type  \\\n",
      "0     text/html; charset=utf-8   \n",
      "1                    text/html   \n",
      "2     text/html; charset=utf-8   \n",
      "3                    text/html   \n",
      "4                    text/html   \n",
      "...                        ...   \n",
      "4995  text/html; charset=utf-8   \n",
      "4996   text/html;charset=utf-8   \n",
      "4997  text/html; charset=utf-8   \n",
      "4998  text/html; charset=utf-8   \n",
      "4999  text/html; charset=utf-8   \n",
      "\n",
      "                                                  title  \\\n",
      "0                                                         \n",
      "1                            ETF选择困难？易方达基金划分四大类助您轻松投资！_   \n",
      "2         Скидка до 23% на керамические блоки Porotherm   \n",
      "3                      青青草原综合久久,精品人成视频免费国产,色综合久久综合香蕉色老大   \n",
      "4                                                         \n",
      "...                                                 ...   \n",
      "4995   KONTRON 26971 » Digital Brothers Group | CATALOG   \n",
      "4996  Final Exams (see schedule attached) | Dobyns-B...   \n",
      "4997                             dblp: Domine Leenaerts   \n",
      "4998   Bon - shemale porn star bio and photos @ dbNaked   \n",
      "4999                  About: Streets in Plymouth, Devon   \n",
      "\n",
      "                                                   text  len_text languges  \n",
      "0                                                               0      unk  \n",
      "1     ETF选择困难？易方达基金划分四大类助您轻松投资！_\\n首页\\nw88win优德\\n产品分类...      2635       zh  \n",
      "2     Скидка до 23% на керамические блоки Porotherm\\...     15663       ru  \n",
      "3     青青草原综合久久,精品人成视频免费国产,色综合久久综合香蕉色老大\\n91精品国产自产在线观看...      4827       zh  \n",
      "4     Redirection...\\nYou should be\\ntaken here\\nimm...        52       en  \n",
      "...                                                 ...       ...      ...  \n",
      "4995  KONTRON 26971 » Digital Brothers Group | CATAL...      1491       en  \n",
      "4996  Final Exams (see schedule attached) | Dobyns-B...      3401       en  \n",
      "4997  dblp: Domine Leenaerts\\ndblp\\nBlog\\nStatistics...     60056       en  \n",
      "4998  Bon - shemale porn star bio and photos @ dbNak...      1727       en  \n",
      "4999  About: Streets in Plymouth, Devon\\nBrowse usin...      1177       en  \n",
      "\n",
      "[5000 rows x 7 columns]\n"
     ]
    }
   ],
   "source": [
    "print(df_test)"
   ]
  },
  {
   "cell_type": "code",
   "execution_count": 50,
   "id": "2cd3a473-6f90-4c66-8e8f-1f0fd807e15e",
   "metadata": {},
   "outputs": [
    {
     "name": "stdout",
     "output_type": "stream",
     "text": [
      "Total: 5000 | English only: 1821\n"
     ]
    }
   ],
   "source": [
    "df_en = df_test[df_test[\"languges\"].astype(str).str.lower() == \"en\"].copy()\n",
    "print(\"Total:\", len(df_test), \"| English only:\", len(df_en))\n"
   ]
  },
  {
   "cell_type": "code",
   "execution_count": 51,
   "id": "cb0e0de5-6e99-4ba8-a230-3ef3b8321e4b",
   "metadata": {},
   "outputs": [],
   "source": [
    "text_series  = df_en[\"text\"].astype(str).str.strip()\n",
    "title_series = df_en[\"title\"].astype(str).str.strip()\n",
    "df_en[\"text_src\"] = text_series.where(text_series.ne(\"\"), title_series)"
   ]
  },
  {
   "cell_type": "code",
   "execution_count": 52,
   "id": "c73cb5a3-271e-461b-af5c-2f9159710a13",
   "metadata": {},
   "outputs": [
    {
     "data": {
      "text/plain": [
       "4       Redirection...\\nYou should be\\ntaken here\\nimm...\n",
       "5       Nicole Eredics - UBC Centennial\\nSkip to main ...\n",
       "20      The Portal: The Alliance Fleet\\nThe Portal\\nTh...\n",
       "24      Ashop Marketplace\\nSearch\\nAdvanced Search\\nAE...\n",
       "33      Sticky Notes Set in PP Box Archives - High Qua...\n",
       "                              ...                        \n",
       "4995    KONTRON 26971 » Digital Brothers Group | CATAL...\n",
       "4996    Final Exams (see schedule attached) | Dobyns-B...\n",
       "4997    dblp: Domine Leenaerts\\ndblp\\nBlog\\nStatistics...\n",
       "4998    Bon - shemale porn star bio and photos @ dbNak...\n",
       "4999    About: Streets in Plymouth, Devon\\nBrowse usin...\n",
       "Name: text_src, Length: 1821, dtype: object"
      ]
     },
     "execution_count": 52,
     "metadata": {},
     "output_type": "execute_result"
    }
   ],
   "source": [
    "df_en['text_src']"
   ]
  },
  {
   "cell_type": "code",
   "execution_count": 55,
   "id": "ea6e758f-4a27-4cb6-adbf-4226eeda34e9",
   "metadata": {},
   "outputs": [],
   "source": [
    " !pip install -q beautifulsoup4 unidecode\n"
   ]
  },
  {
   "cell_type": "markdown",
   "id": "65e3f66a-a1be-469c-b69c-5a36d8195339",
   "metadata": {},
   "source": [
    "### Text Cleaning Function\n",
    "\n",
    "The `clean_text` function preprocesses raw text by:\n",
    "- Removing HTML tags, URLs, and email addresses  \n",
    "- Normalizing Unicode and converting accented characters to ASCII  \n",
    "- Lowercasing all text  \n",
    "- Replacing numbers with `<num>`  \n",
    "- Removing unwanted symbols and extra spaces  \n",
    "\n",
    "This produces clean and standardized text for NLP or machine learning tasks.\n"
   ]
  },
  {
   "cell_type": "code",
   "execution_count": 56,
   "id": "a93d5908-808f-4371-96ee-deaf773a1fea",
   "metadata": {},
   "outputs": [],
   "source": [
    "import re, html, unicodedata\n",
    "from bs4 import BeautifulSoup\n",
    "from unidecode import unidecode\n",
    "\n",
    "_url_pat   = re.compile(r'https?://\\S+|www\\.\\S+')\n",
    "_email_pat = re.compile(r'\\b\\S+@\\S+\\.\\S+\\b')\n",
    "\n",
    "def clean_text(s: str) -> str:\n",
    "    if not isinstance(s, str) or not s.strip():\n",
    "        return \"\"\n",
    "    s = BeautifulSoup(s, \"html.parser\").get_text(\" \", strip=True)\n",
    "    s = html.unescape(s)\n",
    "    s = unicodedata.normalize(\"NFKC\", s)\n",
    "    s = unidecode(s)\n",
    "    s = _url_pat.sub(\" \", s)\n",
    "    s = _email_pat.sub(\" \", s)\n",
    "    s = s.lower()\n",
    "    s = re.sub(r'\\d+', ' <num> ', s)\n",
    "    s = re.sub(r\"[^a-z0-9'_/.,!?;:() -]+\", \" \", s)\n",
    "    s = re.sub(r\"\\s+\", \" \", s).strip()\n",
    "    return s\n"
   ]
  },
  {
   "cell_type": "code",
   "execution_count": 57,
   "id": "f72a9956-2ed4-4928-9019-0cf28c6295f8",
   "metadata": {},
   "outputs": [],
   "source": [
    "df_en[\"text_clean\"]  = df_en[\"text_src\"].apply(clean_text)\n"
   ]
  },
  {
   "cell_type": "code",
   "execution_count": 60,
   "id": "916b7f7f-c0c1-444c-9b91-f7dbd61294f3",
   "metadata": {},
   "outputs": [
    {
     "data": {
      "text/plain": [
       "4     redirection... you should be taken here immedi...\n",
       "5     nicole eredics - ubc centennial skip to main c...\n",
       "20    the portal: the alliance fleet the portal the ...\n",
       "24    ashop marketplace search advanced search aed a...\n",
       "33    sticky notes set in pp box archives - high qua...\n",
       "42    agenda san diego wireless summit skip to main ...\n",
       "53    july num a num race management skip to content...\n",
       "55    about scotland bed and breakfast, self caterin...\n",
       "56    one moment, please... loader please wait while...\n",
       "59    a komorbid szorongasos es depresszios zavarok ...\n",
       "Name: text_clean, dtype: object"
      ]
     },
     "execution_count": 60,
     "metadata": {},
     "output_type": "execute_result"
    }
   ],
   "source": [
    "df_en[\"text_clean\"].head(10)"
   ]
  },
  {
   "cell_type": "code",
   "execution_count": 61,
   "id": "cc164750-f5d8-4af9-9624-29dbf0de12b0",
   "metadata": {},
   "outputs": [],
   "source": [
    "df_en[\"title_clean\"] = df_en[\"title\"].astype(str).apply(clean_text)\n"
   ]
  },
  {
   "cell_type": "code",
   "execution_count": 62,
   "id": "3ba82a58-7f37-4912-966c-91e41d8debfd",
   "metadata": {},
   "outputs": [
    {
     "data": {
      "text/plain": [
       "4                                                      \n",
       "5                       nicole eredics - ubc centennial\n",
       "20                       the portal: the alliance fleet\n",
       "24                                    ashop marketplace\n",
       "33    sticky notes set in pp box archives - high qua...\n",
       "42                     agenda san diego wireless summit\n",
       "53                       july num a num race management\n",
       "55    about scotland bed and breakfast, self caterin...\n",
       "56                                one moment, please...\n",
       "59    a komorbid szorongasos es depresszios zavarok ...\n",
       "Name: title_clean, dtype: object"
      ]
     },
     "execution_count": 62,
     "metadata": {},
     "output_type": "execute_result"
    }
   ],
   "source": [
    "df_en[\"title_clean\"].head(10)"
   ]
  },
  {
   "cell_type": "code",
   "execution_count": 63,
   "id": "bbc9d72c-0ba3-461e-a9af-d6311f3fa6d8",
   "metadata": {},
   "outputs": [],
   "source": [
    "df_en[\"len_clean\"]   = df_en[\"text_clean\"].str.len()\n"
   ]
  },
  {
   "cell_type": "code",
   "execution_count": 64,
   "id": "b22dff24-f09a-40b1-99f5-f9d5f0ea8073",
   "metadata": {},
   "outputs": [
    {
     "data": {
      "text/plain": [
       "4          52\n",
       "5        1961\n",
       "20      73806\n",
       "24       2167\n",
       "33       1604\n",
       "        ...  \n",
       "4995     1580\n",
       "4996     3489\n",
       "4997    56702\n",
       "4998     1814\n",
       "4999     1149\n",
       "Name: len_clean, Length: 1821, dtype: int64"
      ]
     },
     "execution_count": 64,
     "metadata": {},
     "output_type": "execute_result"
    }
   ],
   "source": [
    "df_en[\"len_clean\"]"
   ]
  },
  {
   "cell_type": "code",
   "execution_count": null,
   "id": "00c0207d-5f5c-4c94-a0db-8c950ec9683f",
   "metadata": {},
   "outputs": [],
   "source": [
    "# df_en.reset_index()"
   ]
  },
  {
   "cell_type": "code",
   "execution_count": 66,
   "id": "d12bfb02-9aa3-45a0-a46c-5c4eab8fcf32",
   "metadata": {},
   "outputs": [
    {
     "data": {
      "text/plain": [
       "np.float64(3016.0)"
      ]
     },
     "execution_count": 66,
     "metadata": {},
     "output_type": "execute_result"
    }
   ],
   "source": [
    "df_en[\"len_clean\"].median()"
   ]
  },
  {
   "cell_type": "code",
   "execution_count": 67,
   "id": "8fc10151-c536-475c-9790-2906063d95cc",
   "metadata": {},
   "outputs": [
    {
     "name": "stdout",
     "output_type": "stream",
     "text": [
      "Empty cleaned texts: 0\n"
     ]
    }
   ],
   "source": [
    "print(\"Empty cleaned texts:\", (df_en[\"len_clean\"]==0).sum())\n"
   ]
  },
  {
   "cell_type": "code",
   "execution_count": 73,
   "id": "9416a38b-447d-4f42-a3d6-aaccded1fb53",
   "metadata": {},
   "outputs": [
    {
     "data": {
      "text/html": [
       "<div>\n",
       "<style scoped>\n",
       "    .dataframe tbody tr th:only-of-type {\n",
       "        vertical-align: middle;\n",
       "    }\n",
       "\n",
       "    .dataframe tbody tr th {\n",
       "        vertical-align: top;\n",
       "    }\n",
       "\n",
       "    .dataframe thead th {\n",
       "        text-align: right;\n",
       "    }\n",
       "</style>\n",
       "<table border=\"1\" class=\"dataframe\">\n",
       "  <thead>\n",
       "    <tr style=\"text-align: right;\">\n",
       "      <th></th>\n",
       "      <th>url</th>\n",
       "      <th>warc_date</th>\n",
       "      <th>content_type</th>\n",
       "      <th>title</th>\n",
       "      <th>text</th>\n",
       "      <th>len_text</th>\n",
       "      <th>languges</th>\n",
       "      <th>text_src</th>\n",
       "      <th>text_clean</th>\n",
       "      <th>title_clean</th>\n",
       "      <th>len_clean</th>\n",
       "    </tr>\n",
       "  </thead>\n",
       "  <tbody>\n",
       "    <tr>\n",
       "      <th>4</th>\n",
       "      <td>http://0cpm.org/</td>\n",
       "      <td>2025-08-02T23:57:45Z</td>\n",
       "      <td>text/html</td>\n",
       "      <td></td>\n",
       "      <td>Redirection...\\nYou should be\\ntaken here\\nimm...</td>\n",
       "      <td>52</td>\n",
       "      <td>en</td>\n",
       "      <td>Redirection...\\nYou should be\\ntaken here\\nimm...</td>\n",
       "      <td>redirection... you should be taken here immedi...</td>\n",
       "      <td></td>\n",
       "      <td>52</td>\n",
       "    </tr>\n",
       "    <tr>\n",
       "      <th>5</th>\n",
       "      <td>http://100.ubc.ca/ubc-impact/nicole-eredics/</td>\n",
       "      <td>2025-08-02T23:25:21Z</td>\n",
       "      <td>text/html; charset=utf-8</td>\n",
       "      <td>Nicole Eredics - UBC Centennial</td>\n",
       "      <td>Nicole Eredics - UBC Centennial\\nSkip to main ...</td>\n",
       "      <td>2000</td>\n",
       "      <td>en</td>\n",
       "      <td>Nicole Eredics - UBC Centennial\\nSkip to main ...</td>\n",
       "      <td>nicole eredics - ubc centennial skip to main c...</td>\n",
       "      <td>nicole eredics - ubc centennial</td>\n",
       "      <td>1961</td>\n",
       "    </tr>\n",
       "    <tr>\n",
       "      <th>20</th>\n",
       "      <td>http://2012portal.blogspot.com/2015/03/the-all...</td>\n",
       "      <td>2025-08-02T23:31:29Z</td>\n",
       "      <td>text/html; charset=utf-8</td>\n",
       "      <td>The Portal: The Alliance Fleet</td>\n",
       "      <td>The Portal: The Alliance Fleet\\nThe Portal\\nTh...</td>\n",
       "      <td>76132</td>\n",
       "      <td>en</td>\n",
       "      <td>The Portal: The Alliance Fleet\\nThe Portal\\nTh...</td>\n",
       "      <td>the portal: the alliance fleet the portal the ...</td>\n",
       "      <td>the portal: the alliance fleet</td>\n",
       "      <td>73806</td>\n",
       "    </tr>\n",
       "    <tr>\n",
       "      <th>24</th>\n",
       "      <td>http://336-166316.shop033.com/MarketPlace/Merc...</td>\n",
       "      <td>2025-08-02T23:17:25Z</td>\n",
       "      <td>text/html; charset=utf-8</td>\n",
       "      <td>Ashop Marketplace</td>\n",
       "      <td>Ashop Marketplace\\nSearch\\nAdvanced Search\\nAE...</td>\n",
       "      <td>2201</td>\n",
       "      <td>en</td>\n",
       "      <td>Ashop Marketplace\\nSearch\\nAdvanced Search\\nAE...</td>\n",
       "      <td>ashop marketplace search advanced search aed a...</td>\n",
       "      <td>ashop marketplace</td>\n",
       "      <td>2167</td>\n",
       "    </tr>\n",
       "    <tr>\n",
       "      <th>33</th>\n",
       "      <td>http://4ausa.com/product-category/sticky-notes...</td>\n",
       "      <td>2025-08-03T00:05:19Z</td>\n",
       "      <td>text/html; charset=utf-8</td>\n",
       "      <td>Sticky Notes Set in PP Box Archives - High Qua...</td>\n",
       "      <td>Sticky Notes Set in PP Box Archives - High Qua...</td>\n",
       "      <td>1569</td>\n",
       "      <td>en</td>\n",
       "      <td>Sticky Notes Set in PP Box Archives - High Qua...</td>\n",
       "      <td>sticky notes set in pp box archives - high qua...</td>\n",
       "      <td>sticky notes set in pp box archives - high qua...</td>\n",
       "      <td>1604</td>\n",
       "    </tr>\n",
       "  </tbody>\n",
       "</table>\n",
       "</div>"
      ],
      "text/plain": [
       "                                                  url             warc_date  \\\n",
       "4                                    http://0cpm.org/  2025-08-02T23:57:45Z   \n",
       "5        http://100.ubc.ca/ubc-impact/nicole-eredics/  2025-08-02T23:25:21Z   \n",
       "20  http://2012portal.blogspot.com/2015/03/the-all...  2025-08-02T23:31:29Z   \n",
       "24  http://336-166316.shop033.com/MarketPlace/Merc...  2025-08-02T23:17:25Z   \n",
       "33  http://4ausa.com/product-category/sticky-notes...  2025-08-03T00:05:19Z   \n",
       "\n",
       "                content_type  \\\n",
       "4                  text/html   \n",
       "5   text/html; charset=utf-8   \n",
       "20  text/html; charset=utf-8   \n",
       "24  text/html; charset=utf-8   \n",
       "33  text/html; charset=utf-8   \n",
       "\n",
       "                                                title  \\\n",
       "4                                                       \n",
       "5                     Nicole Eredics - UBC Centennial   \n",
       "20                     The Portal: The Alliance Fleet   \n",
       "24                                  Ashop Marketplace   \n",
       "33  Sticky Notes Set in PP Box Archives - High Qua...   \n",
       "\n",
       "                                                 text  len_text languges  \\\n",
       "4   Redirection...\\nYou should be\\ntaken here\\nimm...        52       en   \n",
       "5   Nicole Eredics - UBC Centennial\\nSkip to main ...      2000       en   \n",
       "20  The Portal: The Alliance Fleet\\nThe Portal\\nTh...     76132       en   \n",
       "24  Ashop Marketplace\\nSearch\\nAdvanced Search\\nAE...      2201       en   \n",
       "33  Sticky Notes Set in PP Box Archives - High Qua...      1569       en   \n",
       "\n",
       "                                             text_src  \\\n",
       "4   Redirection...\\nYou should be\\ntaken here\\nimm...   \n",
       "5   Nicole Eredics - UBC Centennial\\nSkip to main ...   \n",
       "20  The Portal: The Alliance Fleet\\nThe Portal\\nTh...   \n",
       "24  Ashop Marketplace\\nSearch\\nAdvanced Search\\nAE...   \n",
       "33  Sticky Notes Set in PP Box Archives - High Qua...   \n",
       "\n",
       "                                           text_clean  \\\n",
       "4   redirection... you should be taken here immedi...   \n",
       "5   nicole eredics - ubc centennial skip to main c...   \n",
       "20  the portal: the alliance fleet the portal the ...   \n",
       "24  ashop marketplace search advanced search aed a...   \n",
       "33  sticky notes set in pp box archives - high qua...   \n",
       "\n",
       "                                          title_clean  len_clean  \n",
       "4                                                             52  \n",
       "5                     nicole eredics - ubc centennial       1961  \n",
       "20                     the portal: the alliance fleet      73806  \n",
       "24                                  ashop marketplace       2167  \n",
       "33  sticky notes set in pp box archives - high qua...       1604  "
      ]
     },
     "execution_count": 73,
     "metadata": {},
     "output_type": "execute_result"
    }
   ],
   "source": [
    "df_en.head()"
   ]
  },
  {
   "cell_type": "code",
   "execution_count": 72,
   "id": "adbf62d8-48a6-4de5-a04c-a8f2bfce3863",
   "metadata": {},
   "outputs": [
    {
     "data": {
      "text/plain": [
       "languges\n",
       "en    1821\n",
       "Name: count, dtype: int64"
      ]
     },
     "execution_count": 72,
     "metadata": {},
     "output_type": "execute_result"
    }
   ],
   "source": [
    "df_en['languges'].value_counts()"
   ]
  },
  {
   "cell_type": "code",
   "execution_count": 75,
   "id": "bf3ebf14-79d2-42c4-843f-f083cc6d924b",
   "metadata": {},
   "outputs": [
    {
     "data": {
      "text/plain": [
       "url             0\n",
       "warc_date       0\n",
       "content_type    0\n",
       "title           0\n",
       "text            0\n",
       "len_text        0\n",
       "languges        0\n",
       "text_src        0\n",
       "text_clean      0\n",
       "title_clean     0\n",
       "len_clean       0\n",
       "dtype: int64"
      ]
     },
     "execution_count": 75,
     "metadata": {},
     "output_type": "execute_result"
    }
   ],
   "source": [
    "df_en.isna().sum()"
   ]
  },
  {
   "cell_type": "code",
   "execution_count": 79,
   "id": "e0cdb15c-b6ba-4160-99b7-5e3777aae647",
   "metadata": {},
   "outputs": [],
   "source": [
    "try:\n",
    "    import spacy\n",
    "except ImportError:\n",
    "    subprocess.check_call([sys.executable, \"-m\", \"pip\", \"install\", \"-q\", \"spacy\"])\n",
    "    import spacy\n",
    "\n",
    "MODEL = \"en_core_web_sm\"\n",
    "try:\n",
    "    nlp = spacy.load(MODEL, disable=[\"parser\",\"ner\",\"textcat\"])\n",
    "except OSError:\n",
    "    subprocess.check_call([sys.executable, \"-m\", \"spacy\", \"download\", MODEL])\n",
    "    nlp = spacy.load(MODEL, disable=[\"parser\",\"ner\",\"textcat\"])\n",
    "\n",
    "stop = nlp.Defaults.stop_words"
   ]
  },
  {
   "cell_type": "markdown",
   "id": "733c9879-1294-4fa7-953b-95345f9772bb",
   "metadata": {},
   "source": [
    "### Lemmatization with spaCy (NLP preprocessing)\n",
    "- **Truncating** very long documents to 300k chars (avoids spaCy memory errors)\n",
    "- **Batch-processing** with `nlp.pipe` for speed\n",
    "- **Tokenizing & lemmatizing** (e.g., “running” → “run”), lowercasing, and removing punctuation, stopwords, and 1-char tokens\n",
    "- **Saving outputs** to `tokens`, `lemmas`, and `len_tokens`, then printing quick sanity stats and a small preview"
   ]
  },
  {
   "cell_type": "code",
   "execution_count": 81,
   "id": "9fcb15bd-3660-41ea-8106-12d80e840e21",
   "metadata": {},
   "outputs": [
    {
     "name": "stdout",
     "output_type": "stream",
     "text": [
      "spaCy lemmatization done ✓ \n",
      "Docs: 1821 \n",
      "Trimmed docs (>MAX_CHARS_FOR_SPACY): 4 \n",
      "Empty token lists: 0 \n",
      "Median tokens/doc: 340\n"
     ]
    },
    {
     "data": {
      "text/html": [
       "<div>\n",
       "<style scoped>\n",
       "    .dataframe tbody tr th:only-of-type {\n",
       "        vertical-align: middle;\n",
       "    }\n",
       "\n",
       "    .dataframe tbody tr th {\n",
       "        vertical-align: top;\n",
       "    }\n",
       "\n",
       "    .dataframe thead th {\n",
       "        text-align: right;\n",
       "    }\n",
       "</style>\n",
       "<table border=\"1\" class=\"dataframe\">\n",
       "  <thead>\n",
       "    <tr style=\"text-align: right;\">\n",
       "      <th></th>\n",
       "      <th>title_clean</th>\n",
       "      <th>tokens</th>\n",
       "      <th>lemmas</th>\n",
       "    </tr>\n",
       "  </thead>\n",
       "  <tbody>\n",
       "    <tr>\n",
       "      <th>4</th>\n",
       "      <td></td>\n",
       "      <td>[redirection, taken, immediately]</td>\n",
       "      <td>[redirection, immediately]</td>\n",
       "    </tr>\n",
       "    <tr>\n",
       "      <th>5</th>\n",
       "      <td>nicole eredics - ubc centennial</td>\n",
       "      <td>[nicole, eredics, ubc, centennial, skip, main,...</td>\n",
       "      <td>[nicole, eredic, ubc, centennial, skip, main, ...</td>\n",
       "    </tr>\n",
       "    <tr>\n",
       "      <th>20</th>\n",
       "      <td>the portal: the alliance fleet</td>\n",
       "      <td>[portal, alliance, fleet, portal, intelligence...</td>\n",
       "      <td>[portal, alliance, fleet, portal, intelligence...</td>\n",
       "    </tr>\n",
       "    <tr>\n",
       "      <th>24</th>\n",
       "      <td>ashop marketplace</td>\n",
       "      <td>[ashop, marketplace, search, advanced, search,...</td>\n",
       "      <td>[ashop, marketplace, search, advanced, search,...</td>\n",
       "    </tr>\n",
       "    <tr>\n",
       "      <th>33</th>\n",
       "      <td>sticky notes set in pp box archives - high qua...</td>\n",
       "      <td>[sticky, notes, set, pp, box, archives, high, ...</td>\n",
       "      <td>[sticky, note, set, pp, box, archive, high, qu...</td>\n",
       "    </tr>\n",
       "  </tbody>\n",
       "</table>\n",
       "</div>"
      ],
      "text/plain": [
       "                                          title_clean  \\\n",
       "4                                                       \n",
       "5                     nicole eredics - ubc centennial   \n",
       "20                     the portal: the alliance fleet   \n",
       "24                                  ashop marketplace   \n",
       "33  sticky notes set in pp box archives - high qua...   \n",
       "\n",
       "                                               tokens  \\\n",
       "4                   [redirection, taken, immediately]   \n",
       "5   [nicole, eredics, ubc, centennial, skip, main,...   \n",
       "20  [portal, alliance, fleet, portal, intelligence...   \n",
       "24  [ashop, marketplace, search, advanced, search,...   \n",
       "33  [sticky, notes, set, pp, box, archives, high, ...   \n",
       "\n",
       "                                               lemmas  \n",
       "4                          [redirection, immediately]  \n",
       "5   [nicole, eredic, ubc, centennial, skip, main, ...  \n",
       "20  [portal, alliance, fleet, portal, intelligence...  \n",
       "24  [ashop, marketplace, search, advanced, search,...  \n",
       "33  [sticky, note, set, pp, box, archive, high, qu...  "
      ]
     },
     "metadata": {},
     "output_type": "display_data"
    }
   ],
   "source": [
    "# truncate very long docs for spaCy \n",
    "MAX_CHARS_FOR_SPACY = 300_000       # can be tuned but it is already big enough for my RAM\n",
    "texts = df_en[\"text_clean\"].astype(str).tolist()\n",
    "texts_trimmed = [t if len(t) <= MAX_CHARS_FOR_SPACY else t[:MAX_CHARS_FOR_SPACY] for t in texts]\n",
    "\n",
    "# batched lemmatization ( normalizing word running --> run )\n",
    "tokens_col, lemmas_col = [], []\n",
    "for doc in nlp.pipe(texts_trimmed, batch_size=256):\n",
    "    toks = [t.text.lower()   for t in doc if not (t.is_space or t.is_punct)]\n",
    "    lems = [t.lemma_.lower() for t in doc if not (t.is_space or t.is_punct)]\n",
    "    toks = [t for t in toks if len(t) > 1 and t not in stop]\n",
    "    lems = [l for l in lems if len(l) > 1 and l not in stop]\n",
    "    tokens_col.append(toks)\n",
    "    lemmas_col.append(lems)\n",
    "\n",
    "df_en[\"tokens\"] = tokens_col\n",
    "df_en[\"lemmas\"] = lemmas_col\n",
    "df_en[\"len_tokens\"] = df_en[\"tokens\"].apply(len)\n",
    "\n",
    "print(\n",
    "    \"spaCy lemmatization done ✓\",\n",
    "    \"\\nDocs:\", len(df_en),\n",
    "    \"\\nTrimmed docs (>MAX_CHARS_FOR_SPACY):\", sum(int(len(t) > MAX_CHARS_FOR_SPACY) for t in texts),\n",
    "    \"\\nEmpty token lists:\", int((df_en['len_tokens'] == 0).sum()),\n",
    "    \"\\nMedian tokens/doc:\", int(df_en['len_tokens'].median()),\n",
    ")\n",
    "display(df_en[[\"title_clean\",\"tokens\",\"lemmas\"]].head(5))"
   ]
  },
  {
   "cell_type": "markdown",
   "id": "18ff1afa-c527-4a4d-90f9-c077f335197d",
   "metadata": {},
   "source": [
    "### **Result:** clean, normalized word features that improve similarity, deduplication, and clustering.\n"
   ]
  },
  {
   "cell_type": "code",
   "execution_count": 83,
   "id": "f42d3724-7684-48a6-ba44-e44e5d3b1189",
   "metadata": {},
   "outputs": [
    {
     "data": {
      "text/plain": [
       "np.int64(0)"
      ]
     },
     "execution_count": 83,
     "metadata": {},
     "output_type": "execute_result"
    }
   ],
   "source": [
    "df_en['tokens'].isna().sum()"
   ]
  },
  {
   "cell_type": "markdown",
   "id": "4b8cec81-06ac-46a9-ac92-2d8574181888",
   "metadata": {},
   "source": [
    "### TF-IDF Feature Extraction\n",
    "\n",
    "converting lemmatized text into numeric vectors for similarity and clustering:\n",
    "\n",
    "- **Joins lemmas** back into strings to form the `corpus`\n",
    "- Builds a **TF-IDF** vectorizer with:\n",
    "  - `max_features=50,000` (cap vocabulary size)\n",
    "  - `min_df=3` (ignore ultra-rare terms)\n",
    "  - `ngram_range=(1, 2)` (unigrams + bigrams)\n",
    "- **Fits & transforms** the corpus to produce:\n",
    "  - `X_en` — sparse TF-IDF matrix `[n_docs × vocab]`\n",
    "  - `terms` — the ordered vocabulary list (feature names)\n",
    "\n"
   ]
  },
  {
   "cell_type": "code",
   "execution_count": 92,
   "id": "f1259eae-2479-4ea6-b94b-90d7ceb22bad",
   "metadata": {},
   "outputs": [],
   "source": [
    "from sklearn.feature_extraction.text import TfidfVectorizer\n",
    "\n",
    "def join_tokens(xs): \n",
    "    return \" \".join(xs) if isinstance(xs, list) else str(xs)\n",
    "\n",
    "corpus = df_en[\"lemmas\"].apply(join_tokens).tolist()\n",
    "\n",
    "TFIDF_MAX_FEATURES = 50_000\n",
    "TFIDF_MIN_DF = 3\n",
    "TFIDF_NGRAM_RANGE = (1, 2)  # unigrams + bigrams\n",
    "\n",
    "tfidf = TfidfVectorizer(\n",
    "    max_features=TFIDF_MAX_FEATURES,\n",
    "    min_df=TFIDF_MIN_DF,\n",
    "    ngram_range=TFIDF_NGRAM_RANGE,\n",
    ")\n",
    "X_en = tfidf.fit_transform(corpus)  # sparse matrix [n_docs x vocab]\n",
    "terms = tfidf.get_feature_names_out()\n"
   ]
  },
  {
   "cell_type": "code",
   "execution_count": 93,
   "id": "5b3f5197-5293-4e04-b475-7474f5f330af",
   "metadata": {},
   "outputs": [
    {
     "data": {
      "text/plain": [
       "<Compressed Sparse Row sparse matrix of dtype 'float64'\n",
       "\twith 525248 stored elements and shape (1821, 43697)>"
      ]
     },
     "execution_count": 93,
     "metadata": {},
     "output_type": "execute_result"
    }
   ],
   "source": [
    "X_en"
   ]
  },
  {
   "cell_type": "markdown",
   "id": "9362c1eb-5888-49c1-94f0-e55a773e0f1b",
   "metadata": {},
   "source": [
    "### **Result: compact content fingerprints used later for near-duplicate reranking (cosine) and topic clustering.**\n"
   ]
  },
  {
   "cell_type": "code",
   "execution_count": 128,
   "id": "0d8c8f45-4553-4b56-96b3-8b21a78e9705",
   "metadata": {},
   "outputs": [
    {
     "data": {
      "text/plain": [
       "array(['aa', 'aa num', 'aac', ..., 'zx', 'zydeco', 'zydeco caribbean'],\n",
       "      shape=(43697,), dtype=object)"
      ]
     },
     "execution_count": 128,
     "metadata": {},
     "output_type": "execute_result"
    }
   ],
   "source": [
    "terms"
   ]
  },
  {
   "cell_type": "markdown",
   "id": "4d547825-005a-4693-9eb3-8fae562def69",
   "metadata": {},
   "source": [
    "### Near-Duplicate Candidates (MinHash-LSH)\n",
    "\n",
    "finds **high-recall candidate pairs** before precise scoring:\n",
    "\n",
    "- **Shingle tokens** into 5-grams (`K=5`) per document.\n",
    "- Build **MinHash signatures** (`NUM_PERM=128`) over shingles.\n",
    "- Insert into an **LSH index** with Jaccard threshold `0.85` (`JACCARD_T`) to retrieve likely matches quickly.\n",
    "- For each doc, **query LSH** and keep pairs with estimated **Jaccard ≥ 0.85**.\n",
    "- Output **`cand_pairs_df`** sorted by similarity with columns:\n",
    "  - `i`, `j` — document indices\n",
    "  - `minhash_jaccard_est` — MinHash Jaccard estimate\n",
    "\n",
    "**Purpose:** fast, scalable candidate generation to be **reranked with TF-IDF cosine** in the next step.\n"
   ]
  },
  {
   "cell_type": "code",
   "execution_count": 94,
   "id": "0d79d89c-977a-449e-b549-c821a0dfd20b",
   "metadata": {},
   "outputs": [],
   "source": [
    "K = 5                 # token shingle length\n",
    "NUM_PERM = 128       # number of MinHash permutations\n",
    "JACCARD_T = 0.85     # LSH Jaccard threshold for candidate recall\n"
   ]
  },
  {
   "cell_type": "code",
   "execution_count": 96,
   "id": "4de1a2a2-32a6-4050-86b3-54f5aa8ff8a6",
   "metadata": {},
   "outputs": [],
   "source": [
    "try:\n",
    "    from datasketch import MinHash, MinHashLSH\n",
    "except ImportError:\n",
    "    subprocess.check_call([sys.executable, \"-m\", \"pip\", \"install\", \"-q\", \"datasketch\"])\n",
    "    from datasketch import MinHash, MinHashLSH"
   ]
  },
  {
   "cell_type": "code",
   "execution_count": 97,
   "id": "8dd75c4c-3558-46a0-8c94-4bbc417cbef8",
   "metadata": {},
   "outputs": [],
   "source": [
    "def token_shingles(tokens, k=K):\n",
    "    tokens = tokens if isinstance(tokens, list) else []\n",
    "    if len(tokens) < k:\n",
    "        return [\" \".join(tokens)] if tokens else []\n",
    "    return [\" \".join(tokens[i:i+k]) for i in range(len(tokens) - k + 1)]\n",
    "\n",
    "# Build MinHash signatures\n",
    "sigs = []\n",
    "for toks in df_en[\"lemmas\"]:\n",
    "    m = MinHash(num_perm=NUM_PERM)\n",
    "    for sh in token_shingles(toks):\n",
    "        m.update(sh.encode(\"utf-8\"))\n",
    "    sigs.append(m)"
   ]
  },
  {
   "cell_type": "code",
   "execution_count": 98,
   "id": "b568d4f0-93cf-46b1-9ac4-9937d4565cf1",
   "metadata": {},
   "outputs": [
    {
     "name": "stdout",
     "output_type": "stream",
     "text": [
      "Stage-1 candidates (k=5, perms=128, thr=0.85): 1846 pairs\n"
     ]
    },
    {
     "data": {
      "text/html": [
       "<div>\n",
       "<style scoped>\n",
       "    .dataframe tbody tr th:only-of-type {\n",
       "        vertical-align: middle;\n",
       "    }\n",
       "\n",
       "    .dataframe tbody tr th {\n",
       "        vertical-align: top;\n",
       "    }\n",
       "\n",
       "    .dataframe thead th {\n",
       "        text-align: right;\n",
       "    }\n",
       "</style>\n",
       "<table border=\"1\" class=\"dataframe\">\n",
       "  <thead>\n",
       "    <tr style=\"text-align: right;\">\n",
       "      <th></th>\n",
       "      <th>i</th>\n",
       "      <th>j</th>\n",
       "      <th>minhash_jaccard_est</th>\n",
       "    </tr>\n",
       "  </thead>\n",
       "  <tbody>\n",
       "    <tr>\n",
       "      <th>0</th>\n",
       "      <td>8</td>\n",
       "      <td>75</td>\n",
       "      <td>1.0</td>\n",
       "    </tr>\n",
       "    <tr>\n",
       "      <th>1</th>\n",
       "      <td>8</td>\n",
       "      <td>111</td>\n",
       "      <td>1.0</td>\n",
       "    </tr>\n",
       "    <tr>\n",
       "      <th>2</th>\n",
       "      <td>8</td>\n",
       "      <td>166</td>\n",
       "      <td>1.0</td>\n",
       "    </tr>\n",
       "    <tr>\n",
       "      <th>3</th>\n",
       "      <td>8</td>\n",
       "      <td>167</td>\n",
       "      <td>1.0</td>\n",
       "    </tr>\n",
       "    <tr>\n",
       "      <th>4</th>\n",
       "      <td>8</td>\n",
       "      <td>190</td>\n",
       "      <td>1.0</td>\n",
       "    </tr>\n",
       "    <tr>\n",
       "      <th>5</th>\n",
       "      <td>8</td>\n",
       "      <td>241</td>\n",
       "      <td>1.0</td>\n",
       "    </tr>\n",
       "    <tr>\n",
       "      <th>6</th>\n",
       "      <td>8</td>\n",
       "      <td>244</td>\n",
       "      <td>1.0</td>\n",
       "    </tr>\n",
       "    <tr>\n",
       "      <th>7</th>\n",
       "      <td>8</td>\n",
       "      <td>292</td>\n",
       "      <td>1.0</td>\n",
       "    </tr>\n",
       "    <tr>\n",
       "      <th>8</th>\n",
       "      <td>8</td>\n",
       "      <td>303</td>\n",
       "      <td>1.0</td>\n",
       "    </tr>\n",
       "    <tr>\n",
       "      <th>9</th>\n",
       "      <td>8</td>\n",
       "      <td>316</td>\n",
       "      <td>1.0</td>\n",
       "    </tr>\n",
       "  </tbody>\n",
       "</table>\n",
       "</div>"
      ],
      "text/plain": [
       "   i    j  minhash_jaccard_est\n",
       "0  8   75                  1.0\n",
       "1  8  111                  1.0\n",
       "2  8  166                  1.0\n",
       "3  8  167                  1.0\n",
       "4  8  190                  1.0\n",
       "5  8  241                  1.0\n",
       "6  8  244                  1.0\n",
       "7  8  292                  1.0\n",
       "8  8  303                  1.0\n",
       "9  8  316                  1.0"
      ]
     },
     "metadata": {},
     "output_type": "display_data"
    }
   ],
   "source": [
    "lsh = MinHashLSH(threshold=JACCARD_T, num_perm=NUM_PERM)\n",
    "for i, m in enumerate(sigs):\n",
    "    lsh.insert(str(i), m)\n",
    "\n",
    "# Query candidates and keep pairs with estimated Jaccard >= threshold\n",
    "cand_pairs = []\n",
    "for i, m in enumerate(sigs):\n",
    "    for j_str in lsh.query(m):\n",
    "        j = int(j_str)\n",
    "        if j > i:\n",
    "            jac = float(m.jaccard(sigs[j]))\n",
    "            if jac >= JACCARD_T:\n",
    "                cand_pairs.append((i, j, jac))\n",
    "\n",
    "# Sort & stash for the next step (TF-IDF cosine rerank)\n",
    "cand_pairs = sorted(cand_pairs, key=lambda t: (-t[2], t[0], t[1]))\n",
    "cand_pairs_df = pd.DataFrame(cand_pairs, columns=[\"i\", \"j\", \"minhash_jaccard_est\"])\n",
    "\n",
    "print(f\"Stage-1 candidates (k={K}, perms={NUM_PERM}, thr={JACCARD_T}): {len(cand_pairs_df)} pairs\")\n",
    "display(cand_pairs_df.head(10))"
   ]
  },
  {
   "cell_type": "markdown",
   "id": "7dd2d216-9c4d-4798-bd44-21229715197f",
   "metadata": {},
   "source": [
    "### Rerank with TF-IDF Cosine\n",
    "\n",
    "filtering the MinHash-LSH candidates to **high-precision near-duplicates**:\n",
    "\n",
    "- **Precomputes vector norms** of the TF-IDF matrix (`norms = ||X_en[i]||`) for fast cosine.\n",
    "- Defines a **cosine threshold** `NEAR_TFIDF_SIM = 0.92`.\n",
    "- Implements `cosine_ij(i, j)` that:\n",
    "  - Gets sparse rows `vi`, `vj`\n",
    "  - Computes dot product `vi.multiply(vj).sum()`\n",
    "  - Divides by `||vi||·||vj||` to get cosine similarity\n",
    "- **Loops over candidate pairs** from `cand_pairs_df`, computes cosine, and **keeps** only those with `cosine ≥ 0.92`.\n",
    "- Adds `tfidf_cosine` to `cand_pairs_df` (for inspection) and builds **`near_pairs_df`** with:\n",
    "  - `i`, `j` — doc indices\n",
    "  - `tfidf_cosine` — precise similarity\n",
    "  - `minhash_jaccard_est` — candidate-stage estimate\n",
    "- Prints quick stats (pairs kept, unique docs involved) and shows a preview.\n",
    "\n"
   ]
  },
  {
   "cell_type": "code",
   "execution_count": 100,
   "id": "57a64a85-9cb8-4f07-861e-fefd6abe5d1e",
   "metadata": {},
   "outputs": [
    {
     "data": {
      "text/plain": [
       "array([1., 1., 1., ..., 1., 1., 1.], shape=(1821,))"
      ]
     },
     "execution_count": 100,
     "metadata": {},
     "output_type": "execute_result"
    }
   ],
   "source": [
    "# Precompute TF-IDF vector norms for fast cosine\n",
    "# norms[i] = ||X_en[i]||\n",
    "norms = np.sqrt(X_en.power(2).sum(axis=1)).A1  # .A1 -> 1D array\n",
    "norms"
   ]
  },
  {
   "cell_type": "code",
   "execution_count": 101,
   "id": "bddcf6c4-c298-4be9-bb42-fa71d9af145a",
   "metadata": {},
   "outputs": [
    {
     "name": "stdout",
     "output_type": "stream",
     "text": [
      "Stage-2 rerank done. Kept 1845 pairs (cosine >= 0.92).\n",
      "Unique docs involved: 144 / 1821\n"
     ]
    },
    {
     "data": {
      "text/html": [
       "<div>\n",
       "<style scoped>\n",
       "    .dataframe tbody tr th:only-of-type {\n",
       "        vertical-align: middle;\n",
       "    }\n",
       "\n",
       "    .dataframe tbody tr th {\n",
       "        vertical-align: top;\n",
       "    }\n",
       "\n",
       "    .dataframe thead th {\n",
       "        text-align: right;\n",
       "    }\n",
       "</style>\n",
       "<table border=\"1\" class=\"dataframe\">\n",
       "  <thead>\n",
       "    <tr style=\"text-align: right;\">\n",
       "      <th></th>\n",
       "      <th>i</th>\n",
       "      <th>j</th>\n",
       "      <th>tfidf_cosine</th>\n",
       "      <th>minhash_jaccard_est</th>\n",
       "    </tr>\n",
       "  </thead>\n",
       "  <tbody>\n",
       "    <tr>\n",
       "      <th>0</th>\n",
       "      <td>1568</td>\n",
       "      <td>1569</td>\n",
       "      <td>1.0</td>\n",
       "      <td>1.0</td>\n",
       "    </tr>\n",
       "    <tr>\n",
       "      <th>1</th>\n",
       "      <td>1568</td>\n",
       "      <td>1570</td>\n",
       "      <td>1.0</td>\n",
       "      <td>1.0</td>\n",
       "    </tr>\n",
       "    <tr>\n",
       "      <th>2</th>\n",
       "      <td>1568</td>\n",
       "      <td>1571</td>\n",
       "      <td>1.0</td>\n",
       "      <td>1.0</td>\n",
       "    </tr>\n",
       "    <tr>\n",
       "      <th>3</th>\n",
       "      <td>1568</td>\n",
       "      <td>1572</td>\n",
       "      <td>1.0</td>\n",
       "      <td>1.0</td>\n",
       "    </tr>\n",
       "    <tr>\n",
       "      <th>4</th>\n",
       "      <td>1568</td>\n",
       "      <td>1573</td>\n",
       "      <td>1.0</td>\n",
       "      <td>1.0</td>\n",
       "    </tr>\n",
       "    <tr>\n",
       "      <th>5</th>\n",
       "      <td>1568</td>\n",
       "      <td>1574</td>\n",
       "      <td>1.0</td>\n",
       "      <td>1.0</td>\n",
       "    </tr>\n",
       "    <tr>\n",
       "      <th>6</th>\n",
       "      <td>1569</td>\n",
       "      <td>1570</td>\n",
       "      <td>1.0</td>\n",
       "      <td>1.0</td>\n",
       "    </tr>\n",
       "    <tr>\n",
       "      <th>7</th>\n",
       "      <td>1569</td>\n",
       "      <td>1571</td>\n",
       "      <td>1.0</td>\n",
       "      <td>1.0</td>\n",
       "    </tr>\n",
       "    <tr>\n",
       "      <th>8</th>\n",
       "      <td>1569</td>\n",
       "      <td>1572</td>\n",
       "      <td>1.0</td>\n",
       "      <td>1.0</td>\n",
       "    </tr>\n",
       "    <tr>\n",
       "      <th>9</th>\n",
       "      <td>1569</td>\n",
       "      <td>1573</td>\n",
       "      <td>1.0</td>\n",
       "      <td>1.0</td>\n",
       "    </tr>\n",
       "  </tbody>\n",
       "</table>\n",
       "</div>"
      ],
      "text/plain": [
       "      i     j  tfidf_cosine  minhash_jaccard_est\n",
       "0  1568  1569           1.0                  1.0\n",
       "1  1568  1570           1.0                  1.0\n",
       "2  1568  1571           1.0                  1.0\n",
       "3  1568  1572           1.0                  1.0\n",
       "4  1568  1573           1.0                  1.0\n",
       "5  1568  1574           1.0                  1.0\n",
       "6  1569  1570           1.0                  1.0\n",
       "7  1569  1571           1.0                  1.0\n",
       "8  1569  1572           1.0                  1.0\n",
       "9  1569  1573           1.0                  1.0"
      ]
     },
     "metadata": {},
     "output_type": "display_data"
    }
   ],
   "source": [
    "NEAR_TFIDF_SIM = 0.92  # keep pairs with cosine >= 0.92\n",
    "\n",
    "def cosine_ij(i: int, j: int) -> float:\n",
    "    vi = X_en.getrow(i)\n",
    "    vj = X_en.getrow(j)\n",
    "    num = vi.multiply(vj).sum()\n",
    "    den = norms[i] * norms[j]\n",
    "    return float(num / den) if den > 0 else 0.0\n",
    "\n",
    "# Compute cosine for each candidate and filter\n",
    "cos_vals = []\n",
    "keep_i, keep_j, keep_cos, keep_jac = [], [], [], []\n",
    "\n",
    "for (i, j, jac) in cand_pairs_df[[\"i\", \"j\", \"minhash_jaccard_est\"]].itertuples(index=False):\n",
    "    c = cosine_ij(i, j)\n",
    "    cos_vals.append(c)\n",
    "    if c >= NEAR_TFIDF_SIM:\n",
    "        keep_i.append(int(i))\n",
    "        keep_j.append(int(j))\n",
    "        keep_cos.append(float(c))\n",
    "        keep_jac.append(float(jac))\n",
    "\n",
    "# Add cosine column to the candidate frame (for inspection)\n",
    "cand_pairs_df = cand_pairs_df.copy()\n",
    "cand_pairs_df[\"tfidf_cosine\"] = cos_vals\n",
    "\n",
    "# Strong near-duplicate pairs after rerank\n",
    "near_pairs_df = pd.DataFrame({\n",
    "    \"i\": keep_i,\n",
    "    \"j\": keep_j,\n",
    "    \"tfidf_cosine\": keep_cos,\n",
    "    \"minhash_jaccard_est\": keep_jac,\n",
    "}).sort_values([\"tfidf_cosine\",\"minhash_jaccard_est\"], ascending=False, ignore_index=True)\n",
    "\n",
    "# Quick stats\n",
    "uniq_docs = pd.unique(near_pairs_df[[\"i\",\"j\"]].values.ravel(\"K\")).size if len(near_pairs_df) else 0\n",
    "print(f\"Stage-2 rerank done. Kept {len(near_pairs_df)} pairs (cosine >= {NEAR_TFIDF_SIM}).\")\n",
    "print(f\"Unique docs involved: {uniq_docs} / {X_en.shape[0]}\")\n",
    "\n",
    "# Preview\n",
    "display(near_pairs_df.head(10))"
   ]
  },
  {
   "cell_type": "markdown",
   "id": "7edc0b51-e471-4f75-8bb7-34cfc00e90c0",
   "metadata": {},
   "source": [
    "### **Result:** a precise set of near-duplicate pairs ready for **graph grouping** (connected components).\n"
   ]
  },
  {
   "cell_type": "code",
   "execution_count": 106,
   "id": "845fe278-7fcb-45cc-8b97-c0003c457b4e",
   "metadata": {},
   "outputs": [
    {
     "data": {
      "text/html": [
       "<div>\n",
       "<style scoped>\n",
       "    .dataframe tbody tr th:only-of-type {\n",
       "        vertical-align: middle;\n",
       "    }\n",
       "\n",
       "    .dataframe tbody tr th {\n",
       "        vertical-align: top;\n",
       "    }\n",
       "\n",
       "    .dataframe thead th {\n",
       "        text-align: right;\n",
       "    }\n",
       "</style>\n",
       "<table border=\"1\" class=\"dataframe\">\n",
       "  <thead>\n",
       "    <tr style=\"text-align: right;\">\n",
       "      <th></th>\n",
       "      <th>url</th>\n",
       "      <th>warc_date</th>\n",
       "      <th>content_type</th>\n",
       "      <th>title</th>\n",
       "      <th>text</th>\n",
       "      <th>len_text</th>\n",
       "      <th>languges</th>\n",
       "      <th>text_src</th>\n",
       "      <th>text_clean</th>\n",
       "      <th>title_clean</th>\n",
       "      <th>len_clean</th>\n",
       "      <th>tokens</th>\n",
       "      <th>lemmas</th>\n",
       "      <th>len_tokens</th>\n",
       "    </tr>\n",
       "  </thead>\n",
       "  <tbody>\n",
       "    <tr>\n",
       "      <th>0</th>\n",
       "      <td>http://0cpm.org/</td>\n",
       "      <td>2025-08-02T23:57:45Z</td>\n",
       "      <td>text/html</td>\n",
       "      <td></td>\n",
       "      <td>Redirection...\\nYou should be\\ntaken here\\nimm...</td>\n",
       "      <td>52</td>\n",
       "      <td>en</td>\n",
       "      <td>Redirection...\\nYou should be\\ntaken here\\nimm...</td>\n",
       "      <td>redirection... you should be taken here immedi...</td>\n",
       "      <td></td>\n",
       "      <td>52</td>\n",
       "      <td>[redirection, taken, immediately]</td>\n",
       "      <td>[redirection, immediately]</td>\n",
       "      <td>3</td>\n",
       "    </tr>\n",
       "    <tr>\n",
       "      <th>1</th>\n",
       "      <td>http://100.ubc.ca/ubc-impact/nicole-eredics/</td>\n",
       "      <td>2025-08-02T23:25:21Z</td>\n",
       "      <td>text/html; charset=utf-8</td>\n",
       "      <td>Nicole Eredics - UBC Centennial</td>\n",
       "      <td>Nicole Eredics - UBC Centennial\\nSkip to main ...</td>\n",
       "      <td>2000</td>\n",
       "      <td>en</td>\n",
       "      <td>Nicole Eredics - UBC Centennial\\nSkip to main ...</td>\n",
       "      <td>nicole eredics - ubc centennial skip to main c...</td>\n",
       "      <td>nicole eredics - ubc centennial</td>\n",
       "      <td>1961</td>\n",
       "      <td>[nicole, eredics, ubc, centennial, skip, main,...</td>\n",
       "      <td>[nicole, eredic, ubc, centennial, skip, main, ...</td>\n",
       "      <td>244</td>\n",
       "    </tr>\n",
       "    <tr>\n",
       "      <th>2</th>\n",
       "      <td>http://2012portal.blogspot.com/2015/03/the-all...</td>\n",
       "      <td>2025-08-02T23:31:29Z</td>\n",
       "      <td>text/html; charset=utf-8</td>\n",
       "      <td>The Portal: The Alliance Fleet</td>\n",
       "      <td>The Portal: The Alliance Fleet\\nThe Portal\\nTh...</td>\n",
       "      <td>76132</td>\n",
       "      <td>en</td>\n",
       "      <td>The Portal: The Alliance Fleet\\nThe Portal\\nTh...</td>\n",
       "      <td>the portal: the alliance fleet the portal the ...</td>\n",
       "      <td>the portal: the alliance fleet</td>\n",
       "      <td>73806</td>\n",
       "      <td>[portal, alliance, fleet, portal, intelligence...</td>\n",
       "      <td>[portal, alliance, fleet, portal, intelligence...</td>\n",
       "      <td>6763</td>\n",
       "    </tr>\n",
       "    <tr>\n",
       "      <th>3</th>\n",
       "      <td>http://336-166316.shop033.com/MarketPlace/Merc...</td>\n",
       "      <td>2025-08-02T23:17:25Z</td>\n",
       "      <td>text/html; charset=utf-8</td>\n",
       "      <td>Ashop Marketplace</td>\n",
       "      <td>Ashop Marketplace\\nSearch\\nAdvanced Search\\nAE...</td>\n",
       "      <td>2201</td>\n",
       "      <td>en</td>\n",
       "      <td>Ashop Marketplace\\nSearch\\nAdvanced Search\\nAE...</td>\n",
       "      <td>ashop marketplace search advanced search aed a...</td>\n",
       "      <td>ashop marketplace</td>\n",
       "      <td>2167</td>\n",
       "      <td>[ashop, marketplace, search, advanced, search,...</td>\n",
       "      <td>[ashop, marketplace, search, advanced, search,...</td>\n",
       "      <td>285</td>\n",
       "    </tr>\n",
       "    <tr>\n",
       "      <th>4</th>\n",
       "      <td>http://4ausa.com/product-category/sticky-notes...</td>\n",
       "      <td>2025-08-03T00:05:19Z</td>\n",
       "      <td>text/html; charset=utf-8</td>\n",
       "      <td>Sticky Notes Set in PP Box Archives - High Qua...</td>\n",
       "      <td>Sticky Notes Set in PP Box Archives - High Qua...</td>\n",
       "      <td>1569</td>\n",
       "      <td>en</td>\n",
       "      <td>Sticky Notes Set in PP Box Archives - High Qua...</td>\n",
       "      <td>sticky notes set in pp box archives - high qua...</td>\n",
       "      <td>sticky notes set in pp box archives - high qua...</td>\n",
       "      <td>1604</td>\n",
       "      <td>[sticky, notes, set, pp, box, archives, high, ...</td>\n",
       "      <td>[sticky, note, set, pp, box, archive, high, qu...</td>\n",
       "      <td>228</td>\n",
       "    </tr>\n",
       "  </tbody>\n",
       "</table>\n",
       "</div>"
      ],
      "text/plain": [
       "                                                 url             warc_date  \\\n",
       "0                                   http://0cpm.org/  2025-08-02T23:57:45Z   \n",
       "1       http://100.ubc.ca/ubc-impact/nicole-eredics/  2025-08-02T23:25:21Z   \n",
       "2  http://2012portal.blogspot.com/2015/03/the-all...  2025-08-02T23:31:29Z   \n",
       "3  http://336-166316.shop033.com/MarketPlace/Merc...  2025-08-02T23:17:25Z   \n",
       "4  http://4ausa.com/product-category/sticky-notes...  2025-08-03T00:05:19Z   \n",
       "\n",
       "               content_type  \\\n",
       "0                 text/html   \n",
       "1  text/html; charset=utf-8   \n",
       "2  text/html; charset=utf-8   \n",
       "3  text/html; charset=utf-8   \n",
       "4  text/html; charset=utf-8   \n",
       "\n",
       "                                               title  \\\n",
       "0                                                      \n",
       "1                    Nicole Eredics - UBC Centennial   \n",
       "2                     The Portal: The Alliance Fleet   \n",
       "3                                  Ashop Marketplace   \n",
       "4  Sticky Notes Set in PP Box Archives - High Qua...   \n",
       "\n",
       "                                                text  len_text languges  \\\n",
       "0  Redirection...\\nYou should be\\ntaken here\\nimm...        52       en   \n",
       "1  Nicole Eredics - UBC Centennial\\nSkip to main ...      2000       en   \n",
       "2  The Portal: The Alliance Fleet\\nThe Portal\\nTh...     76132       en   \n",
       "3  Ashop Marketplace\\nSearch\\nAdvanced Search\\nAE...      2201       en   \n",
       "4  Sticky Notes Set in PP Box Archives - High Qua...      1569       en   \n",
       "\n",
       "                                            text_src  \\\n",
       "0  Redirection...\\nYou should be\\ntaken here\\nimm...   \n",
       "1  Nicole Eredics - UBC Centennial\\nSkip to main ...   \n",
       "2  The Portal: The Alliance Fleet\\nThe Portal\\nTh...   \n",
       "3  Ashop Marketplace\\nSearch\\nAdvanced Search\\nAE...   \n",
       "4  Sticky Notes Set in PP Box Archives - High Qua...   \n",
       "\n",
       "                                          text_clean  \\\n",
       "0  redirection... you should be taken here immedi...   \n",
       "1  nicole eredics - ubc centennial skip to main c...   \n",
       "2  the portal: the alliance fleet the portal the ...   \n",
       "3  ashop marketplace search advanced search aed a...   \n",
       "4  sticky notes set in pp box archives - high qua...   \n",
       "\n",
       "                                         title_clean  len_clean  \\\n",
       "0                                                            52   \n",
       "1                    nicole eredics - ubc centennial       1961   \n",
       "2                     the portal: the alliance fleet      73806   \n",
       "3                                  ashop marketplace       2167   \n",
       "4  sticky notes set in pp box archives - high qua...       1604   \n",
       "\n",
       "                                              tokens  \\\n",
       "0                  [redirection, taken, immediately]   \n",
       "1  [nicole, eredics, ubc, centennial, skip, main,...   \n",
       "2  [portal, alliance, fleet, portal, intelligence...   \n",
       "3  [ashop, marketplace, search, advanced, search,...   \n",
       "4  [sticky, notes, set, pp, box, archives, high, ...   \n",
       "\n",
       "                                              lemmas  len_tokens  \n",
       "0                         [redirection, immediately]           3  \n",
       "1  [nicole, eredic, ubc, centennial, skip, main, ...         244  \n",
       "2  [portal, alliance, fleet, portal, intelligence...        6763  \n",
       "3  [ashop, marketplace, search, advanced, search,...         285  \n",
       "4  [sticky, note, set, pp, box, archive, high, qu...         228  "
      ]
     },
     "execution_count": 106,
     "metadata": {},
     "output_type": "execute_result"
    }
   ],
   "source": [
    "n = len(df_en)\n",
    "df_en = df_en.reset_index(drop=True)\n",
    "df_en.head()"
   ]
  },
  {
   "cell_type": "markdown",
   "id": "910ac69f-eaca-4443-8c9a-530838bcb866",
   "metadata": {},
   "source": [
    "### Graph Grouping & Canonical Selection (Union-Find)\n",
    "\n",
    " turning strong near-duplicate pairs into **groups** and marks a **canonical** doc per group.\n",
    "\n",
    "- **Build similarity graph:** each pair `(i, j)` from `near_pairs_df` is an edge.\n",
    "- **Union-Find:** `find/union` merges connected docs into the same component.\n",
    "- **Groups:** collect members per root; keep only groups with **size ≥ 2** as near-duplicates.\n",
    "- **Canonical policy:** pick the member with the **longest `len_clean`**; tie-break by **HTTPS** URL.\n",
    "- **Annotate `df_en`:**\n",
    "  - `dup_group` — connected-component id\n",
    "  - `dup_group_size` — size of that component\n",
    "  - `canonical_ix` — chosen canonical index (self if not in a group)\n",
    "  - `is_canonical` — boolean flag\n"
   ]
  },
  {
   "cell_type": "code",
   "execution_count": 108,
   "id": "c38f7df1-7b68-439f-bf57-e244756cec08",
   "metadata": {},
   "outputs": [],
   "source": [
    "# Union-Find over edges that passed TF-IDF cosine threshold \n",
    "parent = np.arange(n)\n",
    "\n",
    "def find(x):\n",
    "    while parent[x] != x:\n",
    "        parent[x] = parent[parent[x]]\n",
    "        x = parent[x]\n",
    "    return x\n",
    "\n",
    "def union(a, b):\n",
    "    ra, rb = find(a), find(b)\n",
    "    if ra != rb:\n",
    "        parent[rb] = ra\n",
    "\n",
    "# add edges from near_pairs_df\n",
    "for i, j, _cos, _jac in near_pairs_df[[\"i\",\"j\",\"tfidf_cosine\",\"minhash_jaccard_est\"]].itertuples(index=False):\n",
    "    union(int(i), int(j))\n",
    "\n",
    "# build groups\n",
    "groups = defaultdict(list)\n",
    "for idx in range(n):\n",
    "    groups[find(idx)].append(idx)\n",
    "\n",
    "# keep only groups with size >= 2 as near-duplicate groups\n",
    "near_groups = {g: members for g, members in groups.items() if len(members) >= 2}\n",
    "\n",
    "# --- Canonical selection: longest cleaned text, tie-break https ---\n",
    "def content_len(k):\n",
    "    v = df_en.iloc[k].get(\"len_clean\")\n",
    "    return int(v) if pd.notna(v) else len(str(df_en.iloc[k].get(\"text_clean\",\"\")))\n",
    "\n",
    "def canon_score(k):\n",
    "    url = str(df_en.iloc[k].get(\"url\", \"\"))\n",
    "    return (content_len(k), 1 if url.startswith(\"https\") else 0)\n",
    "\n",
    "canonical_map = {}\n",
    "for g, members in near_groups.items():\n",
    "    best = max(members, key=canon_score)\n",
    "    for m in members:\n",
    "        canonical_map[m] = best\n",
    "\n",
    "\n"
   ]
  },
  {
   "cell_type": "code",
   "execution_count": 109,
   "id": "9fec5060-972b-485d-b139-b40b9e7860a6",
   "metadata": {},
   "outputs": [],
   "source": [
    "# annotate dataframe\n",
    "df_en[\"dup_group\"]      = [find(i) for i in range(n)]\n",
    "df_en[\"dup_group_size\"] = df_en[\"dup_group\"].map(lambda g: len(groups[g]))\n",
    "df_en[\"canonical_ix\"]   = [canonical_map.get(i, i) for i in range(n)]  # if not in a group, canonical=self\n",
    "df_en[\"is_canonical\"]   = (df_en.index == df_en[\"canonical_ix\"])\n"
   ]
  },
  {
   "cell_type": "code",
   "execution_count": 110,
   "id": "0c0a36eb-6823-4a09-b4d1-ae36958ff727",
   "metadata": {},
   "outputs": [
    {
     "name": "stdout",
     "output_type": "stream",
     "text": [
      "Near-duplicate groups (size ≥ 2): 24\n",
      "Docs that appear in such groups: 144 / 1821\n"
     ]
    }
   ],
   "source": [
    "# quick stats + preview a few largest groups\n",
    "num_groups = len(near_groups)\n",
    "docs_in_groups = sum(len(m) for m in near_groups.values())\n",
    "print(f\"Near-duplicate groups (size ≥ 2): {num_groups}\")\n",
    "print(f\"Docs that appear in such groups: {docs_in_groups} / {n}\")\n",
    "\n"
   ]
  },
  {
   "cell_type": "code",
   "execution_count": 111,
   "id": "616c75d2-1e11-4f7d-8f57-8bc1b66ebef2",
   "metadata": {},
   "outputs": [
    {
     "name": "stdout",
     "output_type": "stream",
     "text": [
      "\n",
      "Group 8 | size=56 | canonical=642\n",
      "  idx=   8  canon=   One moment, please...\n",
      "  idx=  75  canon=   One moment, please...\n",
      "  idx= 111  canon=   One moment, please...\n",
      "  idx= 166  canon=   One moment, please...\n",
      "  idx= 167  canon=   One moment, please...\n",
      "\n",
      "Group 100 | size=20 | canonical=1533\n",
      "  idx= 100  canon=   Redirect Notice\n",
      "  idx= 101  canon=   Redirect Notice\n",
      "  idx= 198  canon=   Redirect Notice\n",
      "  idx= 199  canon=   Redirect Notice\n",
      "  idx= 240  canon=   Redirect Notice\n",
      "\n",
      "Group 20 | size=9 | canonical=805\n",
      "  idx=  20  canon=   CONTENTdm\n",
      "  idx=  21  canon=   CONTENTdm\n",
      "  idx= 372  canon=   CONTENTdm\n",
      "  idx= 805  canon=*  CONTENTdm\n",
      "  idx= 893  canon=   CONTENTdm\n"
     ]
    }
   ],
   "source": [
    "# peek top 3 groups by size\n",
    "for g, members in sorted(near_groups.items(), key=lambda kv: len(kv[1]), reverse=True)[:3]:\n",
    "    best = max(members, key=canon_score)\n",
    "    print(f\"\\nGroup {g} | size={len(members)} | canonical={best}\")\n",
    "    for m in members[:5]:\n",
    "        title = str(df_en.loc[m, 'title'])[:80].replace(\"\\n\",\" \")\n",
    "        print(f\"  idx={m:4d}  canon={'*' if m==best else ' '}  {title}\")"
   ]
  },
  {
   "cell_type": "markdown",
   "id": "4a56134a-b03b-4c77-b091-36c9b017a742",
   "metadata": {},
   "source": [
    "### **Outputs:** summary counts and a preview of the largest groups with their canonical members.\n",
    "### **Result:** each document is labeled with its duplicate group and canonical representative for reporting/QA.\n"
   ]
  },
  {
   "cell_type": "code",
   "execution_count": 112,
   "id": "6f837f7e-9e61-41d6-90a1-784ec16f7a71",
   "metadata": {},
   "outputs": [
    {
     "data": {
      "text/html": [
       "<div>\n",
       "<style scoped>\n",
       "    .dataframe tbody tr th:only-of-type {\n",
       "        vertical-align: middle;\n",
       "    }\n",
       "\n",
       "    .dataframe tbody tr th {\n",
       "        vertical-align: top;\n",
       "    }\n",
       "\n",
       "    .dataframe thead th {\n",
       "        text-align: right;\n",
       "    }\n",
       "</style>\n",
       "<table border=\"1\" class=\"dataframe\">\n",
       "  <thead>\n",
       "    <tr style=\"text-align: right;\">\n",
       "      <th></th>\n",
       "      <th>url</th>\n",
       "      <th>warc_date</th>\n",
       "      <th>content_type</th>\n",
       "      <th>title</th>\n",
       "      <th>text</th>\n",
       "      <th>len_text</th>\n",
       "      <th>languges</th>\n",
       "      <th>text_src</th>\n",
       "      <th>text_clean</th>\n",
       "      <th>title_clean</th>\n",
       "      <th>len_clean</th>\n",
       "      <th>tokens</th>\n",
       "      <th>lemmas</th>\n",
       "      <th>len_tokens</th>\n",
       "      <th>dup_group</th>\n",
       "      <th>dup_group_size</th>\n",
       "      <th>canonical_ix</th>\n",
       "      <th>is_canonical</th>\n",
       "    </tr>\n",
       "  </thead>\n",
       "  <tbody>\n",
       "    <tr>\n",
       "      <th>0</th>\n",
       "      <td>http://0cpm.org/</td>\n",
       "      <td>2025-08-02T23:57:45Z</td>\n",
       "      <td>text/html</td>\n",
       "      <td></td>\n",
       "      <td>Redirection...\\nYou should be\\ntaken here\\nimm...</td>\n",
       "      <td>52</td>\n",
       "      <td>en</td>\n",
       "      <td>Redirection...\\nYou should be\\ntaken here\\nimm...</td>\n",
       "      <td>redirection... you should be taken here immedi...</td>\n",
       "      <td></td>\n",
       "      <td>52</td>\n",
       "      <td>[redirection, taken, immediately]</td>\n",
       "      <td>[redirection, immediately]</td>\n",
       "      <td>3</td>\n",
       "      <td>0</td>\n",
       "      <td>1</td>\n",
       "      <td>0</td>\n",
       "      <td>True</td>\n",
       "    </tr>\n",
       "    <tr>\n",
       "      <th>1</th>\n",
       "      <td>http://100.ubc.ca/ubc-impact/nicole-eredics/</td>\n",
       "      <td>2025-08-02T23:25:21Z</td>\n",
       "      <td>text/html; charset=utf-8</td>\n",
       "      <td>Nicole Eredics - UBC Centennial</td>\n",
       "      <td>Nicole Eredics - UBC Centennial\\nSkip to main ...</td>\n",
       "      <td>2000</td>\n",
       "      <td>en</td>\n",
       "      <td>Nicole Eredics - UBC Centennial\\nSkip to main ...</td>\n",
       "      <td>nicole eredics - ubc centennial skip to main c...</td>\n",
       "      <td>nicole eredics - ubc centennial</td>\n",
       "      <td>1961</td>\n",
       "      <td>[nicole, eredics, ubc, centennial, skip, main,...</td>\n",
       "      <td>[nicole, eredic, ubc, centennial, skip, main, ...</td>\n",
       "      <td>244</td>\n",
       "      <td>1</td>\n",
       "      <td>1</td>\n",
       "      <td>1</td>\n",
       "      <td>True</td>\n",
       "    </tr>\n",
       "    <tr>\n",
       "      <th>2</th>\n",
       "      <td>http://2012portal.blogspot.com/2015/03/the-all...</td>\n",
       "      <td>2025-08-02T23:31:29Z</td>\n",
       "      <td>text/html; charset=utf-8</td>\n",
       "      <td>The Portal: The Alliance Fleet</td>\n",
       "      <td>The Portal: The Alliance Fleet\\nThe Portal\\nTh...</td>\n",
       "      <td>76132</td>\n",
       "      <td>en</td>\n",
       "      <td>The Portal: The Alliance Fleet\\nThe Portal\\nTh...</td>\n",
       "      <td>the portal: the alliance fleet the portal the ...</td>\n",
       "      <td>the portal: the alliance fleet</td>\n",
       "      <td>73806</td>\n",
       "      <td>[portal, alliance, fleet, portal, intelligence...</td>\n",
       "      <td>[portal, alliance, fleet, portal, intelligence...</td>\n",
       "      <td>6763</td>\n",
       "      <td>2</td>\n",
       "      <td>1</td>\n",
       "      <td>2</td>\n",
       "      <td>True</td>\n",
       "    </tr>\n",
       "    <tr>\n",
       "      <th>3</th>\n",
       "      <td>http://336-166316.shop033.com/MarketPlace/Merc...</td>\n",
       "      <td>2025-08-02T23:17:25Z</td>\n",
       "      <td>text/html; charset=utf-8</td>\n",
       "      <td>Ashop Marketplace</td>\n",
       "      <td>Ashop Marketplace\\nSearch\\nAdvanced Search\\nAE...</td>\n",
       "      <td>2201</td>\n",
       "      <td>en</td>\n",
       "      <td>Ashop Marketplace\\nSearch\\nAdvanced Search\\nAE...</td>\n",
       "      <td>ashop marketplace search advanced search aed a...</td>\n",
       "      <td>ashop marketplace</td>\n",
       "      <td>2167</td>\n",
       "      <td>[ashop, marketplace, search, advanced, search,...</td>\n",
       "      <td>[ashop, marketplace, search, advanced, search,...</td>\n",
       "      <td>285</td>\n",
       "      <td>3</td>\n",
       "      <td>1</td>\n",
       "      <td>3</td>\n",
       "      <td>True</td>\n",
       "    </tr>\n",
       "    <tr>\n",
       "      <th>4</th>\n",
       "      <td>http://4ausa.com/product-category/sticky-notes...</td>\n",
       "      <td>2025-08-03T00:05:19Z</td>\n",
       "      <td>text/html; charset=utf-8</td>\n",
       "      <td>Sticky Notes Set in PP Box Archives - High Qua...</td>\n",
       "      <td>Sticky Notes Set in PP Box Archives - High Qua...</td>\n",
       "      <td>1569</td>\n",
       "      <td>en</td>\n",
       "      <td>Sticky Notes Set in PP Box Archives - High Qua...</td>\n",
       "      <td>sticky notes set in pp box archives - high qua...</td>\n",
       "      <td>sticky notes set in pp box archives - high qua...</td>\n",
       "      <td>1604</td>\n",
       "      <td>[sticky, notes, set, pp, box, archives, high, ...</td>\n",
       "      <td>[sticky, note, set, pp, box, archive, high, qu...</td>\n",
       "      <td>228</td>\n",
       "      <td>4</td>\n",
       "      <td>1</td>\n",
       "      <td>4</td>\n",
       "      <td>True</td>\n",
       "    </tr>\n",
       "  </tbody>\n",
       "</table>\n",
       "</div>"
      ],
      "text/plain": [
       "                                                 url             warc_date  \\\n",
       "0                                   http://0cpm.org/  2025-08-02T23:57:45Z   \n",
       "1       http://100.ubc.ca/ubc-impact/nicole-eredics/  2025-08-02T23:25:21Z   \n",
       "2  http://2012portal.blogspot.com/2015/03/the-all...  2025-08-02T23:31:29Z   \n",
       "3  http://336-166316.shop033.com/MarketPlace/Merc...  2025-08-02T23:17:25Z   \n",
       "4  http://4ausa.com/product-category/sticky-notes...  2025-08-03T00:05:19Z   \n",
       "\n",
       "               content_type  \\\n",
       "0                 text/html   \n",
       "1  text/html; charset=utf-8   \n",
       "2  text/html; charset=utf-8   \n",
       "3  text/html; charset=utf-8   \n",
       "4  text/html; charset=utf-8   \n",
       "\n",
       "                                               title  \\\n",
       "0                                                      \n",
       "1                    Nicole Eredics - UBC Centennial   \n",
       "2                     The Portal: The Alliance Fleet   \n",
       "3                                  Ashop Marketplace   \n",
       "4  Sticky Notes Set in PP Box Archives - High Qua...   \n",
       "\n",
       "                                                text  len_text languges  \\\n",
       "0  Redirection...\\nYou should be\\ntaken here\\nimm...        52       en   \n",
       "1  Nicole Eredics - UBC Centennial\\nSkip to main ...      2000       en   \n",
       "2  The Portal: The Alliance Fleet\\nThe Portal\\nTh...     76132       en   \n",
       "3  Ashop Marketplace\\nSearch\\nAdvanced Search\\nAE...      2201       en   \n",
       "4  Sticky Notes Set in PP Box Archives - High Qua...      1569       en   \n",
       "\n",
       "                                            text_src  \\\n",
       "0  Redirection...\\nYou should be\\ntaken here\\nimm...   \n",
       "1  Nicole Eredics - UBC Centennial\\nSkip to main ...   \n",
       "2  The Portal: The Alliance Fleet\\nThe Portal\\nTh...   \n",
       "3  Ashop Marketplace\\nSearch\\nAdvanced Search\\nAE...   \n",
       "4  Sticky Notes Set in PP Box Archives - High Qua...   \n",
       "\n",
       "                                          text_clean  \\\n",
       "0  redirection... you should be taken here immedi...   \n",
       "1  nicole eredics - ubc centennial skip to main c...   \n",
       "2  the portal: the alliance fleet the portal the ...   \n",
       "3  ashop marketplace search advanced search aed a...   \n",
       "4  sticky notes set in pp box archives - high qua...   \n",
       "\n",
       "                                         title_clean  len_clean  \\\n",
       "0                                                            52   \n",
       "1                    nicole eredics - ubc centennial       1961   \n",
       "2                     the portal: the alliance fleet      73806   \n",
       "3                                  ashop marketplace       2167   \n",
       "4  sticky notes set in pp box archives - high qua...       1604   \n",
       "\n",
       "                                              tokens  \\\n",
       "0                  [redirection, taken, immediately]   \n",
       "1  [nicole, eredics, ubc, centennial, skip, main,...   \n",
       "2  [portal, alliance, fleet, portal, intelligence...   \n",
       "3  [ashop, marketplace, search, advanced, search,...   \n",
       "4  [sticky, notes, set, pp, box, archives, high, ...   \n",
       "\n",
       "                                              lemmas  len_tokens  dup_group  \\\n",
       "0                         [redirection, immediately]           3          0   \n",
       "1  [nicole, eredic, ubc, centennial, skip, main, ...         244          1   \n",
       "2  [portal, alliance, fleet, portal, intelligence...        6763          2   \n",
       "3  [ashop, marketplace, search, advanced, search,...         285          3   \n",
       "4  [sticky, note, set, pp, box, archive, high, qu...         228          4   \n",
       "\n",
       "   dup_group_size  canonical_ix  is_canonical  \n",
       "0               1             0          True  \n",
       "1               1             1          True  \n",
       "2               1             2          True  \n",
       "3               1             3          True  \n",
       "4               1             4          True  "
      ]
     },
     "execution_count": 112,
     "metadata": {},
     "output_type": "execute_result"
    }
   ],
   "source": [
    "df_en.head()"
   ]
  },
  {
   "cell_type": "markdown",
   "id": "ca3d2125-9f4c-4efb-8ed4-65f30cb2ba9e",
   "metadata": {},
   "source": [
    "### Exact Duplicate Detection (SHA-256)\n",
    "\n",
    "This step identifies **byte-equivalent** pages after cleaning:\n",
    "\n",
    "- **Stabilize row ids:** `df_en = df_en.reset_index(drop=True)` for consistent indexing.\n",
    "- **Hash normalized text:** compute `exact_hash = sha256(text_clean)` for each document.\n",
    "- **Group by hash:** same `exact_hash` ⇒ same **exact-dup group** (`exact_groups`).\n",
    "- **Annotate rows:** `exact_group_size` = size of the document’s exact-dup group (1 = unique).\n",
    "- **Report & preview:** print total docs, number of groups (size ≥ 2), total docs in such groups, and list a few largest groups (showing indices/URLs).\n",
    "\n"
   ]
  },
  {
   "cell_type": "code",
   "execution_count": 113,
   "id": "b299e98b-22b3-4b80-89ac-a4c6646c8e9e",
   "metadata": {},
   "outputs": [],
   "source": [
    "import hashlib"
   ]
  },
  {
   "cell_type": "code",
   "execution_count": 114,
   "id": "58afbb17-dd17-49c7-84cd-15749e62deed",
   "metadata": {},
   "outputs": [
    {
     "name": "stdout",
     "output_type": "stream",
     "text": [
      "Docs: 1821\n",
      "Exact-dup groups (size ≥ 2): 18\n",
      "Docs in exact-dup groups: 122\n"
     ]
    }
   ],
   "source": [
    "# stablizing integer index\n",
    "df_en = df_en.reset_index(drop=True)\n",
    "\n",
    "df_en[\"exact_hash\"] = df_en[\"text_clean\"].apply(lambda s: hashlib.sha256(s.encode(\"utf-8\")).hexdigest())  # applying hashlib.sha256 to hash every text \n",
    "\n",
    "grp = df_en.reset_index().groupby(\"exact_hash\")[\"index\"].apply(list) # grouping same hash => same exact-dup group\n",
    "exact_groups = {h: idxs for h, idxs in grp.items() if len(idxs) > 1}   \n",
    "\n",
    "df_en[\"exact_group_size\"] = df_en[\"exact_hash\"].map(lambda h: len(exact_groups.get(h, [])) or 1) # annotating each group (cluster) and mapping it\n",
    "\n",
    "# view biggest few groups\n",
    "num_exact_groups = sum(1 for v in exact_groups.values() if len(v) >= 2)\n",
    "docs_in_exact = sum(len(v) for v in exact_groups.values())\n",
    "\n",
    "print(\"Docs:\", len(df_en))\n",
    "print(\"Exact-dup groups (size ≥ 2):\", num_exact_groups)\n",
    "print(\"Docs in exact-dup groups:\", docs_in_exact)\n"
   ]
  },
  {
   "cell_type": "code",
   "execution_count": 122,
   "id": "5f44fe25-f325-449c-8866-fbc23b4e7b33",
   "metadata": {},
   "outputs": [
    {
     "name": "stdout",
     "output_type": "stream",
     "text": [
      "\n",
      "Hash 9dbe9b076219… | size=56\n",
      "  idx: 8 | http://acasalaromani.ro/category/retete-culinare-traditionale/retete-culinare-traditionale-muntenia/\n",
      "  idx: 75 | http://carobniprstki.com/diy-slincki\n",
      "  idx: 111 | http://doctorexpres.ro/index.php/tag/hamburgeri/\n",
      "  idx: 166 | http://gebeligim.com/\n",
      "  idx: 167 | http://geinomatome.com/ea4djvm-jpg/\n",
      "  idx: 190 | http://hashtagbylily.com/\n",
      "  idx: 241 | http://mardelrefrigeration.ca/\n",
      "  idx: 244 | http://marlowhistory.uk/\n",
      "  idx: 292 | http://psyssa.com/\n",
      "  idx: 303 | http://resepmasakan.9wiki.net/tag/hotel-di-jogja\n",
      "\n",
      "Hash 259d7d2a13e2… | size=20\n",
      "  idx: 100 | http://cse.google.com.bn/url?sa=i&url=https://pensiuneacoral.ro/fr.php?cid=30%26kys=maternit%C3%A9+k\n",
      "  idx: 101 | http://cse.google.gr/url?sa=i&url=http://rank-your.site/i/top-fiverr-seo-service-review//\n",
      "  idx: 198 | http://images.google.com.cy/url?q=https%3A%2F%2Friverstonenetworks.com%2F\n",
      "  idx: 199 | http://images.google.de/url?sa=t&url=https%3A%2F%2Fanasdream-realestate.es\n",
      "  idx: 240 | http://maps.google.ms/url?q=https%3A%2F%2Frodatayu.my.id\n",
      "  idx: 286 | http://plus.url.google.com/url?sa=z&n=x&url=https://zadervhj.weebly.com/\n",
      "  idx: 443 | http://www.google.com.br/url?sa=t&url=http%3A%2F%2Fbuisnesstour.com\n",
      "  idx: 444 | http://www.google.mu/url?q=https://chototvieclam.com/viec-tim-nguoi_dak-lak-r9053\n",
      "  idx: 1533 | https://clients1.google.ac/url?q=https://pensiuneacoral.ro/fr.php?cid=30%26kys=style+vestimentaire+a\n",
      "  idx: 1534 | https://clients1.google.as/url?q=https://stirtshirt.com/\n",
      "\n",
      "Hash debfd12eafa9… | size=9\n",
      "  idx: 20 | http://archives.csuchico.edu/digital/collection/coll4/id/11648/\n",
      "  idx: 21 | http://archives.csuchico.edu/digital/collection/coll4/id/25184/\n",
      "  idx: 372 | http://viadru.europa-uni.de/digital/collection/p21038coll5/id/16612/\n",
      "  idx: 805 | https://amsr.contentdm.oclc.org/digital/collection/CRAM/id/41494/\n",
      "  idx: 893 | https://archives.naropa.edu/digital/collection/p16621coll2/id/85/\n",
      "  idx: 1425 | https://cdm16677.contentdm.oclc.org/digital/collection/p16677coll12/id/14/\n",
      "  idx: 1426 | https://cdm17408.contentdm.oclc.org/digital/collection/photos-cha/id/1018/\n",
      "  idx: 1427 | https://cdm17408.contentdm.oclc.org/digital/collection/photos-cha/id/1469/\n",
      "  idx: 1670 | https://contentdm.macalester.edu/digital/collection/macrelation/id/103432/\n"
     ]
    }
   ],
   "source": [
    "if num_exact_groups:\n",
    "    top = sorted(exact_groups.items(), key=lambda kv: len(kv[1]), reverse=True)[:3]\n",
    "    for h, idxs in top:\n",
    "        print(f\"\\nHash {h[:12]}… | size={len(idxs)}\")\n",
    "        for i in idxs[:10]:\n",
    "            print(\"  idx:\", i, \"|\", (df_en.loc[i, \"url\"] or \"\")[:100])"
   ]
  },
  {
   "cell_type": "markdown",
   "id": "e7d28022-511f-4657-9582-e483508db426",
   "metadata": {},
   "source": [
    "### **Result:** a precise map of **exact duplicates** independent of order, spacing, or markup differences already removed by cleaning."
   ]
  },
  {
   "cell_type": "code",
   "execution_count": 116,
   "id": "aa06377a-fd86-410e-9520-c304645abcf8",
   "metadata": {},
   "outputs": [
    {
     "name": "stdout",
     "output_type": "stream",
     "text": [
      "Saved report to: C:\\Users\\huyas\\web_archive_dedup_report.json\n",
      "Summary: | docs: 1821 | pairs: 1845 | near-groups: 24 | exact-groups: 18 | clusters: 42\n"
     ]
    }
   ],
   "source": [
    "# FINAL STEP: build & save the JSON report (pairs, groups, canonicals, clusters, params)\n",
    "\n",
    "import os, json, math\n",
    "from datetime import datetime\n",
    "import numpy as np\n",
    "import pandas as pd\n",
    "from collections import defaultdict\n",
    "from sklearn.cluster import MiniBatchKMeans\n",
    "\n",
    "\n",
    "# ---- Reuse knobs (set defaults if not already defined)\n",
    "K                  = globals().get(\"K\", 5)\n",
    "NUM_PERM           = globals().get(\"NUM_PERM\", 128)\n",
    "JACCARD_T          = globals().get(\"JACCARD_T\", 0.85)\n",
    "NEAR_TFIDF_SIM     = globals().get(\"NEAR_TFIDF_SIM\", 0.92)\n",
    "TFIDF_MAX_FEATURES = globals().get(\"TFIDF_MAX_FEATURES\", 50_000)\n",
    "TFIDF_MIN_DF       = globals().get(\"TFIDF_MIN_DF\", 3)\n",
    "TFIDF_NGRAM_RANGE  = globals().get(\"TFIDF_NGRAM_RANGE\", (1,2))\n",
    "TOP_DOCS_PER_CLUSTER = 5\n",
    "\n",
    "# ---- Build/confirm groups from the dataframe annotations\n",
    "# near-dup groups (from previous union-find step). If not present, derive from dup_group.\n",
    "if \"near_groups\" in globals():\n",
    "    ngroups = {int(g): [int(x) for x in v] for g, v in near_groups.items()}\n",
    "else:\n",
    "    ngroups = defaultdict(list)\n",
    "    for g, idxs in df_en.reset_index().groupby(\"dup_group\")[\"index\"]:\n",
    "        idxs = idxs.tolist()\n",
    "        if len(idxs) >= 2:\n",
    "            ngroups[int(g)] = [int(x) for x in idxs]\n",
    "\n",
    "# canonical map (if missing, self-canonical)\n",
    "if \"canonical_map\" in globals():\n",
    "    canon_map = {int(k): int(v) for k, v in canonical_map.items()}\n",
    "else:\n",
    "    canon_map = {int(i): int(i) for i in range(len(df_en))}\n",
    "\n",
    "# exact-dup groups (from previous cell). If not present, derive now.\n",
    "if \"exact_groups\" not in globals():\n",
    "    grp = df_en.reset_index().groupby(\"exact_hash\")[\"index\"].apply(list)\n",
    "    exact_groups = {h: idxs for h, idxs in grp.items() if len(idxs) > 1}\n",
    "\n",
    "# ---- Topic clustering (MiniBatchKMeans) for reviewer context\n",
    "n_docs = X_en.shape[0]\n",
    "n_clusters = max(5, min(100, int(math.sqrt(max(2, n_docs)))))\n",
    "kmeans = MiniBatchKMeans(n_clusters=n_clusters, random_state=42, batch_size=1024, n_init=10)\n",
    "cluster_labels = kmeans.fit_predict(X_en)\n",
    "\n",
    "terms = np.array(tfidf.get_feature_names_out())\n",
    "cluster_terms = []\n",
    "for c in kmeans.cluster_centers_:\n",
    "    idx = np.argsort(c)[::-1][:10]\n",
    "    cluster_terms.append(terms[idx].tolist())\n",
    "\n",
    "# representative docs per cluster by TF-IDF norm\n",
    "norms = np.asarray((X_en.power(2)).sum(axis=1)).ravel()\n",
    "cluster_samples = {}\n",
    "for cid in range(n_clusters):\n",
    "    members = np.where(cluster_labels == cid)[0]\n",
    "    if members.size == 0:\n",
    "        cluster_samples[cid] = []\n",
    "    else:\n",
    "        order = members[np.argsort(-norms[members])][:TOP_DOCS_PER_CLUSTER]\n",
    "        cluster_samples[cid] = order.tolist()\n",
    "\n",
    "# ---- Build JSON sections\n",
    "\n",
    "# documents\n",
    "docs_json = []\n",
    "for i, row in df_en.reset_index(drop=True).iterrows():\n",
    "    docs_json.append({\n",
    "        \"id\": int(i),\n",
    "        \"url\": row.get(\"url\", None),\n",
    "        \"title\": row.get(\"title\", None),\n",
    "        \"len_clean\": int(row.get(\"len_clean\", len(str(row.get(\"text_clean\",\"\")))) or 0),\n",
    "        \"exact_hash\": row.get(\"exact_hash\", None),\n",
    "        \"exact_group_size\": int(row.get(\"exact_group_size\", 1)),\n",
    "        \"dup_group\": int(row.get(\"dup_group\", i)) if pd.notna(row.get(\"dup_group\", i)) else int(i),\n",
    "        \"dup_group_size\": int(row.get(\"dup_group_size\", 1)),\n",
    "        \"canonical_ix\": int(row.get(\"canonical_ix\", i)),\n",
    "        \"is_canonical\": bool(row.get(\"is_canonical\", True)),\n",
    "        \"cluster\": int(cluster_labels[i]),\n",
    "    })\n",
    "\n",
    "# near-duplicate pairs (if you computed rerank)\n",
    "pairs_json = []\n",
    "if \"near_pairs_df\" in globals() and len(near_pairs_df):\n",
    "    for _, r in near_pairs_df.iterrows():\n",
    "        i, j = int(r[\"i\"]), int(r[\"j\"])\n",
    "        pairs_json.append({\n",
    "            \"i\": i,\n",
    "            \"j\": j,\n",
    "            \"tfidf_cosine\": float(r[\"tfidf_cosine\"]),\n",
    "            \"minhash_jaccard_est\": float(r[\"minhash_jaccard_est\"]),\n",
    "            \"url_i\": df_en.iloc[i].get(\"url\", None),\n",
    "            \"title_i\": df_en.iloc[i].get(\"title\", None),\n",
    "            \"url_j\": df_en.iloc[j].get(\"url\", None),\n",
    "            \"title_j\": df_en.iloc[j].get(\"title\", None),\n",
    "        })\n",
    "\n",
    "# near-duplicate groups with canonicals\n",
    "near_groups_json = []\n",
    "for gid, members in ngroups.items():\n",
    "    canon = canon_map.get(members[0], members[0])\n",
    "    # if canon not in this group because of previous defaulting, choose longest text\n",
    "    if canon not in members:\n",
    "        canon = max(members, key=lambda k: int(df_en.iloc[k].get(\"len_clean\", len(str(df_en.iloc[k].get(\"text_clean\",\"\"))))))\n",
    "    near_groups_json.append({\n",
    "        \"group_id\": int(gid),\n",
    "        \"size\": int(len(members)),\n",
    "        \"canonical\": int(canon),\n",
    "        \"canonical_reason\": \"longest_clean_text_then_https\",\n",
    "        \"members\": [int(m) for m in sorted(members)],\n",
    "        \"sample_titles\": [df_en.iloc[m].get(\"title\", None) for m in members[:5]],\n",
    "    })\n",
    "\n",
    "# exact-duplicate groups\n",
    "exact_groups_json = []\n",
    "for h, members in exact_groups.items():\n",
    "    exact_groups_json.append({\n",
    "        \"hash\": h,\n",
    "        \"size\": int(len(members)),\n",
    "        \"members\": [int(m) for m in members[:]],\n",
    "        \"sample_titles\": [df_en.iloc[m].get(\"title\", None) for m in members[:5]],\n",
    "    })\n",
    "\n",
    "# clusters (topics)\n",
    "clusters_json = []\n",
    "for cid in range(n_clusters):\n",
    "    samples = cluster_samples.get(cid, [])\n",
    "    clusters_json.append({\n",
    "        \"cluster_id\": int(cid),\n",
    "        \"size\": int((cluster_labels == cid).sum()),\n",
    "        \"top_terms\": cluster_terms[cid],\n",
    "        \"sample_docs\": [\n",
    "            {\"id\": int(i),\n",
    "             \"url\": df_en.iloc[i].get(\"url\", None),\n",
    "             \"title\": df_en.iloc[i].get(\"title\", None)}\n",
    "            for i in samples\n",
    "        ],\n",
    "    })\n",
    "\n",
    "# ---- Assemble report\n",
    "report = {\n",
    "    \"meta\": {\n",
    "        \"generated_at\": datetime.utcnow().isoformat() + \"Z\",\n",
    "        \"num_docs\": int(len(df_en)),\n",
    "        \"tfidf_vocab_size\": int(len(terms)),\n",
    "        \"params\": {\n",
    "            \"stage0_exact_hash_algo\": \"sha256\",\n",
    "            \"stage1_minhash\": {\"k_token\": int(K), \"num_perm\": int(NUM_PERM), \"jaccard_threshold\": float(JACCARD_T)},\n",
    "            \"stage2_rerank\": {\"tfidf_cosine_threshold\": float(NEAR_TFIDF_SIM)},\n",
    "            \"tfidf\": {\n",
    "                \"max_features\": int(TFIDF_MAX_FEATURES),\n",
    "                \"min_df\": int(TFIDF_MIN_DF),\n",
    "                \"ngram_range\": list(TFIDF_NGRAM_RANGE),\n",
    "            },\n",
    "            \"topic_clustering\": {\"n_clusters\": int(n_clusters), \"top_docs_per_cluster\": int(TOP_DOCS_PER_CLUSTER)},\n",
    "        },\n",
    "        \"counts\": {\n",
    "            \"near_dup_pairs_after_rerank\": int(len(pairs_json)),\n",
    "            \"near_dup_groups_ge2\": int(sum(1 for v in ngroups.values() if len(v) >= 2)),\n",
    "            \"exact_dup_groups_ge2\": int(sum(1 for v in exact_groups.values() if len(v) >= 2)),\n",
    "        },\n",
    "    },\n",
    "    \"documents\": docs_json,\n",
    "    \"near_duplicate_pairs\": pairs_json,\n",
    "    \"near_duplicate_groups\": near_groups_json,\n",
    "    \"exact_duplicate_groups\": exact_groups_json,\n",
    "    \"topic_clusters\": clusters_json,\n",
    "}\n",
    "\n",
    "# ---- Save\n",
    "out_path = \"web_archive_dedup_report.json\"\n",
    "with open(out_path, \"w\", encoding=\"utf-8\") as f:\n",
    "    json.dump(report, f, ensure_ascii=False, indent=2)\n",
    "\n",
    "print(\"Saved report to:\", os.path.abspath(out_path))\n",
    "print(\"Summary:\",\n",
    "      \"| docs:\", len(df_en),\n",
    "      \"| pairs:\", len(pairs_json),\n",
    "      \"| near-groups:\", sum(1 for v in ngroups.values() if len(v) >= 2),\n",
    "      \"| exact-groups:\", sum(1 for v in exact_groups.values() if len(v) >= 2),\n",
    "      \"| clusters:\", n_clusters)\n"
   ]
  },
  {
   "cell_type": "code",
   "execution_count": 125,
   "id": "e3dcd863-2205-402f-8589-2642a64549fb",
   "metadata": {},
   "outputs": [
    {
     "data": {
      "text/plain": [
       "[(0, 1, ['industry', 'num united', 'intern', 'united states', 'states']),\n",
       " (1,\n",
       "  1,\n",
       "  ['request verify',\n",
       "   'wait request',\n",
       "   'moment loader',\n",
       "   'loader wait',\n",
       "   'loader']),\n",
       " (2, 1, ['research', 'questionnaire', 'equipment', 'datum', 'num']),\n",
       " (3,\n",
       "  56,\n",
       "  ['moment loader',\n",
       "   'loader wait',\n",
       "   'request verify',\n",
       "   'wait request',\n",
       "   'loader']),\n",
       " (4, 2, ['num', 'num num', 'earthquake', 'manual se', 'earthquake manual'])]"
      ]
     },
     "execution_count": 125,
     "metadata": {},
     "output_type": "execute_result"
    }
   ],
   "source": [
    "with open(r\"C:\\Users\\huyas\\web_archive_dedup_report.json\", \"r\", encoding=\"utf-8\") as f:\n",
    "    rep = json.load(f)\n",
    "\n",
    "# largest near-dup groups\n",
    "sorted(rep[\"near_duplicate_groups\"], key=lambda g: g[\"size\"], reverse=True)[:3]\n",
    "\n",
    "# sample of strong pairs\n",
    "rep[\"near_duplicate_pairs\"][:10]\n",
    "\n",
    "# Top cluster overview\n",
    "[(c[\"cluster_id\"], c[\"size\"], c[\"top_terms\"][:5]) for c in rep[\"topic_clusters\"][:5]]\n"
   ]
  },
  {
   "cell_type": "code",
   "execution_count": 133,
   "id": "28b8aa5d-f9ab-4f54-9456-93e680d795b6",
   "metadata": {},
   "outputs": [
    {
     "name": "stdout",
     "output_type": "stream",
     "text": [
      "Saved CSV to: df_en_final.csv\n"
     ]
    }
   ],
   "source": [
    "out_csv = \"df_en_final.csv\"\n",
    "df_en.to_csv(out_csv, index=False, encoding=\"utf-8\")\n",
    "print(f\"Saved CSV to: {out_csv}\")"
   ]
  },
  {
   "cell_type": "code",
   "execution_count": null,
   "id": "e5213c7a-f363-4a53-82a9-e40f20f4d18b",
   "metadata": {},
   "outputs": [],
   "source": []
  }
 ],
 "metadata": {
  "kernelspec": {
   "display_name": "Python 3 (ipykernel)",
   "language": "python",
   "name": "python3"
  },
  "language_info": {
   "codemirror_mode": {
    "name": "ipython",
    "version": 3
   },
   "file_extension": ".py",
   "mimetype": "text/x-python",
   "name": "python",
   "nbconvert_exporter": "python",
   "pygments_lexer": "ipython3",
   "version": "3.11.13"
  }
 },
 "nbformat": 4,
 "nbformat_minor": 5
}
